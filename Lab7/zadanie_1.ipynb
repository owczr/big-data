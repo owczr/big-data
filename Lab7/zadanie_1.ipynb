{
 "cells": [
  {
   "cell_type": "code",
   "execution_count": 1,
   "metadata": {
    "collapsed": true,
    "ExecuteTime": {
     "start_time": "2023-04-23T18:28:29.972704Z",
     "end_time": "2023-04-23T18:28:33.264045Z"
    }
   },
   "outputs": [
    {
     "name": "stdout",
     "output_type": "stream",
     "text": [
      "23/04/23 18:28:31 WARN Utils: Your hostname, jakub-G3-3590 resolves to a loopback address: 127.0.1.1; using 192.168.0.102 instead (on interface enp3s0)\n",
      "23/04/23 18:28:31 WARN Utils: Set SPARK_LOCAL_IP if you need to bind to another address\n"
     ]
    },
    {
     "name": "stderr",
     "output_type": "stream",
     "text": [
      "Setting default log level to \"WARN\".\n",
      "To adjust logging level use sc.setLogLevel(newLevel). For SparkR, use setLogLevel(newLevel).\n"
     ]
    },
    {
     "name": "stdout",
     "output_type": "stream",
     "text": [
      "23/04/23 18:28:32 WARN NativeCodeLoader: Unable to load native-hadoop library for your platform... using builtin-java classes where applicable\n"
     ]
    }
   ],
   "source": [
    "from pyspark.context import SparkContext\n",
    "from pyspark.sql.session import SparkSession\n",
    "\n",
    "sc = SparkContext('local')\n",
    "spark = SparkSession(sc)\n"
   ]
  },
  {
   "cell_type": "code",
   "execution_count": 2,
   "outputs": [],
   "source": [
    "brzydki_json_path = \"../../Lab_7/brzydki.json\""
   ],
   "metadata": {
    "collapsed": false,
    "ExecuteTime": {
     "start_time": "2023-04-23T18:33:05.424209Z",
     "end_time": "2023-04-23T18:33:05.467677Z"
    }
   }
  },
  {
   "cell_type": "code",
   "execution_count": 25,
   "outputs": [],
   "source": [
    "df = spark.read.format(\"json\") \\\n",
    "    .option(\"multiline\", \"true\") \\\n",
    "    .load(brzydki_json_path) \\\n",
    "    .selectExpr(\n",
    "    \"explode(features) as feature\",\n",
    "    \"jobDetails\",\n",
    "    \"maiaExtractProcessDetails\",\n",
    ")"
   ],
   "metadata": {
    "collapsed": false,
    "ExecuteTime": {
     "start_time": "2023-04-23T18:56:13.011983Z",
     "end_time": "2023-04-23T18:56:13.090381Z"
    }
   }
  },
  {
   "cell_type": "code",
   "execution_count": 26,
   "outputs": [
    {
     "name": "stdout",
     "output_type": "stream",
     "text": [
      "+--------------------+--------------------+-------------------------+\n",
      "|             feature|          jobDetails|maiaExtractProcessDetails|\n",
      "+--------------------+--------------------+-------------------------+\n",
      "|{{[[[445751.0,244...|{2022-08-06T03:29...|     {Incremental Upda...|\n",
      "|{{[[446492.041, 2...|{2022-08-06T03:29...|     {Incremental Upda...|\n",
      "+--------------------+--------------------+-------------------------+\n",
      "\n"
     ]
    }
   ],
   "source": [
    "df.show()"
   ],
   "metadata": {
    "collapsed": false,
    "ExecuteTime": {
     "start_time": "2023-04-23T18:56:13.148731Z",
     "end_time": "2023-04-23T18:56:13.246992Z"
    }
   }
  },
  {
   "cell_type": "markdown",
   "source": [],
   "metadata": {
    "collapsed": false
   }
  },
  {
   "cell_type": "code",
   "execution_count": 38,
   "outputs": [
    {
     "name": "stdout",
     "output_type": "stream",
     "text": [
      "root\n",
      " |-- jobDetails: struct (nullable = true)\n",
      " |    |-- changesTimestamp: string (nullable = true)\n",
      " |    |-- jobId: long (nullable = true)\n",
      " |    |-- jobName: string (nullable = true)\n",
      " |    |-- jobType: string (nullable = true)\n",
      " |    |-- workspaceId: long (nullable = true)\n",
      "\n"
     ]
    }
   ],
   "source": [
    "df.selectExpr(\"jobDetails\").printSchema()"
   ],
   "metadata": {
    "collapsed": false,
    "ExecuteTime": {
     "start_time": "2023-04-23T19:07:07.615710Z",
     "end_time": "2023-04-23T19:07:07.659997Z"
    }
   }
  },
  {
   "cell_type": "code",
   "execution_count": 37,
   "outputs": [
    {
     "name": "stdout",
     "output_type": "stream",
     "text": [
      "+--------------------+------+--------------------+-------+-----------+\n",
      "|    changestimestamp| jobId|             jobName|jobType|workspaceId|\n",
      "+--------------------+------+--------------------+-------+-----------+\n",
      "|2022-08-06T03:29:46Z|345345|XSDR_344985_WGZX_...| Stereo|     345353|\n",
      "|2022-08-06T03:29:46Z|345345|XSDR_344985_WGZX_...| Stereo|     345353|\n",
      "+--------------------+------+--------------------+-------+-----------+\n",
      "\n"
     ]
    }
   ],
   "source": [
    "df_job_details = df.selectExpr(\n",
    "    \"jobDetails.changestimestamp\",\n",
    "    \"jobDetails.jobId\",\n",
    "    \"jobDetails.jobName\",\n",
    "    \"jobDetails.jobType\",\n",
    "    \"jobDetails.workspaceId\"\n",
    ")\n",
    "df_job_details.show()"
   ],
   "metadata": {
    "collapsed": false,
    "ExecuteTime": {
     "start_time": "2023-04-23T19:06:48.046170Z",
     "end_time": "2023-04-23T19:06:48.135164Z"
    }
   }
  },
  {
   "cell_type": "code",
   "execution_count": 40,
   "outputs": [
    {
     "name": "stdout",
     "output_type": "stream",
     "text": [
      "root\n",
      " |-- maiaExtractProcessDetails: struct (nullable = true)\n",
      " |    |-- extractMode: string (nullable = true)\n",
      " |    |-- extractionTimestamp: string (nullable = true)\n",
      " |    |-- extractorVersion: string (nullable = true)\n",
      " |    |-- fileSequenceNumber: long (nullable = true)\n",
      " |    |-- maiaSavepoint: string (nullable = true)\n",
      " |    |-- queryBox: string (nullable = true)\n",
      "\n"
     ]
    }
   ],
   "source": [
    "df.selectExpr(\"maiaExtractProcessDetails\").printSchema()"
   ],
   "metadata": {
    "collapsed": false,
    "ExecuteTime": {
     "start_time": "2023-04-23T19:07:48.895544Z",
     "end_time": "2023-04-23T19:07:48.935635Z"
    }
   }
  },
  {
   "cell_type": "code",
   "execution_count": 42,
   "outputs": [
    {
     "name": "stdout",
     "output_type": "stream",
     "text": [
      "+------------------+--------------------+----------------+------------------+-------------+--------+\n",
      "|       extractMode| extractionTimestamp|extractorVersion|fileSequenceNumber|maiaSavepoint|queryBox|\n",
      "+------------------+--------------------+----------------+------------------+-------------+--------+\n",
      "|Incremental Update|2022-08-06T03:30:35Z|            1.10|            110572|         null|    null|\n",
      "|Incremental Update|2022-08-06T03:30:35Z|            1.10|            110572|         null|    null|\n",
      "+------------------+--------------------+----------------+------------------+-------------+--------+\n",
      "\n"
     ]
    }
   ],
   "source": [
    "df_maia = df.selectExpr(\n",
    "    \"maiaExtractProcessDetails.extractMode\",\n",
    "    \"maiaExtractProcessDetails.extractionTimestamp\",\n",
    "    \"maiaExtractProcessDetails.extractorVersion\",\n",
    "    \"maiaExtractProcessDetails.fileSequenceNumber\",\n",
    "    \"maiaExtractProcessDetails.maiaSavepoint\",\n",
    "    \"maiaExtractProcessDetails.queryBox\",\n",
    ")\n",
    "df_maia.show()"
   ],
   "metadata": {
    "collapsed": false,
    "ExecuteTime": {
     "start_time": "2023-04-23T19:09:42.526075Z",
     "end_time": "2023-04-23T19:09:42.670906Z"
    }
   }
  },
  {
   "cell_type": "code",
   "execution_count": 43,
   "outputs": [
    {
     "name": "stdout",
     "output_type": "stream",
     "text": [
      "root\n",
      " |-- geometry: struct (nullable = true)\n",
      " |    |-- coordinates: array (nullable = true)\n",
      " |    |    |-- element: array (containsNull = true)\n",
      " |    |    |    |-- element: string (containsNull = true)\n",
      " |    |-- type: string (nullable = true)\n",
      "\n"
     ]
    }
   ],
   "source": [
    "df.selectExpr(\"feature.geometry\").printSchema()"
   ],
   "metadata": {
    "collapsed": false,
    "ExecuteTime": {
     "start_time": "2023-04-23T19:10:13.419394Z",
     "end_time": "2023-04-23T19:10:13.463573Z"
    }
   }
  },
  {
   "cell_type": "code",
   "execution_count": 56,
   "outputs": [
    {
     "name": "stdout",
     "output_type": "stream",
     "text": [
      "+--------------------+----------+\n",
      "|         coordinates|      type|\n",
      "+--------------------+----------+\n",
      "|[[[445751.0,24497...|   Polygon|\n",
      "|[[446492.041, 245...|LineString|\n",
      "+--------------------+----------+\n",
      "\n"
     ]
    }
   ],
   "source": [
    "df_feature_geometry = df.selectExpr(\n",
    "    \"feature.geometry.coordinates\",\n",
    "    \"feature.geometry.type\"\n",
    ")\n",
    "df_feature_geometry.show()"
   ],
   "metadata": {
    "collapsed": false,
    "ExecuteTime": {
     "start_time": "2023-04-23T19:20:24.675035Z",
     "end_time": "2023-04-23T19:20:24.791797Z"
    }
   }
  },
  {
   "cell_type": "code",
   "execution_count": 57,
   "outputs": [
    {
     "name": "stdout",
     "output_type": "stream",
     "text": [
      "root\n",
      " |-- properties: struct (nullable = true)\n",
      " |    |-- accessTopologyComponent: string (nullable = true)\n",
      " |    |-- administrativeExceptionComponent: string (nullable = true)\n",
      " |    |-- administrativeUnitComponent: string (nullable = true)\n",
      " |    |-- alternativeToids: array (nullable = true)\n",
      " |    |    |-- element: string (containsNull = true)\n",
      " |    |-- anomalyComponent: string (nullable = true)\n",
      " |    |-- areaHeightComponent: string (nullable = true)\n",
      " |    |-- baseFormComponent: struct (nullable = true)\n",
      " |    |    |-- applicableContracts: array (nullable = true)\n",
      " |    |    |    |-- element: string (containsNull = true)\n",
      " |    |    |-- componentId: string (nullable = true)\n",
      " |    |    |-- form: string (nullable = true)\n",
      " |    |    |-- source: string (nullable = true)\n",
      " |    |    |-- versionCreationMetadata: struct (nullable = true)\n",
      " |    |    |    |-- captureMethod: string (nullable = true)\n",
      " |    |    |    |-- confidenceLevel: string (nullable = true)\n",
      " |    |    |    |-- editDate: string (nullable = true)\n",
      " |    |    |    |-- evidenceDate: string (nullable = true)\n",
      " |    |    |    |-- jobReference: long (nullable = true)\n",
      " |    |    |    |-- reasonForChange: string (nullable = true)\n",
      " |    |    |-- versionNumber: long (nullable = true)\n",
      " |    |-- baseFunctionComponents: array (nullable = true)\n",
      " |    |    |-- element: struct (containsNull = true)\n",
      " |    |    |    |-- applicableContracts: array (nullable = true)\n",
      " |    |    |    |    |-- element: string (containsNull = true)\n",
      " |    |    |    |-- componentId: string (nullable = true)\n",
      " |    |    |    |-- function: string (nullable = true)\n",
      " |    |    |    |-- operationalStatus: string (nullable = true)\n",
      " |    |    |    |-- qualifiers: array (nullable = true)\n",
      " |    |    |    |    |-- element: string (containsNull = true)\n",
      " |    |    |    |-- source: string (nullable = true)\n",
      " |    |    |    |-- versionCreationMetadata: struct (nullable = true)\n",
      " |    |    |    |    |-- captureMethod: string (nullable = true)\n",
      " |    |    |    |    |-- confidenceLevel: string (nullable = true)\n",
      " |    |    |    |    |-- editDate: string (nullable = true)\n",
      " |    |    |    |    |-- evidenceDate: string (nullable = true)\n",
      " |    |    |    |    |-- jobReference: long (nullable = true)\n",
      " |    |    |    |    |-- reasonForChange: string (nullable = true)\n",
      " |    |    |    |-- versionNumber: long (nullable = true)\n",
      " |    |-- boundaryLinkComponent: string (nullable = true)\n",
      " |    |-- changeEventType: string (nullable = true)\n",
      " |    |-- changeHistory: array (nullable = true)\n",
      " |    |    |-- element: struct (containsNull = true)\n",
      " |    |    |    |-- changeDate: string (nullable = true)\n",
      " |    |    |    |-- reasonForChange: string (nullable = true)\n",
      " |    |-- controlComponent: string (nullable = true)\n",
      " |    |-- crossingComponent: string (nullable = true)\n",
      " |    |-- dmuComponent: string (nullable = true)\n",
      " |    |-- evidenceComponent: string (nullable = true)\n",
      " |    |-- externalSourceComponent: string (nullable = true)\n",
      " |    |-- featureGroup: string (nullable = true)\n",
      " |    |-- featureId: string (nullable = true)\n",
      " |    |-- geometricZoneComponent: string (nullable = true)\n",
      " |    |-- gradeSeparationComponent: struct (nullable = true)\n",
      " |    |    |-- applicableContracts: array (nullable = true)\n",
      " |    |    |    |-- element: string (containsNull = true)\n",
      " |    |    |-- componentId: string (nullable = true)\n",
      " |    |    |-- gradeAtEnd: long (nullable = true)\n",
      " |    |    |-- gradeAtStart: long (nullable = true)\n",
      " |    |    |-- source: string (nullable = true)\n",
      " |    |    |-- versionCreationMetadata: struct (nullable = true)\n",
      " |    |    |    |-- captureMethod: string (nullable = true)\n",
      " |    |    |    |-- confidenceLevel: string (nullable = true)\n",
      " |    |    |    |-- editDate: string (nullable = true)\n",
      " |    |    |    |-- evidenceDate: string (nullable = true)\n",
      " |    |    |    |-- jobReference: long (nullable = true)\n",
      " |    |    |    |-- reasonForChange: string (nullable = true)\n",
      " |    |    |-- versionNumber: long (nullable = true)\n",
      " |    |-- hasContentDefinedByComponent: string (nullable = true)\n",
      " |    |-- hasDetailDefinedByComponent: struct (nullable = true)\n",
      " |    |    |-- applicableContracts: array (nullable = true)\n",
      " |    |    |    |-- element: string (containsNull = true)\n",
      " |    |    |-- componentId: string (nullable = true)\n",
      " |    |    |-- networkLinkReferences: array (nullable = true)\n",
      " |    |    |    |-- element: string (containsNull = true)\n",
      " |    |    |-- networkNodeReferences: array (nullable = true)\n",
      " |    |    |    |-- element: string (containsNull = true)\n",
      " |    |    |-- source: string (nullable = true)\n",
      " |    |    |-- versionCreationMetadata: struct (nullable = true)\n",
      " |    |    |    |-- captureMethod: string (nullable = true)\n",
      " |    |    |    |-- confidenceLevel: string (nullable = true)\n",
      " |    |    |    |-- editDate: string (nullable = true)\n",
      " |    |    |    |-- evidenceDate: string (nullable = true)\n",
      " |    |    |    |-- jobReference: long (nullable = true)\n",
      " |    |    |    |-- reasonForChange: string (nullable = true)\n",
      " |    |    |-- versionNumber: long (nullable = true)\n",
      " |    |    |-- waterLinkReferences: array (nullable = true)\n",
      " |    |    |    |-- element: string (containsNull = true)\n",
      " |    |-- hasParentComponent: string (nullable = true)\n",
      " |    |-- heightDatumComponent: string (nullable = true)\n",
      " |    |-- indicatesBeginningOfComponent: string (nullable = true)\n",
      " |    |-- interactsComponent: string (nullable = true)\n",
      " |    |-- jobReference: long (nullable = true)\n",
      " |    |-- legalDocumentAttribution: string (nullable = true)\n",
      " |    |-- lifecycleStatusComponent: struct (nullable = true)\n",
      " |    |    |-- applicableContracts: array (nullable = true)\n",
      " |    |    |    |-- element: string (containsNull = true)\n",
      " |    |    |-- componentId: string (nullable = true)\n",
      " |    |    |-- lifecycleStatus: string (nullable = true)\n",
      " |    |    |-- source: string (nullable = true)\n",
      " |    |    |-- versionCreationMetadata: struct (nullable = true)\n",
      " |    |    |    |-- captureMethod: string (nullable = true)\n",
      " |    |    |    |-- confidenceLevel: string (nullable = true)\n",
      " |    |    |    |-- editDate: string (nullable = true)\n",
      " |    |    |    |-- evidenceDate: string (nullable = true)\n",
      " |    |    |    |-- jobReference: long (nullable = true)\n",
      " |    |    |    |-- reasonForChange: string (nullable = true)\n",
      " |    |    |-- versionNumber: long (nullable = true)\n",
      " |    |-- linearHeightComponent: struct (nullable = true)\n",
      " |    |    |-- applicableContracts: array (nullable = true)\n",
      " |    |    |    |-- element: string (containsNull = true)\n",
      " |    |    |-- componentId: string (nullable = true)\n",
      " |    |    |-- heightLocationType: string (nullable = true)\n",
      " |    |    |-- lastInterpolationDate: string (nullable = true)\n",
      " |    |    |-- source: string (nullable = true)\n",
      " |    |    |-- versionCreationMetadata: struct (nullable = true)\n",
      " |    |    |    |-- captureMethod: string (nullable = true)\n",
      " |    |    |    |-- confidenceLevel: string (nullable = true)\n",
      " |    |    |    |-- editDate: string (nullable = true)\n",
      " |    |    |    |-- evidenceDate: string (nullable = true)\n",
      " |    |    |    |-- jobReference: long (nullable = true)\n",
      " |    |    |    |-- reasonForChange: string (nullable = true)\n",
      " |    |    |-- versionNumber: long (nullable = true)\n",
      " |    |-- linkTopologyComponent: struct (nullable = true)\n",
      " |    |    |-- applicableContracts: array (nullable = true)\n",
      " |    |    |    |-- element: string (containsNull = true)\n",
      " |    |    |-- componentId: string (nullable = true)\n",
      " |    |    |-- endNetworkNodeReference: string (nullable = true)\n",
      " |    |    |-- endOverheadSupportAreaReference: string (nullable = true)\n",
      " |    |    |-- endOverheadSupportPointReference: string (nullable = true)\n",
      " |    |    |-- endWaterNodeReference: string (nullable = true)\n",
      " |    |    |-- source: string (nullable = true)\n",
      " |    |    |-- startNetworkNodeReference: string (nullable = true)\n",
      " |    |    |-- startOverheadSupportAreaReference: string (nullable = true)\n",
      " |    |    |-- startOverheadSupportPointReference: string (nullable = true)\n",
      " |    |    |-- startWaterNodeReference: string (nullable = true)\n",
      " |    |    |-- versionCreationMetadata: struct (nullable = true)\n",
      " |    |    |    |-- captureMethod: string (nullable = true)\n",
      " |    |    |    |-- confidenceLevel: string (nullable = true)\n",
      " |    |    |    |-- editDate: string (nullable = true)\n",
      " |    |    |    |-- evidenceDate: string (nullable = true)\n",
      " |    |    |    |-- jobReference: long (nullable = true)\n",
      " |    |    |    |-- reasonForChange: string (nullable = true)\n",
      " |    |    |-- versionNumber: long (nullable = true)\n",
      " |    |-- maintainersNoteComponent: string (nullable = true)\n",
      " |    |-- nameComponents: array (nullable = true)\n",
      " |    |    |-- element: struct (containsNull = true)\n",
      " |    |    |    |-- applicableContracts: array (nullable = true)\n",
      " |    |    |    |    |-- element: string (containsNull = true)\n",
      " |    |    |    |-- authorities: array (nullable = true)\n",
      " |    |    |    |    |-- element: struct (containsNull = true)\n",
      " |    |    |    |    |    |-- authorisingRole: string (nullable = true)\n",
      " |    |    |    |    |    |-- authorityType: string (nullable = true)\n",
      " |    |    |    |    |    |-- confirmationDate: string (nullable = true)\n",
      " |    |    |    |    |    |-- confirmationType: string (nullable = true)\n",
      " |    |    |    |    |    |-- note: string (nullable = true)\n",
      " |    |    |    |-- componentId: string (nullable = true)\n",
      " |    |    |    |-- distinctiveNameOrNumber: string (nullable = true)\n",
      " |    |    |    |-- language: string (nullable = true)\n",
      " |    |    |    |-- source: string (nullable = true)\n",
      " |    |    |    |-- versionCreationMetadata: struct (nullable = true)\n",
      " |    |    |    |    |-- captureMethod: string (nullable = true)\n",
      " |    |    |    |    |-- confidenceLevel: string (nullable = true)\n",
      " |    |    |    |    |-- editDate: string (nullable = true)\n",
      " |    |    |    |    |-- evidenceDate: string (nullable = true)\n",
      " |    |    |    |    |-- jobReference: long (nullable = true)\n",
      " |    |    |    |    |-- reasonForChange: string (nullable = true)\n",
      " |    |    |    |-- versionNumber: long (nullable = true)\n",
      " |    |-- networkReferenceComponent: string (nullable = true)\n",
      " |    |-- oneWayRouteInformationComponent: string (nullable = true)\n",
      " |    |-- overheadNodeComponent: string (nullable = true)\n",
      " |    |-- overheadPointsComponent: string (nullable = true)\n",
      " |    |-- physicalRestrictionComponent: string (nullable = true)\n",
      " |    |-- planarAreaLocationComponent: struct (nullable = true)\n",
      " |    |    |-- applicableContracts: array (nullable = true)\n",
      " |    |    |    |-- element: string (containsNull = true)\n",
      " |    |    |-- authorities: array (nullable = true)\n",
      " |    |    |    |-- element: string (containsNull = true)\n",
      " |    |    |-- componentId: string (nullable = true)\n",
      " |    |    |-- locationType: string (nullable = true)\n",
      " |    |    |-- source: string (nullable = true)\n",
      " |    |    |-- vagueness: string (nullable = true)\n",
      " |    |    |-- versionCreationMetadata: struct (nullable = true)\n",
      " |    |    |    |-- captureMethod: string (nullable = true)\n",
      " |    |    |    |-- confidenceLevel: string (nullable = true)\n",
      " |    |    |    |-- editDate: string (nullable = true)\n",
      " |    |    |    |-- evidenceDate: string (nullable = true)\n",
      " |    |    |    |-- jobReference: long (nullable = true)\n",
      " |    |    |    |-- reasonForChange: string (nullable = true)\n",
      " |    |    |-- versionNumber: long (nullable = true)\n",
      " |    |-- planarLinearLocationComponent: struct (nullable = true)\n",
      " |    |    |-- applicableContracts: array (nullable = true)\n",
      " |    |    |    |-- element: string (containsNull = true)\n",
      " |    |    |-- authorities: array (nullable = true)\n",
      " |    |    |    |-- element: string (containsNull = true)\n",
      " |    |    |-- componentId: string (nullable = true)\n",
      " |    |    |-- locationType: string (nullable = true)\n",
      " |    |    |-- source: string (nullable = true)\n",
      " |    |    |-- vagueness: string (nullable = true)\n",
      " |    |    |-- versionCreationMetadata: struct (nullable = true)\n",
      " |    |    |    |-- captureMethod: string (nullable = true)\n",
      " |    |    |    |-- confidenceLevel: string (nullable = true)\n",
      " |    |    |    |-- editDate: string (nullable = true)\n",
      " |    |    |    |-- evidenceDate: string (nullable = true)\n",
      " |    |    |    |-- jobReference: long (nullable = true)\n",
      " |    |    |    |-- reasonForChange: string (nullable = true)\n",
      " |    |    |-- versionNumber: long (nullable = true)\n",
      " |    |-- planarPointLocationComponent: string (nullable = true)\n",
      " |    |-- pointHeightComponent: string (nullable = true)\n",
      " |    |-- primaryStructureComponent: string (nullable = true)\n",
      " |    |-- roadLinkComponent: struct (nullable = true)\n",
      " |    |    |-- applicableContracts: array (nullable = true)\n",
      " |    |    |    |-- element: string (containsNull = true)\n",
      " |    |    |-- componentId: string (nullable = true)\n",
      " |    |    |-- isPrimary: boolean (nullable = true)\n",
      " |    |    |-- isTrunk: boolean (nullable = true)\n",
      " |    |    |-- source: string (nullable = true)\n",
      " |    |    |-- versionCreationMetadata: struct (nullable = true)\n",
      " |    |    |    |-- captureMethod: string (nullable = true)\n",
      " |    |    |    |-- confidenceLevel: string (nullable = true)\n",
      " |    |    |    |-- editDate: string (nullable = true)\n",
      " |    |    |    |-- evidenceDate: string (nullable = true)\n",
      " |    |    |    |-- jobReference: long (nullable = true)\n",
      " |    |    |    |-- reasonForChange: string (nullable = true)\n",
      " |    |    |-- versionNumber: long (nullable = true)\n",
      " |    |-- routeLocationComponent: string (nullable = true)\n",
      " |    |-- siteNodeComponent: string (nullable = true)\n",
      " |    |-- stakeholderComponents: array (nullable = true)\n",
      " |    |    |-- element: string (containsNull = true)\n",
      " |    |-- symbolCartographyComponents: array (nullable = true)\n",
      " |    |    |-- element: string (containsNull = true)\n",
      " |    |-- textCartographyComponents: array (nullable = true)\n",
      " |    |    |-- element: struct (containsNull = true)\n",
      " |    |    |    |-- applicableContracts: array (nullable = true)\n",
      " |    |    |    |    |-- element: string (containsNull = true)\n",
      " |    |    |    |-- componentId: string (nullable = true)\n",
      " |    |    |    |-- source: string (nullable = true)\n",
      " |    |    |    |-- textElements: array (nullable = true)\n",
      " |    |    |    |    |-- element: struct (containsNull = true)\n",
      " |    |    |    |    |    |-- anchorPoint: string (nullable = true)\n",
      " |    |    |    |    |    |-- font: string (nullable = true)\n",
      " |    |    |    |    |    |-- fontHeight: string (nullable = true)\n",
      " |    |    |    |    |    |-- groupOrder: long (nullable = true)\n",
      " |    |    |    |    |    |-- orientation: double (nullable = true)\n",
      " |    |    |    |    |    |-- position: struct (nullable = true)\n",
      " |    |    |    |    |    |    |-- coordinates: array (nullable = true)\n",
      " |    |    |    |    |    |    |    |-- element: double (containsNull = true)\n",
      " |    |    |    |    |    |    |-- type: string (nullable = true)\n",
      " |    |    |    |    |    |-- textString: string (nullable = true)\n",
      " |    |    |    |-- versionCreationMetadata: struct (nullable = true)\n",
      " |    |    |    |    |-- captureMethod: string (nullable = true)\n",
      " |    |    |    |    |-- confidenceLevel: string (nullable = true)\n",
      " |    |    |    |    |-- editDate: string (nullable = true)\n",
      " |    |    |    |    |-- evidenceDate: string (nullable = true)\n",
      " |    |    |    |    |-- jobReference: long (nullable = true)\n",
      " |    |    |    |    |-- reasonForChange: string (nullable = true)\n",
      " |    |    |    |-- versionNumber: long (nullable = true)\n",
      " |    |-- thirdPartyInformationComponent: string (nullable = true)\n",
      " |    |-- tideInformationComponent: string (nullable = true)\n",
      " |    |-- toid: string (nullable = true)\n",
      " |    |-- topo93SeedGeometryComponent: string (nullable = true)\n",
      " |    |-- validFromTimestamp: string (nullable = true)\n",
      " |    |-- waterFlowComponent: string (nullable = true)\n",
      " |    |-- waterNavigabilityComponent: string (nullable = true)\n",
      " |    |-- waterPermanenceComponent: string (nullable = true)\n",
      " |    |-- waterProvenanceComponent: string (nullable = true)\n",
      " |    |-- zoneLocationComponent: string (nullable = true)\n",
      "\n"
     ]
    }
   ],
   "source": [
    "df.selectExpr(\"feature.properties\").printSchema()"
   ],
   "metadata": {
    "collapsed": false,
    "ExecuteTime": {
     "start_time": "2023-04-23T19:20:24.791492Z",
     "end_time": "2023-04-23T19:20:24.819422Z"
    }
   }
  },
  {
   "cell_type": "code",
   "execution_count": 58,
   "outputs": [
    {
     "name": "stdout",
     "output_type": "stream",
     "text": [
      "+-----------------------+--------------------------------+---------------------------+----------------+\n",
      "|accessTopologyComponent|administrativeExceptionComponent|administrativeUnitComponent|alternativeToids|\n",
      "+-----------------------+--------------------------------+---------------------------+----------------+\n",
      "|                   null|                            null|                       null|              []|\n",
      "|                   null|                            null|                       null|              []|\n",
      "+-----------------------+--------------------------------+---------------------------+----------------+\n",
      "\n"
     ]
    }
   ],
   "source": [
    "df_properties = df.selectExpr(\n",
    "    \"feature.properties.accessTopologyComponent\",\n",
    "    \"feature.properties.administrativeExceptionComponent\",\n",
    "    \"feature.properties.administrativeUnitComponent\",\n",
    "    \"feature.properties.alternativeToids\",\n",
    ")\n",
    "df_properties.show()"
   ],
   "metadata": {
    "collapsed": false,
    "ExecuteTime": {
     "start_time": "2023-04-23T19:20:24.891837Z",
     "end_time": "2023-04-23T19:20:24.972997Z"
    }
   }
  },
  {
   "cell_type": "code",
   "execution_count": 67,
   "outputs": [
    {
     "name": "stdout",
     "output_type": "stream",
     "text": [
      "+-------------+---------------+----------+------------+------------+---------------+\n",
      "|captureMethod|confidenceLevel|  editDate|evidenceDate|jobReference|reasonForChange|\n",
      "+-------------+---------------+----------+------------+------------+---------------+\n",
      "|      Unknown|      Confident|2005-09-20|  2005-09-20|           0|     Refinement|\n",
      "|   Collection|      Confident|2018-07-26|  2018-07-26|    42334591|           Real|\n",
      "+-------------+---------------+----------+------------+------------+---------------+\n",
      "\n"
     ]
    }
   ],
   "source": [
    "df_base_form_component = df.selectExpr(\n",
    "    \"feature.properties.baseFormComponent.versionCreationMetaData.*\"\n",
    ")\n",
    "df_base_form_component.show()"
   ],
   "metadata": {
    "collapsed": false,
    "ExecuteTime": {
     "start_time": "2023-04-23T19:24:26.513627Z",
     "end_time": "2023-04-23T19:24:26.590964Z"
    }
   }
  },
  {
   "cell_type": "code",
   "execution_count": null,
   "outputs": [],
   "source": [],
   "metadata": {
    "collapsed": false
   }
  }
 ],
 "metadata": {
  "kernelspec": {
   "display_name": "Python 3",
   "language": "python",
   "name": "python3"
  },
  "language_info": {
   "codemirror_mode": {
    "name": "ipython",
    "version": 2
   },
   "file_extension": ".py",
   "mimetype": "text/x-python",
   "name": "python",
   "nbconvert_exporter": "python",
   "pygments_lexer": "ipython2",
   "version": "2.7.6"
  }
 },
 "nbformat": 4,
 "nbformat_minor": 0
}
