{
 "cells": [
  {
   "cell_type": "code",
   "execution_count": 1,
   "outputs": [
    {
     "name": "stdout",
     "output_type": "stream",
     "text": [
      "23/04/18 21:57:15 WARN Utils: Your hostname, jakub-G3-3590 resolves to a loopback address: 127.0.1.1; using 192.168.0.102 instead (on interface enp3s0)\n",
      "23/04/18 21:57:15 WARN Utils: Set SPARK_LOCAL_IP if you need to bind to another address\n"
     ]
    },
    {
     "name": "stderr",
     "output_type": "stream",
     "text": [
      "Setting default log level to \"WARN\".\n",
      "To adjust logging level use sc.setLogLevel(newLevel). For SparkR, use setLogLevel(newLevel).\n"
     ]
    },
    {
     "name": "stdout",
     "output_type": "stream",
     "text": [
      "23/04/18 21:57:16 WARN NativeCodeLoader: Unable to load native-hadoop library for your platform... using builtin-java classes where applicable\n"
     ]
    }
   ],
   "source": [
    "from pyspark.context import SparkContext\n",
    "from pyspark.sql.session import SparkSession\n",
    "\n",
    "sc = SparkContext('local')\n",
    "spark = SparkSession(sc)"
   ],
   "metadata": {
    "collapsed": false,
    "ExecuteTime": {
     "start_time": "2023-04-18T21:57:14.303692Z",
     "end_time": "2023-04-18T21:57:17.197755Z"
    }
   }
  },
  {
   "cell_type": "markdown",
   "source": [
    "Wykorzystaj dane z bazy 'svrsqldev1.database.windows.net'\n",
    "||\n",
    "|--|\n",
    "|SalesLT.Customer|\n",
    "|SalesLT.ProductModel|\n",
    "|SalesLT.vProductModelCatalogDescription|\n",
    "|SalesLT.ProductDescription|\n",
    "|SalesLT.Product|\n",
    "|SalesLT.ProductModelProductDescription|\n",
    "|SalesLT.vProductAndDescription|\n",
    "|SalesLT.ProductCategory|\n",
    "|SalesLT.vGetAllCategories|\n",
    "|SalesLT.Address|\n",
    "|SalesLT.CustomerAddress|\n",
    "|SalesLT.SalesOrderDetail|\n",
    "|SalesLT.SalesOrderHeader|"
   ],
   "metadata": {
    "collapsed": false
   }
  },
  {
   "cell_type": "markdown",
   "source": [
    "1. Po bierz wszystkie tabele z schematu SalesLt i zapisz lokalnie bez modyfikacji w formacie delta"
   ],
   "metadata": {
    "collapsed": false
   }
  },
  {
   "cell_type": "markdown",
   "source": [
    "Dla Chętnych\n",
    " Uzycie Nulls, fill, drop, replace\n",
    " * W kilku z tabel sprawdź ile jest nulls w kolumnach\n",
    " * Użyj funkcji fill żeby dodać wartości nie występujące w kolumnach dla wybranych tabel z null\n",
    " * Użyj funkcji drop żeby usunąć nulle.\n",
    " * Jakie są 3 najlepiej się sprzedające produkty?\n",
    " * Skąd są kupujący, który kupili te najlepsze produkty"
   ],
   "metadata": {
    "collapsed": false
   }
  },
  {
   "cell_type": "markdown",
   "source": [
    "# Zadanie 1\n",
    "##  Product tables"
   ],
   "metadata": {
    "collapsed": false
   }
  },
  {
   "cell_type": "code",
   "execution_count": 3,
   "outputs": [],
   "source": [
    "product_path = \"../../Lab_6/Product.csv\"\n",
    "product_description_path = \"../../Lab_6/ProductDescription.csv\"\n",
    "product_model_path = \"../../Lab_6/ProductModel.csv\"\n",
    "product_model_description_path = \"../../Lab_6/ProductModelProductDescription.csv\""
   ],
   "metadata": {
    "collapsed": false,
    "ExecuteTime": {
     "start_time": "2023-04-18T21:57:54.604116Z",
     "end_time": "2023-04-18T21:57:54.621315Z"
    }
   }
  },
  {
   "cell_type": "markdown",
   "source": [
    "### Loading Data"
   ],
   "metadata": {
    "collapsed": false
   }
  },
  {
   "cell_type": "code",
   "execution_count": 48,
   "outputs": [],
   "source": [
    "df_product = spark.read.format(\"csv\").option(\"header\", \"true\").option(\"inferSchema\", \"true\").load(product_path)\n",
    "df_description = spark.read.format(\"csv\").option(\"header\", \"true\").option(\"inferSchema\", \"true\").load(product_description_path)\n",
    "df_model = spark.read.format(\"csv\").option(\"header\", \"true\").option(\"inferSchema\", \"true\").load(product_model_path)\n",
    "df_model_description = spark.read.format(\"csv\").option(\"header\", \"true\").option(\"inferSchema\", \"true\").load(product_model_description_path)"
   ],
   "metadata": {
    "collapsed": false
   }
  },
  {
   "cell_type": "markdown",
   "source": [
    "### Joining DataFrames"
   ],
   "metadata": {
    "collapsed": false
   }
  },
  {
   "cell_type": "code",
   "execution_count": 49,
   "outputs": [],
   "source": [
    "df_join_inner = df_product.join(df_model).join(df_model_description).join(df_description)"
   ],
   "metadata": {
    "collapsed": false
   }
  },
  {
   "cell_type": "code",
   "execution_count": 50,
   "outputs": [],
   "source": [
    "df_join_left = df_product.join(df_model, how=\"left\").join(df_model_description, how=\"left\").join(df_description, how=\"left\")"
   ],
   "metadata": {
    "collapsed": false
   }
  },
  {
   "cell_type": "code",
   "execution_count": 51,
   "outputs": [],
   "source": [
    "df_join_right = df_product.join(df_model, how=\"right\").join(df_model_description, how=\"right\").join(df_description, how=\"right\")"
   ],
   "metadata": {
    "collapsed": false
   }
  },
  {
   "cell_type": "code",
   "execution_count": 52,
   "outputs": [],
   "source": [
    "df_join_outer = df_product.join(df_model, how=\"outer\").join(df_model_description, how=\"outer\").join(df_description, how=\"outer\")"
   ],
   "metadata": {
    "collapsed": false
   }
  },
  {
   "cell_type": "code",
   "execution_count": 53,
   "outputs": [],
   "source": [
    "df_join_left_semi = df_product.join(df_model, how=\"left_semi\").join(df_model_description, how=\"left_semi\").join(df_description, how=\"left_semi\")"
   ],
   "metadata": {
    "collapsed": false
   }
  },
  {
   "cell_type": "code",
   "execution_count": 54,
   "outputs": [],
   "source": [
    "df_join_left_anti = df_product.join(df_model, how=\"left_anti\").join(df_model_description, how=\"left_anti\").join(df_description, how=\"left_anti\")"
   ],
   "metadata": {
    "collapsed": false
   }
  },
  {
   "cell_type": "code",
   "execution_count": 55,
   "outputs": [],
   "source": [
    "dataframes = [df_join_inner, df_join_left, df_join_right, df_join_outer, df_join_left_semi, df_join_left_anti]"
   ],
   "metadata": {
    "collapsed": false
   }
  },
  {
   "cell_type": "markdown",
   "source": [
    "### Explaining"
   ],
   "metadata": {
    "collapsed": false
   }
  },
  {
   "cell_type": "code",
   "execution_count": 37,
   "outputs": [
    {
     "name": "stdout",
     "output_type": "stream",
     "text": [
      "== Physical Plan ==\n",
      "AdaptiveSparkPlan isFinalPlan=false\n",
      "+- BroadcastNestedLoopJoin BuildRight, Inner\n",
      "   :- BroadcastNestedLoopJoin BuildRight, Inner\n",
      "   :  :- BroadcastNestedLoopJoin BuildRight, Inner\n",
      "   :  :  :- FileScan csv [ProductID#52,Name#53,ProductNumber#54,Color#55,StandardCost#56,ListPrice#57,Size#58,Weight#59,ProductCategoryID#60,ProductModelID#61,SellStartDate#62,SellEndDate#63,DiscontinuedDate#64,ThumbNailPhoto#65,ThumbnailPhotoFileName#66,rowguid#67,ModifiedDate#68] Batched: false, DataFilters: [], Format: CSV, Location: InMemoryFileIndex(1 paths)[file:/home/jakub/Studies/bigdata/Lab_6/Product.csv], PartitionFilters: [], PushedFilters: [], ReadSchema: struct<ProductID:int,Name:string,ProductNumber:string,Color:string,StandardCost:double,ListPrice:...\n",
      "   :  :  +- BroadcastExchange IdentityBroadcastMode, [plan_id=801]\n",
      "   :  :     +- FileScan csv [ProductModelID#128,Name#129,CatalogDescription#130,rowguid#131,ModifiedDate#132] Batched: false, DataFilters: [], Format: CSV, Location: InMemoryFileIndex(1 paths)[file:/home/jakub/Studies/bigdata/Lab_6/ProductModel.csv], PartitionFilters: [], PushedFilters: [], ReadSchema: struct<ProductModelID:string,Name:string,CatalogDescription:string,rowguid:string,ModifiedDate:ti...\n",
      "   :  +- BroadcastExchange IdentityBroadcastMode, [plan_id=804]\n",
      "   :     +- FileScan csv [ProductModelID#155,ProductDescriptionID#156,Culture#157,rowguid#158,ModifiedDate#159] Batched: false, DataFilters: [], Format: CSV, Location: InMemoryFileIndex(1 paths)[file:/home/jakub/Studies/bigdata/Lab_6/ProductModelProductDescription...., PartitionFilters: [], PushedFilters: [], ReadSchema: struct<ProductModelID:int,ProductDescriptionID:int,Culture:string,rowguid:string,ModifiedDate:tim...\n",
      "   +- BroadcastExchange IdentityBroadcastMode, [plan_id=807]\n",
      "      +- FileScan csv [ProductDescriptionID#103,Description#104,rowguid#105,ModifiedDate#106] Batched: false, DataFilters: [], Format: CSV, Location: InMemoryFileIndex(1 paths)[file:/home/jakub/Studies/bigdata/Lab_6/ProductDescription.csv], PartitionFilters: [], PushedFilters: [], ReadSchema: struct<ProductDescriptionID:int,Description:string,rowguid:string,ModifiedDate:string>\n",
      "\n",
      "\n",
      "== Physical Plan ==\n",
      "AdaptiveSparkPlan isFinalPlan=false\n",
      "+- BroadcastNestedLoopJoin BuildRight, LeftOuter\n",
      "   :- BroadcastNestedLoopJoin BuildRight, LeftOuter\n",
      "   :  :- BroadcastNestedLoopJoin BuildRight, LeftOuter\n",
      "   :  :  :- FileScan csv [ProductID#52,Name#53,ProductNumber#54,Color#55,StandardCost#56,ListPrice#57,Size#58,Weight#59,ProductCategoryID#60,ProductModelID#61,SellStartDate#62,SellEndDate#63,DiscontinuedDate#64,ThumbNailPhoto#65,ThumbnailPhotoFileName#66,rowguid#67,ModifiedDate#68] Batched: false, DataFilters: [], Format: CSV, Location: InMemoryFileIndex(1 paths)[file:/home/jakub/Studies/bigdata/Lab_6/Product.csv], PartitionFilters: [], PushedFilters: [], ReadSchema: struct<ProductID:int,Name:string,ProductNumber:string,Color:string,StandardCost:double,ListPrice:...\n",
      "   :  :  +- BroadcastExchange IdentityBroadcastMode, [plan_id=837]\n",
      "   :  :     +- FileScan csv [ProductModelID#128,Name#129,CatalogDescription#130,rowguid#131,ModifiedDate#132] Batched: false, DataFilters: [], Format: CSV, Location: InMemoryFileIndex(1 paths)[file:/home/jakub/Studies/bigdata/Lab_6/ProductModel.csv], PartitionFilters: [], PushedFilters: [], ReadSchema: struct<ProductModelID:string,Name:string,CatalogDescription:string,rowguid:string,ModifiedDate:ti...\n",
      "   :  +- BroadcastExchange IdentityBroadcastMode, [plan_id=840]\n",
      "   :     +- FileScan csv [ProductModelID#155,ProductDescriptionID#156,Culture#157,rowguid#158,ModifiedDate#159] Batched: false, DataFilters: [], Format: CSV, Location: InMemoryFileIndex(1 paths)[file:/home/jakub/Studies/bigdata/Lab_6/ProductModelProductDescription...., PartitionFilters: [], PushedFilters: [], ReadSchema: struct<ProductModelID:int,ProductDescriptionID:int,Culture:string,rowguid:string,ModifiedDate:tim...\n",
      "   +- BroadcastExchange IdentityBroadcastMode, [plan_id=843]\n",
      "      +- FileScan csv [ProductDescriptionID#103,Description#104,rowguid#105,ModifiedDate#106] Batched: false, DataFilters: [], Format: CSV, Location: InMemoryFileIndex(1 paths)[file:/home/jakub/Studies/bigdata/Lab_6/ProductDescription.csv], PartitionFilters: [], PushedFilters: [], ReadSchema: struct<ProductDescriptionID:int,Description:string,rowguid:string,ModifiedDate:string>\n",
      "\n",
      "\n",
      "== Physical Plan ==\n",
      "AdaptiveSparkPlan isFinalPlan=false\n",
      "+- BroadcastNestedLoopJoin BuildRight, RightOuter\n",
      "   :- BroadcastNestedLoopJoin BuildRight, RightOuter\n",
      "   :  :- BroadcastNestedLoopJoin BuildLeft, RightOuter\n",
      "   :  :  :- BroadcastExchange IdentityBroadcastMode, [plan_id=873]\n",
      "   :  :  :  +- FileScan csv [ProductID#52,Name#53,ProductNumber#54,Color#55,StandardCost#56,ListPrice#57,Size#58,Weight#59,ProductCategoryID#60,ProductModelID#61,SellStartDate#62,SellEndDate#63,DiscontinuedDate#64,ThumbNailPhoto#65,ThumbnailPhotoFileName#66,rowguid#67,ModifiedDate#68] Batched: false, DataFilters: [], Format: CSV, Location: InMemoryFileIndex(1 paths)[file:/home/jakub/Studies/bigdata/Lab_6/Product.csv], PartitionFilters: [], PushedFilters: [], ReadSchema: struct<ProductID:int,Name:string,ProductNumber:string,Color:string,StandardCost:double,ListPrice:...\n",
      "   :  :  +- FileScan csv [ProductModelID#128,Name#129,CatalogDescription#130,rowguid#131,ModifiedDate#132] Batched: false, DataFilters: [], Format: CSV, Location: InMemoryFileIndex(1 paths)[file:/home/jakub/Studies/bigdata/Lab_6/ProductModel.csv], PartitionFilters: [], PushedFilters: [], ReadSchema: struct<ProductModelID:string,Name:string,CatalogDescription:string,rowguid:string,ModifiedDate:ti...\n",
      "   :  +- BroadcastExchange IdentityBroadcastMode, [plan_id=876]\n",
      "   :     +- FileScan csv [ProductModelID#155,ProductDescriptionID#156,Culture#157,rowguid#158,ModifiedDate#159] Batched: false, DataFilters: [], Format: CSV, Location: InMemoryFileIndex(1 paths)[file:/home/jakub/Studies/bigdata/Lab_6/ProductModelProductDescription...., PartitionFilters: [], PushedFilters: [], ReadSchema: struct<ProductModelID:int,ProductDescriptionID:int,Culture:string,rowguid:string,ModifiedDate:tim...\n",
      "   +- BroadcastExchange IdentityBroadcastMode, [plan_id=879]\n",
      "      +- FileScan csv [ProductDescriptionID#103,Description#104,rowguid#105,ModifiedDate#106] Batched: false, DataFilters: [], Format: CSV, Location: InMemoryFileIndex(1 paths)[file:/home/jakub/Studies/bigdata/Lab_6/ProductDescription.csv], PartitionFilters: [], PushedFilters: [], ReadSchema: struct<ProductDescriptionID:int,Description:string,rowguid:string,ModifiedDate:string>\n",
      "\n",
      "\n",
      "== Physical Plan ==\n",
      "AdaptiveSparkPlan isFinalPlan=false\n",
      "+- BroadcastNestedLoopJoin BuildRight, FullOuter\n",
      "   :- BroadcastNestedLoopJoin BuildRight, FullOuter\n",
      "   :  :- BroadcastNestedLoopJoin BuildRight, FullOuter\n",
      "   :  :  :- FileScan csv [ProductID#52,Name#53,ProductNumber#54,Color#55,StandardCost#56,ListPrice#57,Size#58,Weight#59,ProductCategoryID#60,ProductModelID#61,SellStartDate#62,SellEndDate#63,DiscontinuedDate#64,ThumbNailPhoto#65,ThumbnailPhotoFileName#66,rowguid#67,ModifiedDate#68] Batched: false, DataFilters: [], Format: CSV, Location: InMemoryFileIndex(1 paths)[file:/home/jakub/Studies/bigdata/Lab_6/Product.csv], PartitionFilters: [], PushedFilters: [], ReadSchema: struct<ProductID:int,Name:string,ProductNumber:string,Color:string,StandardCost:double,ListPrice:...\n",
      "   :  :  +- BroadcastExchange IdentityBroadcastMode, [plan_id=909]\n",
      "   :  :     +- FileScan csv [ProductModelID#128,Name#129,CatalogDescription#130,rowguid#131,ModifiedDate#132] Batched: false, DataFilters: [], Format: CSV, Location: InMemoryFileIndex(1 paths)[file:/home/jakub/Studies/bigdata/Lab_6/ProductModel.csv], PartitionFilters: [], PushedFilters: [], ReadSchema: struct<ProductModelID:string,Name:string,CatalogDescription:string,rowguid:string,ModifiedDate:ti...\n",
      "   :  +- BroadcastExchange IdentityBroadcastMode, [plan_id=912]\n",
      "   :     +- FileScan csv [ProductModelID#155,ProductDescriptionID#156,Culture#157,rowguid#158,ModifiedDate#159] Batched: false, DataFilters: [], Format: CSV, Location: InMemoryFileIndex(1 paths)[file:/home/jakub/Studies/bigdata/Lab_6/ProductModelProductDescription...., PartitionFilters: [], PushedFilters: [], ReadSchema: struct<ProductModelID:int,ProductDescriptionID:int,Culture:string,rowguid:string,ModifiedDate:tim...\n",
      "   +- BroadcastExchange IdentityBroadcastMode, [plan_id=915]\n",
      "      +- FileScan csv [ProductDescriptionID#103,Description#104,rowguid#105,ModifiedDate#106] Batched: false, DataFilters: [], Format: CSV, Location: InMemoryFileIndex(1 paths)[file:/home/jakub/Studies/bigdata/Lab_6/ProductDescription.csv], PartitionFilters: [], PushedFilters: [], ReadSchema: struct<ProductDescriptionID:int,Description:string,rowguid:string,ModifiedDate:string>\n",
      "\n",
      "\n",
      "== Physical Plan ==\n",
      "AdaptiveSparkPlan isFinalPlan=false\n",
      "+- BroadcastNestedLoopJoin BuildRight, LeftSemi\n",
      "   :- BroadcastNestedLoopJoin BuildRight, LeftSemi\n",
      "   :  :- BroadcastNestedLoopJoin BuildRight, LeftSemi\n",
      "   :  :  :- FileScan csv [ProductID#52,Name#53,ProductNumber#54,Color#55,StandardCost#56,ListPrice#57,Size#58,Weight#59,ProductCategoryID#60,ProductModelID#61,SellStartDate#62,SellEndDate#63,DiscontinuedDate#64,ThumbNailPhoto#65,ThumbnailPhotoFileName#66,rowguid#67,ModifiedDate#68] Batched: false, DataFilters: [], Format: CSV, Location: InMemoryFileIndex(1 paths)[file:/home/jakub/Studies/bigdata/Lab_6/Product.csv], PartitionFilters: [], PushedFilters: [], ReadSchema: struct<ProductID:int,Name:string,ProductNumber:string,Color:string,StandardCost:double,ListPrice:...\n",
      "   :  :  +- BroadcastExchange IdentityBroadcastMode, [plan_id=945]\n",
      "   :  :     +- FileScan csv [] Batched: false, DataFilters: [], Format: CSV, Location: InMemoryFileIndex(1 paths)[file:/home/jakub/Studies/bigdata/Lab_6/ProductModel.csv], PartitionFilters: [], PushedFilters: [], ReadSchema: struct<>\n",
      "   :  +- BroadcastExchange IdentityBroadcastMode, [plan_id=948]\n",
      "   :     +- FileScan csv [] Batched: false, DataFilters: [], Format: CSV, Location: InMemoryFileIndex(1 paths)[file:/home/jakub/Studies/bigdata/Lab_6/ProductModelProductDescription...., PartitionFilters: [], PushedFilters: [], ReadSchema: struct<>\n",
      "   +- BroadcastExchange IdentityBroadcastMode, [plan_id=951]\n",
      "      +- FileScan csv [] Batched: false, DataFilters: [], Format: CSV, Location: InMemoryFileIndex(1 paths)[file:/home/jakub/Studies/bigdata/Lab_6/ProductDescription.csv], PartitionFilters: [], PushedFilters: [], ReadSchema: struct<>\n",
      "\n",
      "\n",
      "== Physical Plan ==\n",
      "AdaptiveSparkPlan isFinalPlan=false\n",
      "+- BroadcastNestedLoopJoin BuildRight, LeftAnti\n",
      "   :- BroadcastNestedLoopJoin BuildRight, LeftAnti\n",
      "   :  :- BroadcastNestedLoopJoin BuildRight, LeftAnti\n",
      "   :  :  :- FileScan csv [ProductID#52,Name#53,ProductNumber#54,Color#55,StandardCost#56,ListPrice#57,Size#58,Weight#59,ProductCategoryID#60,ProductModelID#61,SellStartDate#62,SellEndDate#63,DiscontinuedDate#64,ThumbNailPhoto#65,ThumbnailPhotoFileName#66,rowguid#67,ModifiedDate#68] Batched: false, DataFilters: [], Format: CSV, Location: InMemoryFileIndex(1 paths)[file:/home/jakub/Studies/bigdata/Lab_6/Product.csv], PartitionFilters: [], PushedFilters: [], ReadSchema: struct<ProductID:int,Name:string,ProductNumber:string,Color:string,StandardCost:double,ListPrice:...\n",
      "   :  :  +- BroadcastExchange IdentityBroadcastMode, [plan_id=981]\n",
      "   :  :     +- FileScan csv [] Batched: false, DataFilters: [], Format: CSV, Location: InMemoryFileIndex(1 paths)[file:/home/jakub/Studies/bigdata/Lab_6/ProductModel.csv], PartitionFilters: [], PushedFilters: [], ReadSchema: struct<>\n",
      "   :  +- BroadcastExchange IdentityBroadcastMode, [plan_id=984]\n",
      "   :     +- FileScan csv [] Batched: false, DataFilters: [], Format: CSV, Location: InMemoryFileIndex(1 paths)[file:/home/jakub/Studies/bigdata/Lab_6/ProductModelProductDescription...., PartitionFilters: [], PushedFilters: [], ReadSchema: struct<>\n",
      "   +- BroadcastExchange IdentityBroadcastMode, [plan_id=987]\n",
      "      +- FileScan csv [] Batched: false, DataFilters: [], Format: CSV, Location: InMemoryFileIndex(1 paths)[file:/home/jakub/Studies/bigdata/Lab_6/ProductDescription.csv], PartitionFilters: [], PushedFilters: [], ReadSchema: struct<>\n",
      "\n",
      "\n"
     ]
    }
   ],
   "source": [
    "for df in dataframes:\n",
    "    df.explain()"
   ],
   "metadata": {
    "collapsed": false
   }
  },
  {
   "cell_type": "markdown",
   "source": [
    "### Showing data"
   ],
   "metadata": {
    "collapsed": false
   }
  },
  {
   "cell_type": "code",
   "execution_count": 38,
   "outputs": [
    {
     "name": "stdout",
     "output_type": "stream",
     "text": [
      "+---------+--------------------+-------------+-----+------------+---------+----+-------+-----------------+--------------+-------------------+-----------+----------------+--------------------+----------------------+--------------------+--------------------+--------------+------------+------------------+--------------------+-------------------+--------------+--------------------+-------+--------------------+-------------------+--------------------+--------------------+--------------------+--------------------+\n",
      "|ProductID|                Name|ProductNumber|Color|StandardCost|ListPrice|Size| Weight|ProductCategoryID|ProductModelID|      SellStartDate|SellEndDate|DiscontinuedDate|      ThumbNailPhoto|ThumbnailPhotoFileName|             rowguid|        ModifiedDate|ProductModelID|        Name|CatalogDescription|             rowguid|       ModifiedDate|ProductModelID|ProductDescriptionID|Culture|             rowguid|       ModifiedDate|ProductDescriptionID|         Description|             rowguid|        ModifiedDate|\n",
      "+---------+--------------------+-------------+-----+------------+---------+----+-------+-----------------+--------------+-------------------+-----------+----------------+--------------------+----------------------+--------------------+--------------------+--------------+------------+------------------+--------------------+-------------------+--------------+--------------------+-------+--------------------+-------------------+--------------------+--------------------+--------------------+--------------------+\n",
      "|      680|HL Road Frame - B...|   FR-R92B-58|Black|     1059.31|   1431.5|  58|1016.04|               18|             6|2002-06-01 02:00:00|       null|            null|R0lGODlhUAAxAPcAA...|  no_image_availabl...|43DD68D6-14A4-461...|2008-03-11 11:01:...|             1|Classic Vest|              null|29321D47-1E4C-4AA...|2007-06-01 02:00:00|             1|                1199| en    |4D00B649-027A-4F9...|2007-06-01 02:00:00|                   3|     Chromoly steel.|301EED3A-1A82-485...|2007-06-01T00:00:...|\n",
      "|      680|HL Road Frame - B...|   FR-R92B-58|Black|     1059.31|   1431.5|  58|1016.04|               18|             6|2002-06-01 02:00:00|       null|            null|R0lGODlhUAAxAPcAA...|  no_image_availabl...|43DD68D6-14A4-461...|2008-03-11 11:01:...|             1|Classic Vest|              null|29321D47-1E4C-4AA...|2007-06-01 02:00:00|             1|                1199| en    |4D00B649-027A-4F9...|2007-06-01 02:00:00|                   4|Aluminum alloy cu...|DFEBA528-DA11-465...|2007-06-01T00:00:...|\n",
      "|      680|HL Road Frame - B...|   FR-R92B-58|Black|     1059.31|   1431.5|  58|1016.04|               18|             6|2002-06-01 02:00:00|       null|            null|R0lGODlhUAAxAPcAA...|  no_image_availabl...|43DD68D6-14A4-461...|2008-03-11 11:01:...|             1|Classic Vest|              null|29321D47-1E4C-4AA...|2007-06-01 02:00:00|             1|                1199| en    |4D00B649-027A-4F9...|2007-06-01 02:00:00|                   5|Aluminum alloy cu...|F7178DA7-1A7E-499...|2007-06-01T00:00:...|\n",
      "|      680|HL Road Frame - B...|   FR-R92B-58|Black|     1059.31|   1431.5|  58|1016.04|               18|             6|2002-06-01 02:00:00|       null|            null|R0lGODlhUAAxAPcAA...|  no_image_availabl...|43DD68D6-14A4-461...|2008-03-11 11:01:...|             1|Classic Vest|              null|29321D47-1E4C-4AA...|2007-06-01 02:00:00|             1|                1199| en    |4D00B649-027A-4F9...|2007-06-01 02:00:00|                   8|Suitable for any ...|8E6746E5-AD97-46E...|2007-06-01T00:00:...|\n",
      "|      680|HL Road Frame - B...|   FR-R92B-58|Black|     1059.31|   1431.5|  58|1016.04|               18|             6|2002-06-01 02:00:00|       null|            null|R0lGODlhUAAxAPcAA...|  no_image_availabl...|43DD68D6-14A4-461...|2008-03-11 11:01:...|             1|Classic Vest|              null|29321D47-1E4C-4AA...|2007-06-01 02:00:00|             1|                1199| en    |4D00B649-027A-4F9...|2007-06-01 02:00:00|                  64|This bike deliver...|7B1C4E90-85E2-479...|2007-06-01T00:00:...|\n",
      "|      680|HL Road Frame - B...|   FR-R92B-58|Black|     1059.31|   1431.5|  58|1016.04|               18|             6|2002-06-01 02:00:00|       null|            null|R0lGODlhUAAxAPcAA...|  no_image_availabl...|43DD68D6-14A4-461...|2008-03-11 11:01:...|             1|Classic Vest|              null|29321D47-1E4C-4AA...|2007-06-01 02:00:00|             1|                1199| en    |4D00B649-027A-4F9...|2007-06-01 02:00:00|                  88|For true trail ad...|4C1AD253-357E-4A9...|2007-06-01T00:00:...|\n",
      "|      680|HL Road Frame - B...|   FR-R92B-58|Black|     1059.31|   1431.5|  58|1016.04|               18|             6|2002-06-01 02:00:00|       null|            null|R0lGODlhUAAxAPcAA...|  no_image_availabl...|43DD68D6-14A4-461...|2008-03-11 11:01:...|             1|Classic Vest|              null|29321D47-1E4C-4AA...|2007-06-01 02:00:00|             1|                1199| en    |4D00B649-027A-4F9...|2007-06-01 02:00:00|                 128|Serious back-coun...|130709E6-8512-49B...|2008-03-11T10:32:...|\n",
      "|      680|HL Road Frame - B...|   FR-R92B-58|Black|     1059.31|   1431.5|  58|1016.04|               18|             6|2002-06-01 02:00:00|       null|            null|R0lGODlhUAAxAPcAA...|  no_image_availabl...|43DD68D6-14A4-461...|2008-03-11 11:01:...|             1|Classic Vest|              null|29321D47-1E4C-4AA...|2007-06-01 02:00:00|             1|                1199| en    |4D00B649-027A-4F9...|2007-06-01 02:00:00|                 168|Top-of-the-line c...|DB979DA6-4CC8-417...|2007-06-01T00:00:...|\n",
      "|      680|HL Road Frame - B...|   FR-R92B-58|Black|     1059.31|   1431.5|  58|1016.04|               18|             6|2002-06-01 02:00:00|       null|            null|R0lGODlhUAAxAPcAA...|  no_image_availabl...|43DD68D6-14A4-461...|2008-03-11 11:01:...|             1|Classic Vest|              null|29321D47-1E4C-4AA...|2007-06-01 02:00:00|             1|                1199| en    |4D00B649-027A-4F9...|2007-06-01 02:00:00|                 170|Suitable for any ...|EA772412-6369-441...|2007-06-01T00:00:...|\n",
      "|      680|HL Road Frame - B...|   FR-R92B-58|Black|     1059.31|   1431.5|  58|1016.04|               18|             6|2002-06-01 02:00:00|       null|            null|R0lGODlhUAAxAPcAA...|  no_image_availabl...|43DD68D6-14A4-461...|2008-03-11 11:01:...|             1|Classic Vest|              null|29321D47-1E4C-4AA...|2007-06-01 02:00:00|             1|                1199| en    |4D00B649-027A-4F9...|2007-06-01 02:00:00|                 209|Entry level adult...|F5FF5FFD-CB7C-4AD...|2007-06-01T00:00:...|\n",
      "|      680|HL Road Frame - B...|   FR-R92B-58|Black|     1059.31|   1431.5|  58|1016.04|               18|             6|2002-06-01 02:00:00|       null|            null|R0lGODlhUAAxAPcAA...|  no_image_availabl...|43DD68D6-14A4-461...|2008-03-11 11:01:...|             1|Classic Vest|              null|29321D47-1E4C-4AA...|2007-06-01 02:00:00|             1|                1199| en    |4D00B649-027A-4F9...|2007-06-01 02:00:00|                 249|Value-priced bike...|4291F144-7693-446...|2007-06-01T00:00:...|\n",
      "|      680|HL Road Frame - B...|   FR-R92B-58|Black|     1059.31|   1431.5|  58|1016.04|               18|             6|2002-06-01 02:00:00|       null|            null|R0lGODlhUAAxAPcAA...|  no_image_availabl...|43DD68D6-14A4-461...|2008-03-11 11:01:...|             1|Classic Vest|              null|29321D47-1E4C-4AA...|2007-06-01 02:00:00|             1|                1199| en    |4D00B649-027A-4F9...|2007-06-01 02:00:00|                 320|Same technology a...|E130DED9-D0EC-465...|2007-06-01T00:00:...|\n",
      "|      680|HL Road Frame - B...|   FR-R92B-58|Black|     1059.31|   1431.5|  58|1016.04|               18|             6|2002-06-01 02:00:00|       null|            null|R0lGODlhUAAxAPcAA...|  no_image_availabl...|43DD68D6-14A4-461...|2008-03-11 11:01:...|             1|Classic Vest|              null|29321D47-1E4C-4AA...|2007-06-01 02:00:00|             1|                1199| en    |4D00B649-027A-4F9...|2007-06-01 02:00:00|                 321|Same technology a...|C7B429DA-DC51-47D...|2007-06-01T00:00:...|\n",
      "|      680|HL Road Frame - B...|   FR-R92B-58|Black|     1059.31|   1431.5|  58|1016.04|               18|             6|2002-06-01 02:00:00|       null|            null|R0lGODlhUAAxAPcAA...|  no_image_availabl...|43DD68D6-14A4-461...|2008-03-11 11:01:...|             1|Classic Vest|              null|29321D47-1E4C-4AA...|2007-06-01 02:00:00|             1|                1199| en    |4D00B649-027A-4F9...|2007-06-01 02:00:00|                 337|A true multi-spor...|DB560F0B-E70B-42A...|2007-06-01T00:00:...|\n",
      "|      680|HL Road Frame - B...|   FR-R92B-58|Black|     1059.31|   1431.5|  58|1016.04|               18|             6|2002-06-01 02:00:00|       null|            null|R0lGODlhUAAxAPcAA...|  no_image_availabl...|43DD68D6-14A4-461...|2008-03-11 11:01:...|             1|Classic Vest|              null|29321D47-1E4C-4AA...|2007-06-01 02:00:00|             1|                1199| en    |4D00B649-027A-4F9...|2007-06-01 02:00:00|                 375|Cross-train, race...|747B2185-0320-4FE...|2007-06-01T00:00:...|\n",
      "|      680|HL Road Frame - B...|   FR-R92B-58|Black|     1059.31|   1431.5|  58|1016.04|               18|             6|2002-06-01 02:00:00|       null|            null|R0lGODlhUAAxAPcAA...|  no_image_availabl...|43DD68D6-14A4-461...|2008-03-11 11:01:...|             1|Classic Vest|              null|29321D47-1E4C-4AA...|2007-06-01 02:00:00|             1|                1199| en    |4D00B649-027A-4F9...|2007-06-01 02:00:00|                 376|Cross-train, race...|F1D9955B-BC1C-4D3...|2007-06-01T00:00:...|\n",
      "|      680|HL Road Frame - B...|   FR-R92B-58|Black|     1059.31|   1431.5|  58|1016.04|               18|             6|2002-06-01 02:00:00|       null|            null|R0lGODlhUAAxAPcAA...|  no_image_availabl...|43DD68D6-14A4-461...|2008-03-11 11:01:...|             1|Classic Vest|              null|29321D47-1E4C-4AA...|2007-06-01 02:00:00|             1|                1199| en    |4D00B649-027A-4F9...|2007-06-01 02:00:00|                 409|Alluminum-alloy f...|3DC76714-7572-454...|2007-06-01T00:00:...|\n",
      "|      680|HL Road Frame - B...|   FR-R92B-58|Black|     1059.31|   1431.5|  58|1016.04|               18|             6|2002-06-01 02:00:00|       null|            null|R0lGODlhUAAxAPcAA...|  no_image_availabl...|43DD68D6-14A4-461...|2008-03-11 11:01:...|             1|Classic Vest|              null|29321D47-1E4C-4AA...|2007-06-01 02:00:00|             1|                1199| en    |4D00B649-027A-4F9...|2007-06-01 02:00:00|                 457|This bike is ridd...|3DDB8DEA-FC37-4E4...|2007-06-01T00:00:...|\n",
      "|      680|HL Road Frame - B...|   FR-R92B-58|Black|     1059.31|   1431.5|  58|1016.04|               18|             6|2002-06-01 02:00:00|       null|            null|R0lGODlhUAAxAPcAA...|  no_image_availabl...|43DD68D6-14A4-461...|2008-03-11 11:01:...|             1|Classic Vest|              null|29321D47-1E4C-4AA...|2007-06-01 02:00:00|             1|                1199| en    |4D00B649-027A-4F9...|2007-06-01 02:00:00|                 513|All-occasion valu...|741EAE59-5E59-4DB...|2007-06-01T00:00:...|\n",
      "|      680|HL Road Frame - B...|   FR-R92B-58|Black|     1059.31|   1431.5|  58|1016.04|               18|             6|2002-06-01 02:00:00|       null|            null|R0lGODlhUAAxAPcAA...|  no_image_availabl...|43DD68D6-14A4-461...|2008-03-11 11:01:...|             1|Classic Vest|              null|29321D47-1E4C-4AA...|2007-06-01 02:00:00|             1|                1199| en    |4D00B649-027A-4F9...|2007-06-01 02:00:00|                 554|The plush custom ...|DDC955B2-843E-49C...|2007-06-01T00:00:...|\n",
      "+---------+--------------------+-------------+-----+------------+---------+----+-------+-----------------+--------------+-------------------+-----------+----------------+--------------------+----------------------+--------------------+--------------------+--------------+------------+------------------+--------------------+-------------------+--------------+--------------------+-------+--------------------+-------------------+--------------------+--------------------+--------------------+--------------------+\n",
      "only showing top 20 rows\n",
      "\n",
      "+---------+--------------------+-------------+-----+------------+---------+----+-------+-----------------+--------------+-------------------+-----------+----------------+--------------------+----------------------+--------------------+--------------------+--------------+------------+------------------+--------------------+-------------------+--------------+--------------------+-------+--------------------+-------------------+--------------------+--------------------+--------------------+--------------------+\n",
      "|ProductID|                Name|ProductNumber|Color|StandardCost|ListPrice|Size| Weight|ProductCategoryID|ProductModelID|      SellStartDate|SellEndDate|DiscontinuedDate|      ThumbNailPhoto|ThumbnailPhotoFileName|             rowguid|        ModifiedDate|ProductModelID|        Name|CatalogDescription|             rowguid|       ModifiedDate|ProductModelID|ProductDescriptionID|Culture|             rowguid|       ModifiedDate|ProductDescriptionID|         Description|             rowguid|        ModifiedDate|\n",
      "+---------+--------------------+-------------+-----+------------+---------+----+-------+-----------------+--------------+-------------------+-----------+----------------+--------------------+----------------------+--------------------+--------------------+--------------+------------+------------------+--------------------+-------------------+--------------+--------------------+-------+--------------------+-------------------+--------------------+--------------------+--------------------+--------------------+\n",
      "|      680|HL Road Frame - B...|   FR-R92B-58|Black|     1059.31|   1431.5|  58|1016.04|               18|             6|2002-06-01 02:00:00|       null|            null|R0lGODlhUAAxAPcAA...|  no_image_availabl...|43DD68D6-14A4-461...|2008-03-11 11:01:...|             1|Classic Vest|              null|29321D47-1E4C-4AA...|2007-06-01 02:00:00|             1|                1199| en    |4D00B649-027A-4F9...|2007-06-01 02:00:00|                   3|     Chromoly steel.|301EED3A-1A82-485...|2007-06-01T00:00:...|\n",
      "|      680|HL Road Frame - B...|   FR-R92B-58|Black|     1059.31|   1431.5|  58|1016.04|               18|             6|2002-06-01 02:00:00|       null|            null|R0lGODlhUAAxAPcAA...|  no_image_availabl...|43DD68D6-14A4-461...|2008-03-11 11:01:...|             1|Classic Vest|              null|29321D47-1E4C-4AA...|2007-06-01 02:00:00|             1|                1199| en    |4D00B649-027A-4F9...|2007-06-01 02:00:00|                   4|Aluminum alloy cu...|DFEBA528-DA11-465...|2007-06-01T00:00:...|\n",
      "|      680|HL Road Frame - B...|   FR-R92B-58|Black|     1059.31|   1431.5|  58|1016.04|               18|             6|2002-06-01 02:00:00|       null|            null|R0lGODlhUAAxAPcAA...|  no_image_availabl...|43DD68D6-14A4-461...|2008-03-11 11:01:...|             1|Classic Vest|              null|29321D47-1E4C-4AA...|2007-06-01 02:00:00|             1|                1199| en    |4D00B649-027A-4F9...|2007-06-01 02:00:00|                   5|Aluminum alloy cu...|F7178DA7-1A7E-499...|2007-06-01T00:00:...|\n",
      "|      680|HL Road Frame - B...|   FR-R92B-58|Black|     1059.31|   1431.5|  58|1016.04|               18|             6|2002-06-01 02:00:00|       null|            null|R0lGODlhUAAxAPcAA...|  no_image_availabl...|43DD68D6-14A4-461...|2008-03-11 11:01:...|             1|Classic Vest|              null|29321D47-1E4C-4AA...|2007-06-01 02:00:00|             1|                1199| en    |4D00B649-027A-4F9...|2007-06-01 02:00:00|                   8|Suitable for any ...|8E6746E5-AD97-46E...|2007-06-01T00:00:...|\n",
      "|      680|HL Road Frame - B...|   FR-R92B-58|Black|     1059.31|   1431.5|  58|1016.04|               18|             6|2002-06-01 02:00:00|       null|            null|R0lGODlhUAAxAPcAA...|  no_image_availabl...|43DD68D6-14A4-461...|2008-03-11 11:01:...|             1|Classic Vest|              null|29321D47-1E4C-4AA...|2007-06-01 02:00:00|             1|                1199| en    |4D00B649-027A-4F9...|2007-06-01 02:00:00|                  64|This bike deliver...|7B1C4E90-85E2-479...|2007-06-01T00:00:...|\n",
      "|      680|HL Road Frame - B...|   FR-R92B-58|Black|     1059.31|   1431.5|  58|1016.04|               18|             6|2002-06-01 02:00:00|       null|            null|R0lGODlhUAAxAPcAA...|  no_image_availabl...|43DD68D6-14A4-461...|2008-03-11 11:01:...|             1|Classic Vest|              null|29321D47-1E4C-4AA...|2007-06-01 02:00:00|             1|                1199| en    |4D00B649-027A-4F9...|2007-06-01 02:00:00|                  88|For true trail ad...|4C1AD253-357E-4A9...|2007-06-01T00:00:...|\n",
      "|      680|HL Road Frame - B...|   FR-R92B-58|Black|     1059.31|   1431.5|  58|1016.04|               18|             6|2002-06-01 02:00:00|       null|            null|R0lGODlhUAAxAPcAA...|  no_image_availabl...|43DD68D6-14A4-461...|2008-03-11 11:01:...|             1|Classic Vest|              null|29321D47-1E4C-4AA...|2007-06-01 02:00:00|             1|                1199| en    |4D00B649-027A-4F9...|2007-06-01 02:00:00|                 128|Serious back-coun...|130709E6-8512-49B...|2008-03-11T10:32:...|\n",
      "|      680|HL Road Frame - B...|   FR-R92B-58|Black|     1059.31|   1431.5|  58|1016.04|               18|             6|2002-06-01 02:00:00|       null|            null|R0lGODlhUAAxAPcAA...|  no_image_availabl...|43DD68D6-14A4-461...|2008-03-11 11:01:...|             1|Classic Vest|              null|29321D47-1E4C-4AA...|2007-06-01 02:00:00|             1|                1199| en    |4D00B649-027A-4F9...|2007-06-01 02:00:00|                 168|Top-of-the-line c...|DB979DA6-4CC8-417...|2007-06-01T00:00:...|\n",
      "|      680|HL Road Frame - B...|   FR-R92B-58|Black|     1059.31|   1431.5|  58|1016.04|               18|             6|2002-06-01 02:00:00|       null|            null|R0lGODlhUAAxAPcAA...|  no_image_availabl...|43DD68D6-14A4-461...|2008-03-11 11:01:...|             1|Classic Vest|              null|29321D47-1E4C-4AA...|2007-06-01 02:00:00|             1|                1199| en    |4D00B649-027A-4F9...|2007-06-01 02:00:00|                 170|Suitable for any ...|EA772412-6369-441...|2007-06-01T00:00:...|\n",
      "|      680|HL Road Frame - B...|   FR-R92B-58|Black|     1059.31|   1431.5|  58|1016.04|               18|             6|2002-06-01 02:00:00|       null|            null|R0lGODlhUAAxAPcAA...|  no_image_availabl...|43DD68D6-14A4-461...|2008-03-11 11:01:...|             1|Classic Vest|              null|29321D47-1E4C-4AA...|2007-06-01 02:00:00|             1|                1199| en    |4D00B649-027A-4F9...|2007-06-01 02:00:00|                 209|Entry level adult...|F5FF5FFD-CB7C-4AD...|2007-06-01T00:00:...|\n",
      "|      680|HL Road Frame - B...|   FR-R92B-58|Black|     1059.31|   1431.5|  58|1016.04|               18|             6|2002-06-01 02:00:00|       null|            null|R0lGODlhUAAxAPcAA...|  no_image_availabl...|43DD68D6-14A4-461...|2008-03-11 11:01:...|             1|Classic Vest|              null|29321D47-1E4C-4AA...|2007-06-01 02:00:00|             1|                1199| en    |4D00B649-027A-4F9...|2007-06-01 02:00:00|                 249|Value-priced bike...|4291F144-7693-446...|2007-06-01T00:00:...|\n",
      "|      680|HL Road Frame - B...|   FR-R92B-58|Black|     1059.31|   1431.5|  58|1016.04|               18|             6|2002-06-01 02:00:00|       null|            null|R0lGODlhUAAxAPcAA...|  no_image_availabl...|43DD68D6-14A4-461...|2008-03-11 11:01:...|             1|Classic Vest|              null|29321D47-1E4C-4AA...|2007-06-01 02:00:00|             1|                1199| en    |4D00B649-027A-4F9...|2007-06-01 02:00:00|                 320|Same technology a...|E130DED9-D0EC-465...|2007-06-01T00:00:...|\n",
      "|      680|HL Road Frame - B...|   FR-R92B-58|Black|     1059.31|   1431.5|  58|1016.04|               18|             6|2002-06-01 02:00:00|       null|            null|R0lGODlhUAAxAPcAA...|  no_image_availabl...|43DD68D6-14A4-461...|2008-03-11 11:01:...|             1|Classic Vest|              null|29321D47-1E4C-4AA...|2007-06-01 02:00:00|             1|                1199| en    |4D00B649-027A-4F9...|2007-06-01 02:00:00|                 321|Same technology a...|C7B429DA-DC51-47D...|2007-06-01T00:00:...|\n",
      "|      680|HL Road Frame - B...|   FR-R92B-58|Black|     1059.31|   1431.5|  58|1016.04|               18|             6|2002-06-01 02:00:00|       null|            null|R0lGODlhUAAxAPcAA...|  no_image_availabl...|43DD68D6-14A4-461...|2008-03-11 11:01:...|             1|Classic Vest|              null|29321D47-1E4C-4AA...|2007-06-01 02:00:00|             1|                1199| en    |4D00B649-027A-4F9...|2007-06-01 02:00:00|                 337|A true multi-spor...|DB560F0B-E70B-42A...|2007-06-01T00:00:...|\n",
      "|      680|HL Road Frame - B...|   FR-R92B-58|Black|     1059.31|   1431.5|  58|1016.04|               18|             6|2002-06-01 02:00:00|       null|            null|R0lGODlhUAAxAPcAA...|  no_image_availabl...|43DD68D6-14A4-461...|2008-03-11 11:01:...|             1|Classic Vest|              null|29321D47-1E4C-4AA...|2007-06-01 02:00:00|             1|                1199| en    |4D00B649-027A-4F9...|2007-06-01 02:00:00|                 375|Cross-train, race...|747B2185-0320-4FE...|2007-06-01T00:00:...|\n",
      "|      680|HL Road Frame - B...|   FR-R92B-58|Black|     1059.31|   1431.5|  58|1016.04|               18|             6|2002-06-01 02:00:00|       null|            null|R0lGODlhUAAxAPcAA...|  no_image_availabl...|43DD68D6-14A4-461...|2008-03-11 11:01:...|             1|Classic Vest|              null|29321D47-1E4C-4AA...|2007-06-01 02:00:00|             1|                1199| en    |4D00B649-027A-4F9...|2007-06-01 02:00:00|                 376|Cross-train, race...|F1D9955B-BC1C-4D3...|2007-06-01T00:00:...|\n",
      "|      680|HL Road Frame - B...|   FR-R92B-58|Black|     1059.31|   1431.5|  58|1016.04|               18|             6|2002-06-01 02:00:00|       null|            null|R0lGODlhUAAxAPcAA...|  no_image_availabl...|43DD68D6-14A4-461...|2008-03-11 11:01:...|             1|Classic Vest|              null|29321D47-1E4C-4AA...|2007-06-01 02:00:00|             1|                1199| en    |4D00B649-027A-4F9...|2007-06-01 02:00:00|                 409|Alluminum-alloy f...|3DC76714-7572-454...|2007-06-01T00:00:...|\n",
      "|      680|HL Road Frame - B...|   FR-R92B-58|Black|     1059.31|   1431.5|  58|1016.04|               18|             6|2002-06-01 02:00:00|       null|            null|R0lGODlhUAAxAPcAA...|  no_image_availabl...|43DD68D6-14A4-461...|2008-03-11 11:01:...|             1|Classic Vest|              null|29321D47-1E4C-4AA...|2007-06-01 02:00:00|             1|                1199| en    |4D00B649-027A-4F9...|2007-06-01 02:00:00|                 457|This bike is ridd...|3DDB8DEA-FC37-4E4...|2007-06-01T00:00:...|\n",
      "|      680|HL Road Frame - B...|   FR-R92B-58|Black|     1059.31|   1431.5|  58|1016.04|               18|             6|2002-06-01 02:00:00|       null|            null|R0lGODlhUAAxAPcAA...|  no_image_availabl...|43DD68D6-14A4-461...|2008-03-11 11:01:...|             1|Classic Vest|              null|29321D47-1E4C-4AA...|2007-06-01 02:00:00|             1|                1199| en    |4D00B649-027A-4F9...|2007-06-01 02:00:00|                 513|All-occasion valu...|741EAE59-5E59-4DB...|2007-06-01T00:00:...|\n",
      "|      680|HL Road Frame - B...|   FR-R92B-58|Black|     1059.31|   1431.5|  58|1016.04|               18|             6|2002-06-01 02:00:00|       null|            null|R0lGODlhUAAxAPcAA...|  no_image_availabl...|43DD68D6-14A4-461...|2008-03-11 11:01:...|             1|Classic Vest|              null|29321D47-1E4C-4AA...|2007-06-01 02:00:00|             1|                1199| en    |4D00B649-027A-4F9...|2007-06-01 02:00:00|                 554|The plush custom ...|DDC955B2-843E-49C...|2007-06-01T00:00:...|\n",
      "+---------+--------------------+-------------+-----+------------+---------+----+-------+-----------------+--------------+-------------------+-----------+----------------+--------------------+----------------------+--------------------+--------------------+--------------+------------+------------------+--------------------+-------------------+--------------+--------------------+-------+--------------------+-------------------+--------------------+--------------------+--------------------+--------------------+\n",
      "only showing top 20 rows\n",
      "\n"
     ]
    },
    {
     "name": "stderr",
     "output_type": "stream",
     "text": [
      "                                                                                \r"
     ]
    },
    {
     "name": "stdout",
     "output_type": "stream",
     "text": [
      "+---------+--------------------+-------------+-----+------------+---------+----+-------+-----------------+--------------+-------------------+-----------+----------------+--------------------+----------------------+--------------------+--------------------+--------------+------------+------------------+--------------------+-------------------+--------------+--------------------+-------+--------------------+-------------------+--------------------+--------------------+--------------------+--------------------+\n",
      "|ProductID|                Name|ProductNumber|Color|StandardCost|ListPrice|Size| Weight|ProductCategoryID|ProductModelID|      SellStartDate|SellEndDate|DiscontinuedDate|      ThumbNailPhoto|ThumbnailPhotoFileName|             rowguid|        ModifiedDate|ProductModelID|        Name|CatalogDescription|             rowguid|       ModifiedDate|ProductModelID|ProductDescriptionID|Culture|             rowguid|       ModifiedDate|ProductDescriptionID|         Description|             rowguid|        ModifiedDate|\n",
      "+---------+--------------------+-------------+-----+------------+---------+----+-------+-----------------+--------------+-------------------+-----------+----------------+--------------------+----------------------+--------------------+--------------------+--------------+------------+------------------+--------------------+-------------------+--------------+--------------------+-------+--------------------+-------------------+--------------------+--------------------+--------------------+--------------------+\n",
      "|      680|HL Road Frame - B...|   FR-R92B-58|Black|     1059.31|   1431.5|  58|1016.04|               18|             6|2002-06-01 02:00:00|       null|            null|R0lGODlhUAAxAPcAA...|  no_image_availabl...|43DD68D6-14A4-461...|2008-03-11 11:01:...|             1|Classic Vest|              null|29321D47-1E4C-4AA...|2007-06-01 02:00:00|             1|                1199| en    |4D00B649-027A-4F9...|2007-06-01 02:00:00|                   3|     Chromoly steel.|301EED3A-1A82-485...|2007-06-01T00:00:...|\n",
      "|      680|HL Road Frame - B...|   FR-R92B-58|Black|     1059.31|   1431.5|  58|1016.04|               18|             6|2002-06-01 02:00:00|       null|            null|R0lGODlhUAAxAPcAA...|  no_image_availabl...|43DD68D6-14A4-461...|2008-03-11 11:01:...|             1|Classic Vest|              null|29321D47-1E4C-4AA...|2007-06-01 02:00:00|             1|                1199| en    |4D00B649-027A-4F9...|2007-06-01 02:00:00|                   4|Aluminum alloy cu...|DFEBA528-DA11-465...|2007-06-01T00:00:...|\n",
      "|      680|HL Road Frame - B...|   FR-R92B-58|Black|     1059.31|   1431.5|  58|1016.04|               18|             6|2002-06-01 02:00:00|       null|            null|R0lGODlhUAAxAPcAA...|  no_image_availabl...|43DD68D6-14A4-461...|2008-03-11 11:01:...|             1|Classic Vest|              null|29321D47-1E4C-4AA...|2007-06-01 02:00:00|             1|                1199| en    |4D00B649-027A-4F9...|2007-06-01 02:00:00|                   5|Aluminum alloy cu...|F7178DA7-1A7E-499...|2007-06-01T00:00:...|\n",
      "|      680|HL Road Frame - B...|   FR-R92B-58|Black|     1059.31|   1431.5|  58|1016.04|               18|             6|2002-06-01 02:00:00|       null|            null|R0lGODlhUAAxAPcAA...|  no_image_availabl...|43DD68D6-14A4-461...|2008-03-11 11:01:...|             1|Classic Vest|              null|29321D47-1E4C-4AA...|2007-06-01 02:00:00|             1|                1199| en    |4D00B649-027A-4F9...|2007-06-01 02:00:00|                   8|Suitable for any ...|8E6746E5-AD97-46E...|2007-06-01T00:00:...|\n",
      "|      680|HL Road Frame - B...|   FR-R92B-58|Black|     1059.31|   1431.5|  58|1016.04|               18|             6|2002-06-01 02:00:00|       null|            null|R0lGODlhUAAxAPcAA...|  no_image_availabl...|43DD68D6-14A4-461...|2008-03-11 11:01:...|             1|Classic Vest|              null|29321D47-1E4C-4AA...|2007-06-01 02:00:00|             1|                1199| en    |4D00B649-027A-4F9...|2007-06-01 02:00:00|                  64|This bike deliver...|7B1C4E90-85E2-479...|2007-06-01T00:00:...|\n",
      "|      680|HL Road Frame - B...|   FR-R92B-58|Black|     1059.31|   1431.5|  58|1016.04|               18|             6|2002-06-01 02:00:00|       null|            null|R0lGODlhUAAxAPcAA...|  no_image_availabl...|43DD68D6-14A4-461...|2008-03-11 11:01:...|             1|Classic Vest|              null|29321D47-1E4C-4AA...|2007-06-01 02:00:00|             1|                1199| en    |4D00B649-027A-4F9...|2007-06-01 02:00:00|                  88|For true trail ad...|4C1AD253-357E-4A9...|2007-06-01T00:00:...|\n",
      "|      680|HL Road Frame - B...|   FR-R92B-58|Black|     1059.31|   1431.5|  58|1016.04|               18|             6|2002-06-01 02:00:00|       null|            null|R0lGODlhUAAxAPcAA...|  no_image_availabl...|43DD68D6-14A4-461...|2008-03-11 11:01:...|             1|Classic Vest|              null|29321D47-1E4C-4AA...|2007-06-01 02:00:00|             1|                1199| en    |4D00B649-027A-4F9...|2007-06-01 02:00:00|                 128|Serious back-coun...|130709E6-8512-49B...|2008-03-11T10:32:...|\n",
      "|      680|HL Road Frame - B...|   FR-R92B-58|Black|     1059.31|   1431.5|  58|1016.04|               18|             6|2002-06-01 02:00:00|       null|            null|R0lGODlhUAAxAPcAA...|  no_image_availabl...|43DD68D6-14A4-461...|2008-03-11 11:01:...|             1|Classic Vest|              null|29321D47-1E4C-4AA...|2007-06-01 02:00:00|             1|                1199| en    |4D00B649-027A-4F9...|2007-06-01 02:00:00|                 168|Top-of-the-line c...|DB979DA6-4CC8-417...|2007-06-01T00:00:...|\n",
      "|      680|HL Road Frame - B...|   FR-R92B-58|Black|     1059.31|   1431.5|  58|1016.04|               18|             6|2002-06-01 02:00:00|       null|            null|R0lGODlhUAAxAPcAA...|  no_image_availabl...|43DD68D6-14A4-461...|2008-03-11 11:01:...|             1|Classic Vest|              null|29321D47-1E4C-4AA...|2007-06-01 02:00:00|             1|                1199| en    |4D00B649-027A-4F9...|2007-06-01 02:00:00|                 170|Suitable for any ...|EA772412-6369-441...|2007-06-01T00:00:...|\n",
      "|      680|HL Road Frame - B...|   FR-R92B-58|Black|     1059.31|   1431.5|  58|1016.04|               18|             6|2002-06-01 02:00:00|       null|            null|R0lGODlhUAAxAPcAA...|  no_image_availabl...|43DD68D6-14A4-461...|2008-03-11 11:01:...|             1|Classic Vest|              null|29321D47-1E4C-4AA...|2007-06-01 02:00:00|             1|                1199| en    |4D00B649-027A-4F9...|2007-06-01 02:00:00|                 209|Entry level adult...|F5FF5FFD-CB7C-4AD...|2007-06-01T00:00:...|\n",
      "|      680|HL Road Frame - B...|   FR-R92B-58|Black|     1059.31|   1431.5|  58|1016.04|               18|             6|2002-06-01 02:00:00|       null|            null|R0lGODlhUAAxAPcAA...|  no_image_availabl...|43DD68D6-14A4-461...|2008-03-11 11:01:...|             1|Classic Vest|              null|29321D47-1E4C-4AA...|2007-06-01 02:00:00|             1|                1199| en    |4D00B649-027A-4F9...|2007-06-01 02:00:00|                 249|Value-priced bike...|4291F144-7693-446...|2007-06-01T00:00:...|\n",
      "|      680|HL Road Frame - B...|   FR-R92B-58|Black|     1059.31|   1431.5|  58|1016.04|               18|             6|2002-06-01 02:00:00|       null|            null|R0lGODlhUAAxAPcAA...|  no_image_availabl...|43DD68D6-14A4-461...|2008-03-11 11:01:...|             1|Classic Vest|              null|29321D47-1E4C-4AA...|2007-06-01 02:00:00|             1|                1199| en    |4D00B649-027A-4F9...|2007-06-01 02:00:00|                 320|Same technology a...|E130DED9-D0EC-465...|2007-06-01T00:00:...|\n",
      "|      680|HL Road Frame - B...|   FR-R92B-58|Black|     1059.31|   1431.5|  58|1016.04|               18|             6|2002-06-01 02:00:00|       null|            null|R0lGODlhUAAxAPcAA...|  no_image_availabl...|43DD68D6-14A4-461...|2008-03-11 11:01:...|             1|Classic Vest|              null|29321D47-1E4C-4AA...|2007-06-01 02:00:00|             1|                1199| en    |4D00B649-027A-4F9...|2007-06-01 02:00:00|                 321|Same technology a...|C7B429DA-DC51-47D...|2007-06-01T00:00:...|\n",
      "|      680|HL Road Frame - B...|   FR-R92B-58|Black|     1059.31|   1431.5|  58|1016.04|               18|             6|2002-06-01 02:00:00|       null|            null|R0lGODlhUAAxAPcAA...|  no_image_availabl...|43DD68D6-14A4-461...|2008-03-11 11:01:...|             1|Classic Vest|              null|29321D47-1E4C-4AA...|2007-06-01 02:00:00|             1|                1199| en    |4D00B649-027A-4F9...|2007-06-01 02:00:00|                 337|A true multi-spor...|DB560F0B-E70B-42A...|2007-06-01T00:00:...|\n",
      "|      680|HL Road Frame - B...|   FR-R92B-58|Black|     1059.31|   1431.5|  58|1016.04|               18|             6|2002-06-01 02:00:00|       null|            null|R0lGODlhUAAxAPcAA...|  no_image_availabl...|43DD68D6-14A4-461...|2008-03-11 11:01:...|             1|Classic Vest|              null|29321D47-1E4C-4AA...|2007-06-01 02:00:00|             1|                1199| en    |4D00B649-027A-4F9...|2007-06-01 02:00:00|                 375|Cross-train, race...|747B2185-0320-4FE...|2007-06-01T00:00:...|\n",
      "|      680|HL Road Frame - B...|   FR-R92B-58|Black|     1059.31|   1431.5|  58|1016.04|               18|             6|2002-06-01 02:00:00|       null|            null|R0lGODlhUAAxAPcAA...|  no_image_availabl...|43DD68D6-14A4-461...|2008-03-11 11:01:...|             1|Classic Vest|              null|29321D47-1E4C-4AA...|2007-06-01 02:00:00|             1|                1199| en    |4D00B649-027A-4F9...|2007-06-01 02:00:00|                 376|Cross-train, race...|F1D9955B-BC1C-4D3...|2007-06-01T00:00:...|\n",
      "|      680|HL Road Frame - B...|   FR-R92B-58|Black|     1059.31|   1431.5|  58|1016.04|               18|             6|2002-06-01 02:00:00|       null|            null|R0lGODlhUAAxAPcAA...|  no_image_availabl...|43DD68D6-14A4-461...|2008-03-11 11:01:...|             1|Classic Vest|              null|29321D47-1E4C-4AA...|2007-06-01 02:00:00|             1|                1199| en    |4D00B649-027A-4F9...|2007-06-01 02:00:00|                 409|Alluminum-alloy f...|3DC76714-7572-454...|2007-06-01T00:00:...|\n",
      "|      680|HL Road Frame - B...|   FR-R92B-58|Black|     1059.31|   1431.5|  58|1016.04|               18|             6|2002-06-01 02:00:00|       null|            null|R0lGODlhUAAxAPcAA...|  no_image_availabl...|43DD68D6-14A4-461...|2008-03-11 11:01:...|             1|Classic Vest|              null|29321D47-1E4C-4AA...|2007-06-01 02:00:00|             1|                1199| en    |4D00B649-027A-4F9...|2007-06-01 02:00:00|                 457|This bike is ridd...|3DDB8DEA-FC37-4E4...|2007-06-01T00:00:...|\n",
      "|      680|HL Road Frame - B...|   FR-R92B-58|Black|     1059.31|   1431.5|  58|1016.04|               18|             6|2002-06-01 02:00:00|       null|            null|R0lGODlhUAAxAPcAA...|  no_image_availabl...|43DD68D6-14A4-461...|2008-03-11 11:01:...|             1|Classic Vest|              null|29321D47-1E4C-4AA...|2007-06-01 02:00:00|             1|                1199| en    |4D00B649-027A-4F9...|2007-06-01 02:00:00|                 513|All-occasion valu...|741EAE59-5E59-4DB...|2007-06-01T00:00:...|\n",
      "|      680|HL Road Frame - B...|   FR-R92B-58|Black|     1059.31|   1431.5|  58|1016.04|               18|             6|2002-06-01 02:00:00|       null|            null|R0lGODlhUAAxAPcAA...|  no_image_availabl...|43DD68D6-14A4-461...|2008-03-11 11:01:...|             1|Classic Vest|              null|29321D47-1E4C-4AA...|2007-06-01 02:00:00|             1|                1199| en    |4D00B649-027A-4F9...|2007-06-01 02:00:00|                 554|The plush custom ...|DDC955B2-843E-49C...|2007-06-01T00:00:...|\n",
      "+---------+--------------------+-------------+-----+------------+---------+----+-------+-----------------+--------------+-------------------+-----------+----------------+--------------------+----------------------+--------------------+--------------------+--------------+------------+------------------+--------------------+-------------------+--------------+--------------------+-------+--------------------+-------------------+--------------------+--------------------+--------------------+--------------------+\n",
      "only showing top 20 rows\n",
      "\n"
     ]
    },
    {
     "name": "stderr",
     "output_type": "stream",
     "text": [
      "                                                                                \r"
     ]
    },
    {
     "name": "stdout",
     "output_type": "stream",
     "text": [
      "+---------+--------------------+-------------+-----+------------+---------+----+-------+-----------------+--------------+-------------------+-----------+----------------+--------------------+----------------------+--------------------+--------------------+--------------+------------+------------------+--------------------+-------------------+--------------+--------------------+-------+--------------------+-------------------+--------------------+--------------------+--------------------+--------------------+\n",
      "|ProductID|                Name|ProductNumber|Color|StandardCost|ListPrice|Size| Weight|ProductCategoryID|ProductModelID|      SellStartDate|SellEndDate|DiscontinuedDate|      ThumbNailPhoto|ThumbnailPhotoFileName|             rowguid|        ModifiedDate|ProductModelID|        Name|CatalogDescription|             rowguid|       ModifiedDate|ProductModelID|ProductDescriptionID|Culture|             rowguid|       ModifiedDate|ProductDescriptionID|         Description|             rowguid|        ModifiedDate|\n",
      "+---------+--------------------+-------------+-----+------------+---------+----+-------+-----------------+--------------+-------------------+-----------+----------------+--------------------+----------------------+--------------------+--------------------+--------------+------------+------------------+--------------------+-------------------+--------------+--------------------+-------+--------------------+-------------------+--------------------+--------------------+--------------------+--------------------+\n",
      "|      680|HL Road Frame - B...|   FR-R92B-58|Black|     1059.31|   1431.5|  58|1016.04|               18|             6|2002-06-01 02:00:00|       null|            null|R0lGODlhUAAxAPcAA...|  no_image_availabl...|43DD68D6-14A4-461...|2008-03-11 11:01:...|             1|Classic Vest|              null|29321D47-1E4C-4AA...|2007-06-01 02:00:00|             1|                1199| en    |4D00B649-027A-4F9...|2007-06-01 02:00:00|                   3|     Chromoly steel.|301EED3A-1A82-485...|2007-06-01T00:00:...|\n",
      "|      680|HL Road Frame - B...|   FR-R92B-58|Black|     1059.31|   1431.5|  58|1016.04|               18|             6|2002-06-01 02:00:00|       null|            null|R0lGODlhUAAxAPcAA...|  no_image_availabl...|43DD68D6-14A4-461...|2008-03-11 11:01:...|             1|Classic Vest|              null|29321D47-1E4C-4AA...|2007-06-01 02:00:00|             1|                1199| en    |4D00B649-027A-4F9...|2007-06-01 02:00:00|                   4|Aluminum alloy cu...|DFEBA528-DA11-465...|2007-06-01T00:00:...|\n",
      "|      680|HL Road Frame - B...|   FR-R92B-58|Black|     1059.31|   1431.5|  58|1016.04|               18|             6|2002-06-01 02:00:00|       null|            null|R0lGODlhUAAxAPcAA...|  no_image_availabl...|43DD68D6-14A4-461...|2008-03-11 11:01:...|             1|Classic Vest|              null|29321D47-1E4C-4AA...|2007-06-01 02:00:00|             1|                1199| en    |4D00B649-027A-4F9...|2007-06-01 02:00:00|                   5|Aluminum alloy cu...|F7178DA7-1A7E-499...|2007-06-01T00:00:...|\n",
      "|      680|HL Road Frame - B...|   FR-R92B-58|Black|     1059.31|   1431.5|  58|1016.04|               18|             6|2002-06-01 02:00:00|       null|            null|R0lGODlhUAAxAPcAA...|  no_image_availabl...|43DD68D6-14A4-461...|2008-03-11 11:01:...|             1|Classic Vest|              null|29321D47-1E4C-4AA...|2007-06-01 02:00:00|             1|                1199| en    |4D00B649-027A-4F9...|2007-06-01 02:00:00|                   8|Suitable for any ...|8E6746E5-AD97-46E...|2007-06-01T00:00:...|\n",
      "|      680|HL Road Frame - B...|   FR-R92B-58|Black|     1059.31|   1431.5|  58|1016.04|               18|             6|2002-06-01 02:00:00|       null|            null|R0lGODlhUAAxAPcAA...|  no_image_availabl...|43DD68D6-14A4-461...|2008-03-11 11:01:...|             1|Classic Vest|              null|29321D47-1E4C-4AA...|2007-06-01 02:00:00|             1|                1199| en    |4D00B649-027A-4F9...|2007-06-01 02:00:00|                  64|This bike deliver...|7B1C4E90-85E2-479...|2007-06-01T00:00:...|\n",
      "|      680|HL Road Frame - B...|   FR-R92B-58|Black|     1059.31|   1431.5|  58|1016.04|               18|             6|2002-06-01 02:00:00|       null|            null|R0lGODlhUAAxAPcAA...|  no_image_availabl...|43DD68D6-14A4-461...|2008-03-11 11:01:...|             1|Classic Vest|              null|29321D47-1E4C-4AA...|2007-06-01 02:00:00|             1|                1199| en    |4D00B649-027A-4F9...|2007-06-01 02:00:00|                  88|For true trail ad...|4C1AD253-357E-4A9...|2007-06-01T00:00:...|\n",
      "|      680|HL Road Frame - B...|   FR-R92B-58|Black|     1059.31|   1431.5|  58|1016.04|               18|             6|2002-06-01 02:00:00|       null|            null|R0lGODlhUAAxAPcAA...|  no_image_availabl...|43DD68D6-14A4-461...|2008-03-11 11:01:...|             1|Classic Vest|              null|29321D47-1E4C-4AA...|2007-06-01 02:00:00|             1|                1199| en    |4D00B649-027A-4F9...|2007-06-01 02:00:00|                 128|Serious back-coun...|130709E6-8512-49B...|2008-03-11T10:32:...|\n",
      "|      680|HL Road Frame - B...|   FR-R92B-58|Black|     1059.31|   1431.5|  58|1016.04|               18|             6|2002-06-01 02:00:00|       null|            null|R0lGODlhUAAxAPcAA...|  no_image_availabl...|43DD68D6-14A4-461...|2008-03-11 11:01:...|             1|Classic Vest|              null|29321D47-1E4C-4AA...|2007-06-01 02:00:00|             1|                1199| en    |4D00B649-027A-4F9...|2007-06-01 02:00:00|                 168|Top-of-the-line c...|DB979DA6-4CC8-417...|2007-06-01T00:00:...|\n",
      "|      680|HL Road Frame - B...|   FR-R92B-58|Black|     1059.31|   1431.5|  58|1016.04|               18|             6|2002-06-01 02:00:00|       null|            null|R0lGODlhUAAxAPcAA...|  no_image_availabl...|43DD68D6-14A4-461...|2008-03-11 11:01:...|             1|Classic Vest|              null|29321D47-1E4C-4AA...|2007-06-01 02:00:00|             1|                1199| en    |4D00B649-027A-4F9...|2007-06-01 02:00:00|                 170|Suitable for any ...|EA772412-6369-441...|2007-06-01T00:00:...|\n",
      "|      680|HL Road Frame - B...|   FR-R92B-58|Black|     1059.31|   1431.5|  58|1016.04|               18|             6|2002-06-01 02:00:00|       null|            null|R0lGODlhUAAxAPcAA...|  no_image_availabl...|43DD68D6-14A4-461...|2008-03-11 11:01:...|             1|Classic Vest|              null|29321D47-1E4C-4AA...|2007-06-01 02:00:00|             1|                1199| en    |4D00B649-027A-4F9...|2007-06-01 02:00:00|                 209|Entry level adult...|F5FF5FFD-CB7C-4AD...|2007-06-01T00:00:...|\n",
      "|      680|HL Road Frame - B...|   FR-R92B-58|Black|     1059.31|   1431.5|  58|1016.04|               18|             6|2002-06-01 02:00:00|       null|            null|R0lGODlhUAAxAPcAA...|  no_image_availabl...|43DD68D6-14A4-461...|2008-03-11 11:01:...|             1|Classic Vest|              null|29321D47-1E4C-4AA...|2007-06-01 02:00:00|             1|                1199| en    |4D00B649-027A-4F9...|2007-06-01 02:00:00|                 249|Value-priced bike...|4291F144-7693-446...|2007-06-01T00:00:...|\n",
      "|      680|HL Road Frame - B...|   FR-R92B-58|Black|     1059.31|   1431.5|  58|1016.04|               18|             6|2002-06-01 02:00:00|       null|            null|R0lGODlhUAAxAPcAA...|  no_image_availabl...|43DD68D6-14A4-461...|2008-03-11 11:01:...|             1|Classic Vest|              null|29321D47-1E4C-4AA...|2007-06-01 02:00:00|             1|                1199| en    |4D00B649-027A-4F9...|2007-06-01 02:00:00|                 320|Same technology a...|E130DED9-D0EC-465...|2007-06-01T00:00:...|\n",
      "|      680|HL Road Frame - B...|   FR-R92B-58|Black|     1059.31|   1431.5|  58|1016.04|               18|             6|2002-06-01 02:00:00|       null|            null|R0lGODlhUAAxAPcAA...|  no_image_availabl...|43DD68D6-14A4-461...|2008-03-11 11:01:...|             1|Classic Vest|              null|29321D47-1E4C-4AA...|2007-06-01 02:00:00|             1|                1199| en    |4D00B649-027A-4F9...|2007-06-01 02:00:00|                 321|Same technology a...|C7B429DA-DC51-47D...|2007-06-01T00:00:...|\n",
      "|      680|HL Road Frame - B...|   FR-R92B-58|Black|     1059.31|   1431.5|  58|1016.04|               18|             6|2002-06-01 02:00:00|       null|            null|R0lGODlhUAAxAPcAA...|  no_image_availabl...|43DD68D6-14A4-461...|2008-03-11 11:01:...|             1|Classic Vest|              null|29321D47-1E4C-4AA...|2007-06-01 02:00:00|             1|                1199| en    |4D00B649-027A-4F9...|2007-06-01 02:00:00|                 337|A true multi-spor...|DB560F0B-E70B-42A...|2007-06-01T00:00:...|\n",
      "|      680|HL Road Frame - B...|   FR-R92B-58|Black|     1059.31|   1431.5|  58|1016.04|               18|             6|2002-06-01 02:00:00|       null|            null|R0lGODlhUAAxAPcAA...|  no_image_availabl...|43DD68D6-14A4-461...|2008-03-11 11:01:...|             1|Classic Vest|              null|29321D47-1E4C-4AA...|2007-06-01 02:00:00|             1|                1199| en    |4D00B649-027A-4F9...|2007-06-01 02:00:00|                 375|Cross-train, race...|747B2185-0320-4FE...|2007-06-01T00:00:...|\n",
      "|      680|HL Road Frame - B...|   FR-R92B-58|Black|     1059.31|   1431.5|  58|1016.04|               18|             6|2002-06-01 02:00:00|       null|            null|R0lGODlhUAAxAPcAA...|  no_image_availabl...|43DD68D6-14A4-461...|2008-03-11 11:01:...|             1|Classic Vest|              null|29321D47-1E4C-4AA...|2007-06-01 02:00:00|             1|                1199| en    |4D00B649-027A-4F9...|2007-06-01 02:00:00|                 376|Cross-train, race...|F1D9955B-BC1C-4D3...|2007-06-01T00:00:...|\n",
      "|      680|HL Road Frame - B...|   FR-R92B-58|Black|     1059.31|   1431.5|  58|1016.04|               18|             6|2002-06-01 02:00:00|       null|            null|R0lGODlhUAAxAPcAA...|  no_image_availabl...|43DD68D6-14A4-461...|2008-03-11 11:01:...|             1|Classic Vest|              null|29321D47-1E4C-4AA...|2007-06-01 02:00:00|             1|                1199| en    |4D00B649-027A-4F9...|2007-06-01 02:00:00|                 409|Alluminum-alloy f...|3DC76714-7572-454...|2007-06-01T00:00:...|\n",
      "|      680|HL Road Frame - B...|   FR-R92B-58|Black|     1059.31|   1431.5|  58|1016.04|               18|             6|2002-06-01 02:00:00|       null|            null|R0lGODlhUAAxAPcAA...|  no_image_availabl...|43DD68D6-14A4-461...|2008-03-11 11:01:...|             1|Classic Vest|              null|29321D47-1E4C-4AA...|2007-06-01 02:00:00|             1|                1199| en    |4D00B649-027A-4F9...|2007-06-01 02:00:00|                 457|This bike is ridd...|3DDB8DEA-FC37-4E4...|2007-06-01T00:00:...|\n",
      "|      680|HL Road Frame - B...|   FR-R92B-58|Black|     1059.31|   1431.5|  58|1016.04|               18|             6|2002-06-01 02:00:00|       null|            null|R0lGODlhUAAxAPcAA...|  no_image_availabl...|43DD68D6-14A4-461...|2008-03-11 11:01:...|             1|Classic Vest|              null|29321D47-1E4C-4AA...|2007-06-01 02:00:00|             1|                1199| en    |4D00B649-027A-4F9...|2007-06-01 02:00:00|                 513|All-occasion valu...|741EAE59-5E59-4DB...|2007-06-01T00:00:...|\n",
      "|      680|HL Road Frame - B...|   FR-R92B-58|Black|     1059.31|   1431.5|  58|1016.04|               18|             6|2002-06-01 02:00:00|       null|            null|R0lGODlhUAAxAPcAA...|  no_image_availabl...|43DD68D6-14A4-461...|2008-03-11 11:01:...|             1|Classic Vest|              null|29321D47-1E4C-4AA...|2007-06-01 02:00:00|             1|                1199| en    |4D00B649-027A-4F9...|2007-06-01 02:00:00|                 554|The plush custom ...|DDC955B2-843E-49C...|2007-06-01T00:00:...|\n",
      "+---------+--------------------+-------------+-----+------------+---------+----+-------+-----------------+--------------+-------------------+-----------+----------------+--------------------+----------------------+--------------------+--------------------+--------------+------------+------------------+--------------------+-------------------+--------------+--------------------+-------+--------------------+-------------------+--------------------+--------------------+--------------------+--------------------+\n",
      "only showing top 20 rows\n",
      "\n",
      "+---------+--------------------+-------------+-----+------------+---------+----+-------+-----------------+--------------+-------------------+--------------------+----------------+--------------------+----------------------+--------------------+--------------------+\n",
      "|ProductID|                Name|ProductNumber|Color|StandardCost|ListPrice|Size| Weight|ProductCategoryID|ProductModelID|      SellStartDate|         SellEndDate|DiscontinuedDate|      ThumbNailPhoto|ThumbnailPhotoFileName|             rowguid|        ModifiedDate|\n",
      "+---------+--------------------+-------------+-----+------------+---------+----+-------+-----------------+--------------+-------------------+--------------------+----------------+--------------------+----------------------+--------------------+--------------------+\n",
      "|      680|HL Road Frame - B...|   FR-R92B-58|Black|     1059.31|   1431.5|  58|1016.04|               18|             6|2002-06-01 02:00:00|                null|            null|R0lGODlhUAAxAPcAA...|  no_image_availabl...|43DD68D6-14A4-461...|2008-03-11 11:01:...|\n",
      "|      706|HL Road Frame - R...|   FR-R92R-58|  Red|     1059.31|   1431.5|  58|1016.04|               18|             6|2002-06-01 02:00:00|                null|            null|R0lGODlhUAAxAPcAA...|  no_image_availabl...|9540FF17-2712-4C9...|2008-03-11 11:01:...|\n",
      "|      707|Sport-100 Helmet,...|    HL-U509-R|  Red|     13.0863|    34.99|null|   null|               35|            33|2005-07-01 02:00:00|                null|            null|R0lGODlhUAAxAPcAA...|  no_image_availabl...|2E1EF41A-C08A-4FF...|2008-03-11 11:01:...|\n",
      "|      708|Sport-100 Helmet,...|      HL-U509|Black|     13.0863|    34.99|null|   null|               35|            33|2005-07-01 02:00:00|                null|            null|R0lGODlhUAAxAPcAA...|  no_image_availabl...|A25A44FB-C2DE-426...|2008-03-11 11:01:...|\n",
      "|      709|Mountain Bike Soc...|    SO-B909-M|White|      3.3963|      9.5|   M|   null|               27|            18|2005-07-01 02:00:00|2006-06-30T00:00:...|            null|R0lGODlhUAAxAPcAA...|  no_image_availabl...|18F95F47-1540-4E0...|2008-03-11 11:01:...|\n",
      "|      710|Mountain Bike Soc...|    SO-B909-L|White|      3.3963|      9.5|   L|   null|               27|            18|2005-07-01 02:00:00|2006-06-30T00:00:...|            null|R0lGODlhUAAxAPcAA...|  no_image_availabl...|161C035E-21B3-4E1...|2008-03-11 11:01:...|\n",
      "|      711|Sport-100 Helmet,...|    HL-U509-B| Blue|     13.0863|    34.99|null|   null|               35|            33|2005-07-01 02:00:00|                null|            null|R0lGODlhUAAxAPcAA...|  no_image_availabl...|FD7C0858-4179-48C...|2008-03-11 11:01:...|\n",
      "|      712|        AWC Logo Cap|      CA-1098|Multi|      6.9223|     8.99|null|   null|               23|             2|2005-07-01 02:00:00|                null|            null|R0lGODlhUAAxAPcAA...|  no_image_availabl...|B9EDE243-A6F4-462...|2008-03-11 11:01:...|\n",
      "|      713|Long-Sleeve Logo ...|    LJ-0192-S|Multi|     38.4923|    49.99|   S|   null|               25|            11|2005-07-01 02:00:00|                null|            null|R0lGODlhUAAyAPcAA...|  awc_jersey_male_s...|FD449C82-A259-4FA...|2008-03-11 11:01:...|\n",
      "|      714|Long-Sleeve Logo ...|    LJ-0192-M|Multi|     38.4923|    49.99|   M|   null|               25|            11|2005-07-01 02:00:00|                null|            null|R0lGODlhUAAyAPcAA...|  awc_jersey_male_s...|6A290063-A0CF-432...|2008-03-11 11:01:...|\n",
      "|      715|Long-Sleeve Logo ...|    LJ-0192-L|Multi|     38.4923|    49.99|   L|   null|               25|            11|2005-07-01 02:00:00|                null|            null|R0lGODlhUAAyAPcAA...|  awc_jersey_male_s...|34CF5EF5-C077-4EA...|2008-03-11 11:01:...|\n",
      "|      716|Long-Sleeve Logo ...|    LJ-0192-X|Multi|     38.4923|    49.99|  XL|   null|               25|            11|2005-07-01 02:00:00|                null|            null|R0lGODlhUAAyAPcAA...|  awc_jersey_male_s...|6EC47EC9-C041-4DD...|2008-03-11 11:01:...|\n",
      "|      717|HL Road Frame - R...|   FR-R92R-62|  Red|    868.6342|   1431.5|  62|1043.26|               18|             6|2005-07-01 02:00:00|                null|            null|R0lGODlhUAAxAPcAA...|  no_image_availabl...|052E4F8B-0A2A-46B...|2008-03-11 11:01:...|\n",
      "|      718|HL Road Frame - R...|   FR-R92R-44|  Red|    868.6342|   1431.5|  44| 961.61|               18|             6|2005-07-01 02:00:00|                null|            null|R0lGODlhUAAxAPcAA...|  no_image_availabl...|A88D3B54-2CAE-43F...|2008-03-11 11:01:...|\n",
      "|      719|HL Road Frame - R...|   FR-R92R-48|  Red|    868.6342|   1431.5|  48| 979.75|               18|             6|2005-07-01 02:00:00|                null|            null|R0lGODlhUAAxAPcAA...|  no_image_availabl...|07BEFC9A-7634-402...|2008-03-11 11:01:...|\n",
      "|      720|HL Road Frame - R...|   FR-R92R-52|  Red|    868.6342|   1431.5|  52| 997.90|               18|             6|2005-07-01 02:00:00|                null|            null|R0lGODlhUAAxAPcAA...|  no_image_availabl...|FCFEA68F-310E-4E6...|2008-03-11 11:01:...|\n",
      "|      721|HL Road Frame - R...|   FR-R92R-56|  Red|    868.6342|   1431.5|  56|1016.04|               18|             6|2005-07-01 02:00:00|                null|            null|R0lGODlhUAAxAPcAA...|  no_image_availabl...|56C85873-4993-41B...|2008-03-11 11:01:...|\n",
      "|      722|LL Road Frame - B...|   FR-R38B-58|Black|    204.6251|   337.22|  58|1115.83|               18|             9|2005-07-01 02:00:00|                null|            null|R0lGODlhUAAxAPcAA...|  no_image_availabl...|2140F256-F705-4D6...|2008-03-11 11:01:...|\n",
      "|      723|LL Road Frame - B...|   FR-R38B-60|Black|    204.6251|   337.22|  60|1124.90|               18|             9|2005-07-01 02:00:00|                null|            null|R0lGODlhUAAxAPcAA...|  no_image_availabl...|AA95E2A5-E7C4-4B7...|2008-03-11 11:01:...|\n",
      "|      724|LL Road Frame - B...|   FR-R38B-62|Black|    204.6251|   337.22|  62|1133.98|               18|             9|2005-07-01 02:00:00|                null|            null|R0lGODlhUAAxAPcAA...|  no_image_availabl...|5247BE33-50BF-452...|2008-03-11 11:01:...|\n",
      "+---------+--------------------+-------------+-----+------------+---------+----+-------+-----------------+--------------+-------------------+--------------------+----------------+--------------------+----------------------+--------------------+--------------------+\n",
      "only showing top 20 rows\n",
      "\n",
      "+---------+----+-------------+-----+------------+---------+----+------+-----------------+--------------+-------------+-----------+----------------+--------------+----------------------+-------+------------+\n",
      "|ProductID|Name|ProductNumber|Color|StandardCost|ListPrice|Size|Weight|ProductCategoryID|ProductModelID|SellStartDate|SellEndDate|DiscontinuedDate|ThumbNailPhoto|ThumbnailPhotoFileName|rowguid|ModifiedDate|\n",
      "+---------+----+-------------+-----+------------+---------+----+------+-----------------+--------------+-------------+-----------+----------------+--------------+----------------------+-------+------------+\n",
      "+---------+----+-------------+-----+------------+---------+----+------+-----------------+--------------+-------------+-----------+----------------+--------------+----------------------+-------+------------+\n",
      "\n"
     ]
    }
   ],
   "source": [
    "for df in dataframes:\n",
    "    df.show()"
   ],
   "metadata": {
    "collapsed": false
   }
  },
  {
   "cell_type": "markdown",
   "source": [
    "### Cleaning up"
   ],
   "metadata": {
    "collapsed": false
   }
  },
  {
   "cell_type": "code",
   "execution_count": 56,
   "outputs": [],
   "source": [
    "del df_product\n",
    "del df_model\n",
    "del df_description\n",
    "del df_model_description\n",
    "\n",
    "del df_join_left\n",
    "del df_join_left_anti\n",
    "del df_join_outer\n",
    "del df_join_right\n",
    "del df_join_inner\n",
    "del df_join_left_semi\n",
    "\n",
    "del dataframes"
   ],
   "metadata": {
    "collapsed": false
   }
  },
  {
   "cell_type": "markdown",
   "source": [
    "## Customer tables"
   ],
   "metadata": {
    "collapsed": false
   }
  },
  {
   "cell_type": "code",
   "execution_count": 4,
   "outputs": [],
   "source": [
    "address_path = \"../../Lab_6/Address.csv\"\n",
    "customer_address_path = \"../../Lab_6/CustomerAddress.csv\"\n",
    "customer_path = \"../../Lab_6/Customer.csv\""
   ],
   "metadata": {
    "collapsed": false,
    "ExecuteTime": {
     "start_time": "2023-04-18T21:58:12.286865Z",
     "end_time": "2023-04-18T21:58:12.300142Z"
    }
   }
  },
  {
   "cell_type": "markdown",
   "source": [
    "### Loading data"
   ],
   "metadata": {
    "collapsed": false
   }
  },
  {
   "cell_type": "code",
   "execution_count": 58,
   "outputs": [],
   "source": [
    "df_address = spark.read.format(\"csv\").option(\"header\", \"true\").option(\"inferSchema\", \"true\").load(address_path)\n",
    "df_customer_address = spark.read.format(\"csv\").option(\"header\", \"true\").option(\"inferSchema\", \"true\").load(customer_address_path)\n",
    "df_customer = spark.read.format(\"csv\").option(\"header\", \"true\").option(\"inferSchema\", \"true\").load(customer_path)"
   ],
   "metadata": {
    "collapsed": false
   }
  },
  {
   "cell_type": "markdown",
   "source": [
    "### Joining"
   ],
   "metadata": {
    "collapsed": false
   }
  },
  {
   "cell_type": "code",
   "execution_count": 61,
   "outputs": [],
   "source": [
    "df_join_inner = df_address.join(df_customer_address).join(df_customer)\n",
    "df_join_left = df_address.join(df_customer_address, how=\"left\").join(df_customer, how=\"left\")\n",
    "df_join_right = df_address.join(df_customer_address, how=\"right\").join(df_customer, how=\"right\")\n",
    "df_join_outer = df_address.join(df_customer_address, how=\"outer\").join(df_customer, how=\"outer\")\n",
    "df_join_left_semi = df_address.join(df_customer_address, how=\"left_semi\").join(df_customer, how=\"left_semi\")\n",
    "df_join_left_anti = df_address.join(df_customer_address, how=\"left_anti\").join(df_customer, how=\"left_anti\")\n",
    "dataframes = [df_join_inner, df_join_left, df_join_right, df_join_outer, df_join_left_semi, df_join_left_anti]"
   ],
   "metadata": {
    "collapsed": false
   }
  },
  {
   "cell_type": "markdown",
   "source": [
    "### Explaining"
   ],
   "metadata": {
    "collapsed": false
   }
  },
  {
   "cell_type": "code",
   "execution_count": 62,
   "outputs": [
    {
     "name": "stdout",
     "output_type": "stream",
     "text": [
      "== Physical Plan ==\n",
      "AdaptiveSparkPlan isFinalPlan=false\n",
      "+- BroadcastNestedLoopJoin BuildRight, Inner\n",
      "   :- BroadcastNestedLoopJoin BuildRight, Inner\n",
      "   :  :- FileScan csv [AddressID#3865,AddressLine1#3866,AddressLine2#3867,City#3868,StateProvince#3869,CountryRegion#3870,PostalCode#3871,rowguid#3872,ModifiedDate#3873] Batched: false, DataFilters: [], Format: CSV, Location: InMemoryFileIndex(1 paths)[file:/home/jakub/Studies/bigdata/Lab_6/Address.csv], PartitionFilters: [], PushedFilters: [], ReadSchema: struct<AddressID:int,AddressLine1:string,AddressLine2:string,City:string,StateProvince:string,Cou...\n",
      "   :  +- BroadcastExchange IdentityBroadcastMode, [plan_id=2287]\n",
      "   :     +- FileScan csv [CustomerID#3900,AddressID#3901,AddressType#3902,rowguid#3903,ModifiedDate#3904] Batched: false, DataFilters: [], Format: CSV, Location: InMemoryFileIndex(1 paths)[file:/home/jakub/Studies/bigdata/Lab_6/CustomerAddress.csv], PartitionFilters: [], PushedFilters: [], ReadSchema: struct<CustomerID:int,AddressID:int,AddressType:string,rowguid:string,ModifiedDate:timestamp>\n",
      "   +- BroadcastExchange IdentityBroadcastMode, [plan_id=2290]\n",
      "      +- FileScan csv [CustomerID#3927,NameStyle#3928,Title#3929,FirstName#3930,MiddleName#3931,LastName#3932,Suffix#3933,CompanyName#3934,SalesPerson#3935,EmailAddress#3936,Phone#3937,PasswordHash#3938,PasswordSalt#3939,rowguid#3940,ModifiedDate#3941] Batched: false, DataFilters: [], Format: CSV, Location: InMemoryFileIndex(1 paths)[file:/home/jakub/Studies/bigdata/Lab_6/Customer.csv], PartitionFilters: [], PushedFilters: [], ReadSchema: struct<CustomerID:int,NameStyle:boolean,Title:string,FirstName:string,MiddleName:string,LastName:...\n",
      "\n",
      "\n",
      "== Physical Plan ==\n",
      "AdaptiveSparkPlan isFinalPlan=false\n",
      "+- BroadcastNestedLoopJoin BuildRight, LeftOuter\n",
      "   :- BroadcastNestedLoopJoin BuildRight, LeftOuter\n",
      "   :  :- FileScan csv [AddressID#3865,AddressLine1#3866,AddressLine2#3867,City#3868,StateProvince#3869,CountryRegion#3870,PostalCode#3871,rowguid#3872,ModifiedDate#3873] Batched: false, DataFilters: [], Format: CSV, Location: InMemoryFileIndex(1 paths)[file:/home/jakub/Studies/bigdata/Lab_6/Address.csv], PartitionFilters: [], PushedFilters: [], ReadSchema: struct<AddressID:int,AddressLine1:string,AddressLine2:string,City:string,StateProvince:string,Cou...\n",
      "   :  +- BroadcastExchange IdentityBroadcastMode, [plan_id=2312]\n",
      "   :     +- FileScan csv [CustomerID#3900,AddressID#3901,AddressType#3902,rowguid#3903,ModifiedDate#3904] Batched: false, DataFilters: [], Format: CSV, Location: InMemoryFileIndex(1 paths)[file:/home/jakub/Studies/bigdata/Lab_6/CustomerAddress.csv], PartitionFilters: [], PushedFilters: [], ReadSchema: struct<CustomerID:int,AddressID:int,AddressType:string,rowguid:string,ModifiedDate:timestamp>\n",
      "   +- BroadcastExchange IdentityBroadcastMode, [plan_id=2315]\n",
      "      +- FileScan csv [CustomerID#3927,NameStyle#3928,Title#3929,FirstName#3930,MiddleName#3931,LastName#3932,Suffix#3933,CompanyName#3934,SalesPerson#3935,EmailAddress#3936,Phone#3937,PasswordHash#3938,PasswordSalt#3939,rowguid#3940,ModifiedDate#3941] Batched: false, DataFilters: [], Format: CSV, Location: InMemoryFileIndex(1 paths)[file:/home/jakub/Studies/bigdata/Lab_6/Customer.csv], PartitionFilters: [], PushedFilters: [], ReadSchema: struct<CustomerID:int,NameStyle:boolean,Title:string,FirstName:string,MiddleName:string,LastName:...\n",
      "\n",
      "\n",
      "== Physical Plan ==\n",
      "AdaptiveSparkPlan isFinalPlan=false\n",
      "+- BroadcastNestedLoopJoin BuildRight, RightOuter\n",
      "   :- BroadcastNestedLoopJoin BuildLeft, RightOuter\n",
      "   :  :- BroadcastExchange IdentityBroadcastMode, [plan_id=2337]\n",
      "   :  :  +- FileScan csv [AddressID#3865,AddressLine1#3866,AddressLine2#3867,City#3868,StateProvince#3869,CountryRegion#3870,PostalCode#3871,rowguid#3872,ModifiedDate#3873] Batched: false, DataFilters: [], Format: CSV, Location: InMemoryFileIndex(1 paths)[file:/home/jakub/Studies/bigdata/Lab_6/Address.csv], PartitionFilters: [], PushedFilters: [], ReadSchema: struct<AddressID:int,AddressLine1:string,AddressLine2:string,City:string,StateProvince:string,Cou...\n",
      "   :  +- FileScan csv [CustomerID#3900,AddressID#3901,AddressType#3902,rowguid#3903,ModifiedDate#3904] Batched: false, DataFilters: [], Format: CSV, Location: InMemoryFileIndex(1 paths)[file:/home/jakub/Studies/bigdata/Lab_6/CustomerAddress.csv], PartitionFilters: [], PushedFilters: [], ReadSchema: struct<CustomerID:int,AddressID:int,AddressType:string,rowguid:string,ModifiedDate:timestamp>\n",
      "   +- BroadcastExchange IdentityBroadcastMode, [plan_id=2340]\n",
      "      +- FileScan csv [CustomerID#3927,NameStyle#3928,Title#3929,FirstName#3930,MiddleName#3931,LastName#3932,Suffix#3933,CompanyName#3934,SalesPerson#3935,EmailAddress#3936,Phone#3937,PasswordHash#3938,PasswordSalt#3939,rowguid#3940,ModifiedDate#3941] Batched: false, DataFilters: [], Format: CSV, Location: InMemoryFileIndex(1 paths)[file:/home/jakub/Studies/bigdata/Lab_6/Customer.csv], PartitionFilters: [], PushedFilters: [], ReadSchema: struct<CustomerID:int,NameStyle:boolean,Title:string,FirstName:string,MiddleName:string,LastName:...\n",
      "\n",
      "\n",
      "== Physical Plan ==\n",
      "AdaptiveSparkPlan isFinalPlan=false\n",
      "+- BroadcastNestedLoopJoin BuildRight, FullOuter\n",
      "   :- BroadcastNestedLoopJoin BuildRight, FullOuter\n",
      "   :  :- FileScan csv [AddressID#3865,AddressLine1#3866,AddressLine2#3867,City#3868,StateProvince#3869,CountryRegion#3870,PostalCode#3871,rowguid#3872,ModifiedDate#3873] Batched: false, DataFilters: [], Format: CSV, Location: InMemoryFileIndex(1 paths)[file:/home/jakub/Studies/bigdata/Lab_6/Address.csv], PartitionFilters: [], PushedFilters: [], ReadSchema: struct<AddressID:int,AddressLine1:string,AddressLine2:string,City:string,StateProvince:string,Cou...\n",
      "   :  +- BroadcastExchange IdentityBroadcastMode, [plan_id=2362]\n",
      "   :     +- FileScan csv [CustomerID#3900,AddressID#3901,AddressType#3902,rowguid#3903,ModifiedDate#3904] Batched: false, DataFilters: [], Format: CSV, Location: InMemoryFileIndex(1 paths)[file:/home/jakub/Studies/bigdata/Lab_6/CustomerAddress.csv], PartitionFilters: [], PushedFilters: [], ReadSchema: struct<CustomerID:int,AddressID:int,AddressType:string,rowguid:string,ModifiedDate:timestamp>\n",
      "   +- BroadcastExchange IdentityBroadcastMode, [plan_id=2365]\n",
      "      +- FileScan csv [CustomerID#3927,NameStyle#3928,Title#3929,FirstName#3930,MiddleName#3931,LastName#3932,Suffix#3933,CompanyName#3934,SalesPerson#3935,EmailAddress#3936,Phone#3937,PasswordHash#3938,PasswordSalt#3939,rowguid#3940,ModifiedDate#3941] Batched: false, DataFilters: [], Format: CSV, Location: InMemoryFileIndex(1 paths)[file:/home/jakub/Studies/bigdata/Lab_6/Customer.csv], PartitionFilters: [], PushedFilters: [], ReadSchema: struct<CustomerID:int,NameStyle:boolean,Title:string,FirstName:string,MiddleName:string,LastName:...\n",
      "\n",
      "\n",
      "== Physical Plan ==\n",
      "AdaptiveSparkPlan isFinalPlan=false\n",
      "+- BroadcastNestedLoopJoin BuildRight, LeftSemi\n",
      "   :- BroadcastNestedLoopJoin BuildRight, LeftSemi\n",
      "   :  :- FileScan csv [AddressID#3865,AddressLine1#3866,AddressLine2#3867,City#3868,StateProvince#3869,CountryRegion#3870,PostalCode#3871,rowguid#3872,ModifiedDate#3873] Batched: false, DataFilters: [], Format: CSV, Location: InMemoryFileIndex(1 paths)[file:/home/jakub/Studies/bigdata/Lab_6/Address.csv], PartitionFilters: [], PushedFilters: [], ReadSchema: struct<AddressID:int,AddressLine1:string,AddressLine2:string,City:string,StateProvince:string,Cou...\n",
      "   :  +- BroadcastExchange IdentityBroadcastMode, [plan_id=2387]\n",
      "   :     +- FileScan csv [] Batched: false, DataFilters: [], Format: CSV, Location: InMemoryFileIndex(1 paths)[file:/home/jakub/Studies/bigdata/Lab_6/CustomerAddress.csv], PartitionFilters: [], PushedFilters: [], ReadSchema: struct<>\n",
      "   +- BroadcastExchange IdentityBroadcastMode, [plan_id=2390]\n",
      "      +- FileScan csv [] Batched: false, DataFilters: [], Format: CSV, Location: InMemoryFileIndex(1 paths)[file:/home/jakub/Studies/bigdata/Lab_6/Customer.csv], PartitionFilters: [], PushedFilters: [], ReadSchema: struct<>\n",
      "\n",
      "\n",
      "== Physical Plan ==\n",
      "AdaptiveSparkPlan isFinalPlan=false\n",
      "+- BroadcastNestedLoopJoin BuildRight, LeftAnti\n",
      "   :- BroadcastNestedLoopJoin BuildRight, LeftAnti\n",
      "   :  :- FileScan csv [AddressID#3865,AddressLine1#3866,AddressLine2#3867,City#3868,StateProvince#3869,CountryRegion#3870,PostalCode#3871,rowguid#3872,ModifiedDate#3873] Batched: false, DataFilters: [], Format: CSV, Location: InMemoryFileIndex(1 paths)[file:/home/jakub/Studies/bigdata/Lab_6/Address.csv], PartitionFilters: [], PushedFilters: [], ReadSchema: struct<AddressID:int,AddressLine1:string,AddressLine2:string,City:string,StateProvince:string,Cou...\n",
      "   :  +- BroadcastExchange IdentityBroadcastMode, [plan_id=2412]\n",
      "   :     +- FileScan csv [] Batched: false, DataFilters: [], Format: CSV, Location: InMemoryFileIndex(1 paths)[file:/home/jakub/Studies/bigdata/Lab_6/CustomerAddress.csv], PartitionFilters: [], PushedFilters: [], ReadSchema: struct<>\n",
      "   +- BroadcastExchange IdentityBroadcastMode, [plan_id=2415]\n",
      "      +- FileScan csv [] Batched: false, DataFilters: [], Format: CSV, Location: InMemoryFileIndex(1 paths)[file:/home/jakub/Studies/bigdata/Lab_6/Customer.csv], PartitionFilters: [], PushedFilters: [], ReadSchema: struct<>\n",
      "\n",
      "\n"
     ]
    }
   ],
   "source": [
    "for df in dataframes:\n",
    "    df.explain()"
   ],
   "metadata": {
    "collapsed": false
   }
  },
  {
   "cell_type": "markdown",
   "source": [
    "### Showing data"
   ],
   "metadata": {
    "collapsed": false
   }
  },
  {
   "cell_type": "code",
   "execution_count": 63,
   "outputs": [
    {
     "name": "stdout",
     "output_type": "stream",
     "text": [
      "+---------+-----------------+------------+-------+-------------+-------------+----------+--------------------+-------------------+----------+---------+-----------+--------------------+-------------------+----------+---------+-----+-----------+----------+----------+------+--------------------+--------------------+--------------------+-------------------+--------------------+------------+--------------------+-------------------+\n",
      "|AddressID|     AddressLine1|AddressLine2|   City|StateProvince|CountryRegion|PostalCode|             rowguid|       ModifiedDate|CustomerID|AddressID|AddressType|             rowguid|       ModifiedDate|CustomerID|NameStyle|Title|  FirstName|MiddleName|  LastName|Suffix|         CompanyName|         SalesPerson|        EmailAddress|              Phone|        PasswordHash|PasswordSalt|             rowguid|       ModifiedDate|\n",
      "+---------+-----------------+------------+-------+-------------+-------------+----------+--------------------+-------------------+----------+---------+-----------+--------------------+-------------------+----------+---------+-----+-----------+----------+----------+------+--------------------+--------------------+--------------------+-------------------+--------------------+------------+--------------------+-------------------+\n",
      "|        9|8713 Yosemite Ct.|        null|Bothell|   Washington|United States|     98011|268AF621-76D7-4C7...|2006-07-01 02:00:00|     29485|     1086|Main Office|16765338-DBE4-442...|2007-09-01 02:00:00|         1|    false|  Mr.|    Orlando|        N.|       Gee|  null|        A Bike Store|adventure-works\\p...|orlando0@adventur...|       245-555-0173|L/Rlwxzp4w7RWmEgX...|    1KjXYs4=|3F5AE95E-B87D-4AE...|2005-08-01 02:00:00|\n",
      "|        9|8713 Yosemite Ct.|        null|Bothell|   Washington|United States|     98011|268AF621-76D7-4C7...|2006-07-01 02:00:00|     29485|     1086|Main Office|16765338-DBE4-442...|2007-09-01 02:00:00|         2|    false|  Mr.|      Keith|      null|    Harris|  null|  Progressive Sports|adventure-works\\d...|keith0@adventure-...|       170-555-0127|YPdtRdvqeAhj6wyxE...|    fs1ZGhY=|E552F657-A9AF-4A7...|2006-08-01 02:00:00|\n",
      "|        9|8713 Yosemite Ct.|        null|Bothell|   Washington|United States|     98011|268AF621-76D7-4C7...|2006-07-01 02:00:00|     29485|     1086|Main Office|16765338-DBE4-442...|2007-09-01 02:00:00|         3|    false|  Ms.|      Donna|        F.|  Carreras|  null|Advanced Bike Com...|adventure-works\\j...|donna0@adventure-...|       279-555-0130|LNoK27abGQo48gGue...|    YTNH5Rw=|130774B1-DB21-4EF...|2005-09-01 02:00:00|\n",
      "|        9|8713 Yosemite Ct.|        null|Bothell|   Washington|United States|     98011|268AF621-76D7-4C7...|2006-07-01 02:00:00|     29485|     1086|Main Office|16765338-DBE4-442...|2007-09-01 02:00:00|         4|    false|  Ms.|      Janet|        M.|     Gates|  null|Modular Cycle Sys...|adventure-works\\j...|janet1@adventure-...|       710-555-0173|ElzTpSNbUW1Ut+L5c...|    nm7D5e4=|FF862851-1DAA-404...|2006-07-01 02:00:00|\n",
      "|        9|8713 Yosemite Ct.|        null|Bothell|   Washington|United States|     98011|268AF621-76D7-4C7...|2006-07-01 02:00:00|     29485|     1086|Main Office|16765338-DBE4-442...|2007-09-01 02:00:00|         5|    false|  Mr.|       Lucy|      null|Harrington|  null|Metropolitan Spor...|adventure-works\\shu0|lucy0@adventure-w...|       828-555-0186|KJqV15wsX3PG8TS5G...|    cNFKU4w=|83905BDC-6F5E-4F7...|2006-09-01 02:00:00|\n",
      "|        9|8713 Yosemite Ct.|        null|Bothell|   Washington|United States|     98011|268AF621-76D7-4C7...|2006-07-01 02:00:00|     29485|     1086|Main Office|16765338-DBE4-442...|2007-09-01 02:00:00|         6|    false|  Ms.|   Rosmarie|        J.|   Carroll|  null|Aerobic Exercise ...|adventure-works\\l...|rosmarie0@adventu...|       244-555-0112|OKT0scizCdIzymHHO...|    ihWf50M=|1A92DF88-BFA2-467...|2007-09-01 02:00:00|\n",
      "|        9|8713 Yosemite Ct.|        null|Bothell|   Washington|United States|     98011|268AF621-76D7-4C7...|2006-07-01 02:00:00|     29485|     1086|Main Office|16765338-DBE4-442...|2007-09-01 02:00:00|         7|    false|  Mr.|    Dominic|        P.|      Gash|  null|    Associated Bikes|adventure-works\\shu0|dominic0@adventur...|       192-555-0173|ZccoP/jZGQm+Xpzc7...|    sPoUBSQ=|03E9273E-B193-448...|2006-07-01 02:00:00|\n",
      "|        9|8713 Yosemite Ct.|        null|Bothell|   Washington|United States|     98011|268AF621-76D7-4C7...|2006-07-01 02:00:00|     29485|     1086|Main Office|16765338-DBE4-442...|2007-09-01 02:00:00|        10|    false|  Ms.|   Kathleen|        M.|     Garza|  null|Rural Cycle Emporium|adventure-works\\j...|kathleen0@adventu...|       150-555-0127|Qa3aMCxNbVLGrc0b9...|    Ls05W3g=|CDB6698D-2FF1-4FB...|2006-09-01 02:00:00|\n",
      "|        9|8713 Yosemite Ct.|        null|Bothell|   Washington|United States|     98011|268AF621-76D7-4C7...|2006-07-01 02:00:00|     29485|     1086|Main Office|16765338-DBE4-442...|2007-09-01 02:00:00|        11|    false|  Ms.|  Katherine|      null|   Harding|  null|         Sharp Bikes|adventure-works\\j...|katherine0@advent...|       926-555-0159|uRlorVzDGNJIX9I+e...|    jpHKbqE=|750F3495-59C4-48A...|2005-08-01 02:00:00|\n",
      "|        9|8713 Yosemite Ct.|        null|Bothell|   Washington|United States|     98011|268AF621-76D7-4C7...|2006-07-01 02:00:00|     29485|     1086|Main Office|16765338-DBE4-442...|2007-09-01 02:00:00|        12|    false|  Mr.|     Johnny|        A.|    Caprio|   Jr.|Bikes and Motorbikes|adventure-works\\g...|johnny0@adventure...|       112-555-0191|jtF9jBoFYeJTaET7x...|    wVLnvHo=|947BCAF1-1F32-44F...|2006-08-01 02:00:00|\n",
      "|        9|8713 Yosemite Ct.|        null|Bothell|   Washington|United States|     98011|268AF621-76D7-4C7...|2006-07-01 02:00:00|     29485|     1086|Main Office|16765338-DBE4-442...|2007-09-01 02:00:00|        16|    false|  Mr.|Christopher|        R.|      Beck|   Jr.| Bulk Discount Store|adventure-works\\jae0|christopher1@adve...|1 (11) 500 555-0132|sKt9daCzEEKWAzivE...|    8KfYx/4=|C9381589-D31C-4EF...|2006-09-01 02:00:00|\n",
      "|        9|8713 Yosemite Ct.|        null|Bothell|   Washington|United States|     98011|268AF621-76D7-4C7...|2006-07-01 02:00:00|     29485|     1086|Main Office|16765338-DBE4-442...|2007-09-01 02:00:00|        18|    false|  Mr.|      David|        J.|       Liu|  null|       Catalog Store|adventure-works\\m...|david20@adventure...|       440-555-0132|61zeTkO+eI5g8GG0s...|    c7Ttvv0=|C04D6B4D-94C6-4C5...|2005-08-01 02:00:00|\n",
      "|        9|8713 Yosemite Ct.|        null|Bothell|   Washington|United States|     98011|268AF621-76D7-4C7...|2006-07-01 02:00:00|     29485|     1086|Main Office|16765338-DBE4-442...|2007-09-01 02:00:00|        19|    false|  Mr.|       John|        A.|    Beaver|  null|   Center Cycle Shop|adventure-works\\p...|john8@adventure-w...|       521-555-0195|DzbqWX7B3EK5Dub92...|    zXNgrJw=|69AE5D43-31BE-4B7...|2007-04-01 02:00:00|\n",
      "|        9|8713 Yosemite Ct.|        null|Bothell|   Washington|United States|     98011|268AF621-76D7-4C7...|2006-07-01 02:00:00|     29485|     1086|Main Office|16765338-DBE4-442...|2007-09-01 02:00:00|        20|    false|  Ms.|       Jean|        P.|   Handley|  null|Central Discount ...|adventure-works\\d...|jean1@adventure-w...|       582-555-0113|o1GVo3vExeNzo0/ct...|    uMsvfdo=|E010C10A-F1C3-4BB...|2005-09-01 02:00:00|\n",
      "|        9|8713 Yosemite Ct.|        null|Bothell|   Washington|United States|     98011|268AF621-76D7-4C7...|2006-07-01 02:00:00|     29485|     1086|Main Office|16765338-DBE4-442...|2007-09-01 02:00:00|        21|    false| null|    Jinghao|      null|       Liu|  null|Chic Department S...|adventure-works\\j...|jinghao1@adventur...|       928-555-0116|IaD5AeqK9mRiIrJi/...|    p6pOqKc=|564E0B42-4609-43D...|2006-09-01 02:00:00|\n",
      "|        9|8713 Yosemite Ct.|        null|Bothell|   Washington|United States|     98011|268AF621-76D7-4C7...|2006-07-01 02:00:00|     29485|     1086|Main Office|16765338-DBE4-442...|2007-09-01 02:00:00|        22|    false|  Ms.|      Linda|        E.|   Burnett|  null|      Travel Systems|adventure-works\\j...|linda4@adventure-...|       121-555-0121|23AwhujCoXYSPiN/B...|    SmyIPjE=|9774AED6-D673-412...|2005-08-01 02:00:00|\n",
      "|        9|8713 Yosemite Ct.|        null|Bothell|   Washington|United States|     98011|268AF621-76D7-4C7...|2006-07-01 02:00:00|     29485|     1086|Main Office|16765338-DBE4-442...|2007-09-01 02:00:00|        23|    false|  Mr.|      Kerim|      null|     Hanif|  null|          Bike World|adventure-works\\shu0|kerim0@adventure-...|       216-555-0122|d0WSjosAd7Y3XOWjN...|    33g5co8=|733F8250-3251-4C2...|2006-09-01 02:00:00|\n",
      "|        9|8713 Yosemite Ct.|        null|Bothell|   Washington|United States|     98011|268AF621-76D7-4C7...|2006-07-01 02:00:00|     29485|     1086|Main Office|16765338-DBE4-442...|2007-09-01 02:00:00|        24|    false|  Mr.|      Kevin|      null|       Liu|  null|Eastside Departme...|adventure-works\\l...|kevin5@adventure-...|       926-555-0164|ylTpkIOHKLcjihNjS...|    TgZnUOg=|C111E51D-178D-4DB...|2006-09-01 02:00:00|\n",
      "|        9|8713 Yosemite Ct.|        null|Bothell|   Washington|United States|     98011|268AF621-76D7-4C7...|2006-07-01 02:00:00|     29485|     1086|Main Office|16765338-DBE4-442...|2007-09-01 02:00:00|        25|    false|  Mr.|     Donald|        L.|   Blanton|  null|Coalition Bike Co...|adventure-works\\shu0|donald0@adventure...|       357-555-0161|pKYDelLBOZMO98GBz...|    jKtOaOw=|31D03546-FB2A-448...|2006-09-01 02:00:00|\n",
      "|        9|8713 Yosemite Ct.|        null|Bothell|   Washington|United States|     98011|268AF621-76D7-4C7...|2006-07-01 02:00:00|     29485|     1086|Main Office|16765338-DBE4-442...|2007-09-01 02:00:00|        28|    false|  Ms.|     Jackie|        E.| Blackwell|  null|Commuter Bicycle ...|adventure-works\\j...|jackie0@adventure...|       972-555-0163|wqhgKfOTfef4Zo3cb...|    SZ+r60o=|9B8A04A4-D909-4F4...|2007-08-01 02:00:00|\n",
      "+---------+-----------------+------------+-------+-------------+-------------+----------+--------------------+-------------------+----------+---------+-----------+--------------------+-------------------+----------+---------+-----+-----------+----------+----------+------+--------------------+--------------------+--------------------+-------------------+--------------------+------------+--------------------+-------------------+\n",
      "only showing top 20 rows\n",
      "\n",
      "+---------+-----------------+------------+-------+-------------+-------------+----------+--------------------+-------------------+----------+---------+-----------+--------------------+-------------------+----------+---------+-----+-----------+----------+----------+------+--------------------+--------------------+--------------------+-------------------+--------------------+------------+--------------------+-------------------+\n",
      "|AddressID|     AddressLine1|AddressLine2|   City|StateProvince|CountryRegion|PostalCode|             rowguid|       ModifiedDate|CustomerID|AddressID|AddressType|             rowguid|       ModifiedDate|CustomerID|NameStyle|Title|  FirstName|MiddleName|  LastName|Suffix|         CompanyName|         SalesPerson|        EmailAddress|              Phone|        PasswordHash|PasswordSalt|             rowguid|       ModifiedDate|\n",
      "+---------+-----------------+------------+-------+-------------+-------------+----------+--------------------+-------------------+----------+---------+-----------+--------------------+-------------------+----------+---------+-----+-----------+----------+----------+------+--------------------+--------------------+--------------------+-------------------+--------------------+------------+--------------------+-------------------+\n",
      "|        9|8713 Yosemite Ct.|        null|Bothell|   Washington|United States|     98011|268AF621-76D7-4C7...|2006-07-01 02:00:00|     29485|     1086|Main Office|16765338-DBE4-442...|2007-09-01 02:00:00|         1|    false|  Mr.|    Orlando|        N.|       Gee|  null|        A Bike Store|adventure-works\\p...|orlando0@adventur...|       245-555-0173|L/Rlwxzp4w7RWmEgX...|    1KjXYs4=|3F5AE95E-B87D-4AE...|2005-08-01 02:00:00|\n",
      "|        9|8713 Yosemite Ct.|        null|Bothell|   Washington|United States|     98011|268AF621-76D7-4C7...|2006-07-01 02:00:00|     29485|     1086|Main Office|16765338-DBE4-442...|2007-09-01 02:00:00|         2|    false|  Mr.|      Keith|      null|    Harris|  null|  Progressive Sports|adventure-works\\d...|keith0@adventure-...|       170-555-0127|YPdtRdvqeAhj6wyxE...|    fs1ZGhY=|E552F657-A9AF-4A7...|2006-08-01 02:00:00|\n",
      "|        9|8713 Yosemite Ct.|        null|Bothell|   Washington|United States|     98011|268AF621-76D7-4C7...|2006-07-01 02:00:00|     29485|     1086|Main Office|16765338-DBE4-442...|2007-09-01 02:00:00|         3|    false|  Ms.|      Donna|        F.|  Carreras|  null|Advanced Bike Com...|adventure-works\\j...|donna0@adventure-...|       279-555-0130|LNoK27abGQo48gGue...|    YTNH5Rw=|130774B1-DB21-4EF...|2005-09-01 02:00:00|\n",
      "|        9|8713 Yosemite Ct.|        null|Bothell|   Washington|United States|     98011|268AF621-76D7-4C7...|2006-07-01 02:00:00|     29485|     1086|Main Office|16765338-DBE4-442...|2007-09-01 02:00:00|         4|    false|  Ms.|      Janet|        M.|     Gates|  null|Modular Cycle Sys...|adventure-works\\j...|janet1@adventure-...|       710-555-0173|ElzTpSNbUW1Ut+L5c...|    nm7D5e4=|FF862851-1DAA-404...|2006-07-01 02:00:00|\n",
      "|        9|8713 Yosemite Ct.|        null|Bothell|   Washington|United States|     98011|268AF621-76D7-4C7...|2006-07-01 02:00:00|     29485|     1086|Main Office|16765338-DBE4-442...|2007-09-01 02:00:00|         5|    false|  Mr.|       Lucy|      null|Harrington|  null|Metropolitan Spor...|adventure-works\\shu0|lucy0@adventure-w...|       828-555-0186|KJqV15wsX3PG8TS5G...|    cNFKU4w=|83905BDC-6F5E-4F7...|2006-09-01 02:00:00|\n",
      "|        9|8713 Yosemite Ct.|        null|Bothell|   Washington|United States|     98011|268AF621-76D7-4C7...|2006-07-01 02:00:00|     29485|     1086|Main Office|16765338-DBE4-442...|2007-09-01 02:00:00|         6|    false|  Ms.|   Rosmarie|        J.|   Carroll|  null|Aerobic Exercise ...|adventure-works\\l...|rosmarie0@adventu...|       244-555-0112|OKT0scizCdIzymHHO...|    ihWf50M=|1A92DF88-BFA2-467...|2007-09-01 02:00:00|\n",
      "|        9|8713 Yosemite Ct.|        null|Bothell|   Washington|United States|     98011|268AF621-76D7-4C7...|2006-07-01 02:00:00|     29485|     1086|Main Office|16765338-DBE4-442...|2007-09-01 02:00:00|         7|    false|  Mr.|    Dominic|        P.|      Gash|  null|    Associated Bikes|adventure-works\\shu0|dominic0@adventur...|       192-555-0173|ZccoP/jZGQm+Xpzc7...|    sPoUBSQ=|03E9273E-B193-448...|2006-07-01 02:00:00|\n",
      "|        9|8713 Yosemite Ct.|        null|Bothell|   Washington|United States|     98011|268AF621-76D7-4C7...|2006-07-01 02:00:00|     29485|     1086|Main Office|16765338-DBE4-442...|2007-09-01 02:00:00|        10|    false|  Ms.|   Kathleen|        M.|     Garza|  null|Rural Cycle Emporium|adventure-works\\j...|kathleen0@adventu...|       150-555-0127|Qa3aMCxNbVLGrc0b9...|    Ls05W3g=|CDB6698D-2FF1-4FB...|2006-09-01 02:00:00|\n",
      "|        9|8713 Yosemite Ct.|        null|Bothell|   Washington|United States|     98011|268AF621-76D7-4C7...|2006-07-01 02:00:00|     29485|     1086|Main Office|16765338-DBE4-442...|2007-09-01 02:00:00|        11|    false|  Ms.|  Katherine|      null|   Harding|  null|         Sharp Bikes|adventure-works\\j...|katherine0@advent...|       926-555-0159|uRlorVzDGNJIX9I+e...|    jpHKbqE=|750F3495-59C4-48A...|2005-08-01 02:00:00|\n",
      "|        9|8713 Yosemite Ct.|        null|Bothell|   Washington|United States|     98011|268AF621-76D7-4C7...|2006-07-01 02:00:00|     29485|     1086|Main Office|16765338-DBE4-442...|2007-09-01 02:00:00|        12|    false|  Mr.|     Johnny|        A.|    Caprio|   Jr.|Bikes and Motorbikes|adventure-works\\g...|johnny0@adventure...|       112-555-0191|jtF9jBoFYeJTaET7x...|    wVLnvHo=|947BCAF1-1F32-44F...|2006-08-01 02:00:00|\n",
      "|        9|8713 Yosemite Ct.|        null|Bothell|   Washington|United States|     98011|268AF621-76D7-4C7...|2006-07-01 02:00:00|     29485|     1086|Main Office|16765338-DBE4-442...|2007-09-01 02:00:00|        16|    false|  Mr.|Christopher|        R.|      Beck|   Jr.| Bulk Discount Store|adventure-works\\jae0|christopher1@adve...|1 (11) 500 555-0132|sKt9daCzEEKWAzivE...|    8KfYx/4=|C9381589-D31C-4EF...|2006-09-01 02:00:00|\n",
      "|        9|8713 Yosemite Ct.|        null|Bothell|   Washington|United States|     98011|268AF621-76D7-4C7...|2006-07-01 02:00:00|     29485|     1086|Main Office|16765338-DBE4-442...|2007-09-01 02:00:00|        18|    false|  Mr.|      David|        J.|       Liu|  null|       Catalog Store|adventure-works\\m...|david20@adventure...|       440-555-0132|61zeTkO+eI5g8GG0s...|    c7Ttvv0=|C04D6B4D-94C6-4C5...|2005-08-01 02:00:00|\n",
      "|        9|8713 Yosemite Ct.|        null|Bothell|   Washington|United States|     98011|268AF621-76D7-4C7...|2006-07-01 02:00:00|     29485|     1086|Main Office|16765338-DBE4-442...|2007-09-01 02:00:00|        19|    false|  Mr.|       John|        A.|    Beaver|  null|   Center Cycle Shop|adventure-works\\p...|john8@adventure-w...|       521-555-0195|DzbqWX7B3EK5Dub92...|    zXNgrJw=|69AE5D43-31BE-4B7...|2007-04-01 02:00:00|\n",
      "|        9|8713 Yosemite Ct.|        null|Bothell|   Washington|United States|     98011|268AF621-76D7-4C7...|2006-07-01 02:00:00|     29485|     1086|Main Office|16765338-DBE4-442...|2007-09-01 02:00:00|        20|    false|  Ms.|       Jean|        P.|   Handley|  null|Central Discount ...|adventure-works\\d...|jean1@adventure-w...|       582-555-0113|o1GVo3vExeNzo0/ct...|    uMsvfdo=|E010C10A-F1C3-4BB...|2005-09-01 02:00:00|\n",
      "|        9|8713 Yosemite Ct.|        null|Bothell|   Washington|United States|     98011|268AF621-76D7-4C7...|2006-07-01 02:00:00|     29485|     1086|Main Office|16765338-DBE4-442...|2007-09-01 02:00:00|        21|    false| null|    Jinghao|      null|       Liu|  null|Chic Department S...|adventure-works\\j...|jinghao1@adventur...|       928-555-0116|IaD5AeqK9mRiIrJi/...|    p6pOqKc=|564E0B42-4609-43D...|2006-09-01 02:00:00|\n",
      "|        9|8713 Yosemite Ct.|        null|Bothell|   Washington|United States|     98011|268AF621-76D7-4C7...|2006-07-01 02:00:00|     29485|     1086|Main Office|16765338-DBE4-442...|2007-09-01 02:00:00|        22|    false|  Ms.|      Linda|        E.|   Burnett|  null|      Travel Systems|adventure-works\\j...|linda4@adventure-...|       121-555-0121|23AwhujCoXYSPiN/B...|    SmyIPjE=|9774AED6-D673-412...|2005-08-01 02:00:00|\n",
      "|        9|8713 Yosemite Ct.|        null|Bothell|   Washington|United States|     98011|268AF621-76D7-4C7...|2006-07-01 02:00:00|     29485|     1086|Main Office|16765338-DBE4-442...|2007-09-01 02:00:00|        23|    false|  Mr.|      Kerim|      null|     Hanif|  null|          Bike World|adventure-works\\shu0|kerim0@adventure-...|       216-555-0122|d0WSjosAd7Y3XOWjN...|    33g5co8=|733F8250-3251-4C2...|2006-09-01 02:00:00|\n",
      "|        9|8713 Yosemite Ct.|        null|Bothell|   Washington|United States|     98011|268AF621-76D7-4C7...|2006-07-01 02:00:00|     29485|     1086|Main Office|16765338-DBE4-442...|2007-09-01 02:00:00|        24|    false|  Mr.|      Kevin|      null|       Liu|  null|Eastside Departme...|adventure-works\\l...|kevin5@adventure-...|       926-555-0164|ylTpkIOHKLcjihNjS...|    TgZnUOg=|C111E51D-178D-4DB...|2006-09-01 02:00:00|\n",
      "|        9|8713 Yosemite Ct.|        null|Bothell|   Washington|United States|     98011|268AF621-76D7-4C7...|2006-07-01 02:00:00|     29485|     1086|Main Office|16765338-DBE4-442...|2007-09-01 02:00:00|        25|    false|  Mr.|     Donald|        L.|   Blanton|  null|Coalition Bike Co...|adventure-works\\shu0|donald0@adventure...|       357-555-0161|pKYDelLBOZMO98GBz...|    jKtOaOw=|31D03546-FB2A-448...|2006-09-01 02:00:00|\n",
      "|        9|8713 Yosemite Ct.|        null|Bothell|   Washington|United States|     98011|268AF621-76D7-4C7...|2006-07-01 02:00:00|     29485|     1086|Main Office|16765338-DBE4-442...|2007-09-01 02:00:00|        28|    false|  Ms.|     Jackie|        E.| Blackwell|  null|Commuter Bicycle ...|adventure-works\\j...|jackie0@adventure...|       972-555-0163|wqhgKfOTfef4Zo3cb...|    SZ+r60o=|9B8A04A4-D909-4F4...|2007-08-01 02:00:00|\n",
      "+---------+-----------------+------------+-------+-------------+-------------+----------+--------------------+-------------------+----------+---------+-----------+--------------------+-------------------+----------+---------+-----+-----------+----------+----------+------+--------------------+--------------------+--------------------+-------------------+--------------------+------------+--------------------+-------------------+\n",
      "only showing top 20 rows\n",
      "\n",
      "+---------+-----------------+------------+-------+-------------+-------------+----------+--------------------+-------------------+----------+---------+-----------+--------------------+-------------------+----------+---------+-----+-----------+----------+----------+------+--------------------+--------------------+--------------------+-------------------+--------------------+------------+--------------------+-------------------+\n",
      "|AddressID|     AddressLine1|AddressLine2|   City|StateProvince|CountryRegion|PostalCode|             rowguid|       ModifiedDate|CustomerID|AddressID|AddressType|             rowguid|       ModifiedDate|CustomerID|NameStyle|Title|  FirstName|MiddleName|  LastName|Suffix|         CompanyName|         SalesPerson|        EmailAddress|              Phone|        PasswordHash|PasswordSalt|             rowguid|       ModifiedDate|\n",
      "+---------+-----------------+------------+-------+-------------+-------------+----------+--------------------+-------------------+----------+---------+-----------+--------------------+-------------------+----------+---------+-----+-----------+----------+----------+------+--------------------+--------------------+--------------------+-------------------+--------------------+------------+--------------------+-------------------+\n",
      "|        9|8713 Yosemite Ct.|        null|Bothell|   Washington|United States|     98011|268AF621-76D7-4C7...|2006-07-01 02:00:00|     29485|     1086|Main Office|16765338-DBE4-442...|2007-09-01 02:00:00|         1|    false|  Mr.|    Orlando|        N.|       Gee|  null|        A Bike Store|adventure-works\\p...|orlando0@adventur...|       245-555-0173|L/Rlwxzp4w7RWmEgX...|    1KjXYs4=|3F5AE95E-B87D-4AE...|2005-08-01 02:00:00|\n",
      "|        9|8713 Yosemite Ct.|        null|Bothell|   Washington|United States|     98011|268AF621-76D7-4C7...|2006-07-01 02:00:00|     29485|     1086|Main Office|16765338-DBE4-442...|2007-09-01 02:00:00|         2|    false|  Mr.|      Keith|      null|    Harris|  null|  Progressive Sports|adventure-works\\d...|keith0@adventure-...|       170-555-0127|YPdtRdvqeAhj6wyxE...|    fs1ZGhY=|E552F657-A9AF-4A7...|2006-08-01 02:00:00|\n",
      "|        9|8713 Yosemite Ct.|        null|Bothell|   Washington|United States|     98011|268AF621-76D7-4C7...|2006-07-01 02:00:00|     29485|     1086|Main Office|16765338-DBE4-442...|2007-09-01 02:00:00|         3|    false|  Ms.|      Donna|        F.|  Carreras|  null|Advanced Bike Com...|adventure-works\\j...|donna0@adventure-...|       279-555-0130|LNoK27abGQo48gGue...|    YTNH5Rw=|130774B1-DB21-4EF...|2005-09-01 02:00:00|\n",
      "|        9|8713 Yosemite Ct.|        null|Bothell|   Washington|United States|     98011|268AF621-76D7-4C7...|2006-07-01 02:00:00|     29485|     1086|Main Office|16765338-DBE4-442...|2007-09-01 02:00:00|         4|    false|  Ms.|      Janet|        M.|     Gates|  null|Modular Cycle Sys...|adventure-works\\j...|janet1@adventure-...|       710-555-0173|ElzTpSNbUW1Ut+L5c...|    nm7D5e4=|FF862851-1DAA-404...|2006-07-01 02:00:00|\n",
      "|        9|8713 Yosemite Ct.|        null|Bothell|   Washington|United States|     98011|268AF621-76D7-4C7...|2006-07-01 02:00:00|     29485|     1086|Main Office|16765338-DBE4-442...|2007-09-01 02:00:00|         5|    false|  Mr.|       Lucy|      null|Harrington|  null|Metropolitan Spor...|adventure-works\\shu0|lucy0@adventure-w...|       828-555-0186|KJqV15wsX3PG8TS5G...|    cNFKU4w=|83905BDC-6F5E-4F7...|2006-09-01 02:00:00|\n",
      "|        9|8713 Yosemite Ct.|        null|Bothell|   Washington|United States|     98011|268AF621-76D7-4C7...|2006-07-01 02:00:00|     29485|     1086|Main Office|16765338-DBE4-442...|2007-09-01 02:00:00|         6|    false|  Ms.|   Rosmarie|        J.|   Carroll|  null|Aerobic Exercise ...|adventure-works\\l...|rosmarie0@adventu...|       244-555-0112|OKT0scizCdIzymHHO...|    ihWf50M=|1A92DF88-BFA2-467...|2007-09-01 02:00:00|\n",
      "|        9|8713 Yosemite Ct.|        null|Bothell|   Washington|United States|     98011|268AF621-76D7-4C7...|2006-07-01 02:00:00|     29485|     1086|Main Office|16765338-DBE4-442...|2007-09-01 02:00:00|         7|    false|  Mr.|    Dominic|        P.|      Gash|  null|    Associated Bikes|adventure-works\\shu0|dominic0@adventur...|       192-555-0173|ZccoP/jZGQm+Xpzc7...|    sPoUBSQ=|03E9273E-B193-448...|2006-07-01 02:00:00|\n",
      "|        9|8713 Yosemite Ct.|        null|Bothell|   Washington|United States|     98011|268AF621-76D7-4C7...|2006-07-01 02:00:00|     29485|     1086|Main Office|16765338-DBE4-442...|2007-09-01 02:00:00|        10|    false|  Ms.|   Kathleen|        M.|     Garza|  null|Rural Cycle Emporium|adventure-works\\j...|kathleen0@adventu...|       150-555-0127|Qa3aMCxNbVLGrc0b9...|    Ls05W3g=|CDB6698D-2FF1-4FB...|2006-09-01 02:00:00|\n",
      "|        9|8713 Yosemite Ct.|        null|Bothell|   Washington|United States|     98011|268AF621-76D7-4C7...|2006-07-01 02:00:00|     29485|     1086|Main Office|16765338-DBE4-442...|2007-09-01 02:00:00|        11|    false|  Ms.|  Katherine|      null|   Harding|  null|         Sharp Bikes|adventure-works\\j...|katherine0@advent...|       926-555-0159|uRlorVzDGNJIX9I+e...|    jpHKbqE=|750F3495-59C4-48A...|2005-08-01 02:00:00|\n",
      "|        9|8713 Yosemite Ct.|        null|Bothell|   Washington|United States|     98011|268AF621-76D7-4C7...|2006-07-01 02:00:00|     29485|     1086|Main Office|16765338-DBE4-442...|2007-09-01 02:00:00|        12|    false|  Mr.|     Johnny|        A.|    Caprio|   Jr.|Bikes and Motorbikes|adventure-works\\g...|johnny0@adventure...|       112-555-0191|jtF9jBoFYeJTaET7x...|    wVLnvHo=|947BCAF1-1F32-44F...|2006-08-01 02:00:00|\n",
      "|        9|8713 Yosemite Ct.|        null|Bothell|   Washington|United States|     98011|268AF621-76D7-4C7...|2006-07-01 02:00:00|     29485|     1086|Main Office|16765338-DBE4-442...|2007-09-01 02:00:00|        16|    false|  Mr.|Christopher|        R.|      Beck|   Jr.| Bulk Discount Store|adventure-works\\jae0|christopher1@adve...|1 (11) 500 555-0132|sKt9daCzEEKWAzivE...|    8KfYx/4=|C9381589-D31C-4EF...|2006-09-01 02:00:00|\n",
      "|        9|8713 Yosemite Ct.|        null|Bothell|   Washington|United States|     98011|268AF621-76D7-4C7...|2006-07-01 02:00:00|     29485|     1086|Main Office|16765338-DBE4-442...|2007-09-01 02:00:00|        18|    false|  Mr.|      David|        J.|       Liu|  null|       Catalog Store|adventure-works\\m...|david20@adventure...|       440-555-0132|61zeTkO+eI5g8GG0s...|    c7Ttvv0=|C04D6B4D-94C6-4C5...|2005-08-01 02:00:00|\n",
      "|        9|8713 Yosemite Ct.|        null|Bothell|   Washington|United States|     98011|268AF621-76D7-4C7...|2006-07-01 02:00:00|     29485|     1086|Main Office|16765338-DBE4-442...|2007-09-01 02:00:00|        19|    false|  Mr.|       John|        A.|    Beaver|  null|   Center Cycle Shop|adventure-works\\p...|john8@adventure-w...|       521-555-0195|DzbqWX7B3EK5Dub92...|    zXNgrJw=|69AE5D43-31BE-4B7...|2007-04-01 02:00:00|\n",
      "|        9|8713 Yosemite Ct.|        null|Bothell|   Washington|United States|     98011|268AF621-76D7-4C7...|2006-07-01 02:00:00|     29485|     1086|Main Office|16765338-DBE4-442...|2007-09-01 02:00:00|        20|    false|  Ms.|       Jean|        P.|   Handley|  null|Central Discount ...|adventure-works\\d...|jean1@adventure-w...|       582-555-0113|o1GVo3vExeNzo0/ct...|    uMsvfdo=|E010C10A-F1C3-4BB...|2005-09-01 02:00:00|\n",
      "|        9|8713 Yosemite Ct.|        null|Bothell|   Washington|United States|     98011|268AF621-76D7-4C7...|2006-07-01 02:00:00|     29485|     1086|Main Office|16765338-DBE4-442...|2007-09-01 02:00:00|        21|    false| null|    Jinghao|      null|       Liu|  null|Chic Department S...|adventure-works\\j...|jinghao1@adventur...|       928-555-0116|IaD5AeqK9mRiIrJi/...|    p6pOqKc=|564E0B42-4609-43D...|2006-09-01 02:00:00|\n",
      "|        9|8713 Yosemite Ct.|        null|Bothell|   Washington|United States|     98011|268AF621-76D7-4C7...|2006-07-01 02:00:00|     29485|     1086|Main Office|16765338-DBE4-442...|2007-09-01 02:00:00|        22|    false|  Ms.|      Linda|        E.|   Burnett|  null|      Travel Systems|adventure-works\\j...|linda4@adventure-...|       121-555-0121|23AwhujCoXYSPiN/B...|    SmyIPjE=|9774AED6-D673-412...|2005-08-01 02:00:00|\n",
      "|        9|8713 Yosemite Ct.|        null|Bothell|   Washington|United States|     98011|268AF621-76D7-4C7...|2006-07-01 02:00:00|     29485|     1086|Main Office|16765338-DBE4-442...|2007-09-01 02:00:00|        23|    false|  Mr.|      Kerim|      null|     Hanif|  null|          Bike World|adventure-works\\shu0|kerim0@adventure-...|       216-555-0122|d0WSjosAd7Y3XOWjN...|    33g5co8=|733F8250-3251-4C2...|2006-09-01 02:00:00|\n",
      "|        9|8713 Yosemite Ct.|        null|Bothell|   Washington|United States|     98011|268AF621-76D7-4C7...|2006-07-01 02:00:00|     29485|     1086|Main Office|16765338-DBE4-442...|2007-09-01 02:00:00|        24|    false|  Mr.|      Kevin|      null|       Liu|  null|Eastside Departme...|adventure-works\\l...|kevin5@adventure-...|       926-555-0164|ylTpkIOHKLcjihNjS...|    TgZnUOg=|C111E51D-178D-4DB...|2006-09-01 02:00:00|\n",
      "|        9|8713 Yosemite Ct.|        null|Bothell|   Washington|United States|     98011|268AF621-76D7-4C7...|2006-07-01 02:00:00|     29485|     1086|Main Office|16765338-DBE4-442...|2007-09-01 02:00:00|        25|    false|  Mr.|     Donald|        L.|   Blanton|  null|Coalition Bike Co...|adventure-works\\shu0|donald0@adventure...|       357-555-0161|pKYDelLBOZMO98GBz...|    jKtOaOw=|31D03546-FB2A-448...|2006-09-01 02:00:00|\n",
      "|        9|8713 Yosemite Ct.|        null|Bothell|   Washington|United States|     98011|268AF621-76D7-4C7...|2006-07-01 02:00:00|     29485|     1086|Main Office|16765338-DBE4-442...|2007-09-01 02:00:00|        28|    false|  Ms.|     Jackie|        E.| Blackwell|  null|Commuter Bicycle ...|adventure-works\\j...|jackie0@adventure...|       972-555-0163|wqhgKfOTfef4Zo3cb...|    SZ+r60o=|9B8A04A4-D909-4F4...|2007-08-01 02:00:00|\n",
      "+---------+-----------------+------------+-------+-------------+-------------+----------+--------------------+-------------------+----------+---------+-----------+--------------------+-------------------+----------+---------+-----+-----------+----------+----------+------+--------------------+--------------------+--------------------+-------------------+--------------------+------------+--------------------+-------------------+\n",
      "only showing top 20 rows\n",
      "\n",
      "+---------+-----------------+------------+-------+-------------+-------------+----------+--------------------+-------------------+----------+---------+-----------+--------------------+-------------------+----------+---------+-----+-----------+----------+----------+------+--------------------+--------------------+--------------------+-------------------+--------------------+------------+--------------------+-------------------+\n",
      "|AddressID|     AddressLine1|AddressLine2|   City|StateProvince|CountryRegion|PostalCode|             rowguid|       ModifiedDate|CustomerID|AddressID|AddressType|             rowguid|       ModifiedDate|CustomerID|NameStyle|Title|  FirstName|MiddleName|  LastName|Suffix|         CompanyName|         SalesPerson|        EmailAddress|              Phone|        PasswordHash|PasswordSalt|             rowguid|       ModifiedDate|\n",
      "+---------+-----------------+------------+-------+-------------+-------------+----------+--------------------+-------------------+----------+---------+-----------+--------------------+-------------------+----------+---------+-----+-----------+----------+----------+------+--------------------+--------------------+--------------------+-------------------+--------------------+------------+--------------------+-------------------+\n",
      "|        9|8713 Yosemite Ct.|        null|Bothell|   Washington|United States|     98011|268AF621-76D7-4C7...|2006-07-01 02:00:00|     29485|     1086|Main Office|16765338-DBE4-442...|2007-09-01 02:00:00|         1|    false|  Mr.|    Orlando|        N.|       Gee|  null|        A Bike Store|adventure-works\\p...|orlando0@adventur...|       245-555-0173|L/Rlwxzp4w7RWmEgX...|    1KjXYs4=|3F5AE95E-B87D-4AE...|2005-08-01 02:00:00|\n",
      "|        9|8713 Yosemite Ct.|        null|Bothell|   Washington|United States|     98011|268AF621-76D7-4C7...|2006-07-01 02:00:00|     29485|     1086|Main Office|16765338-DBE4-442...|2007-09-01 02:00:00|         2|    false|  Mr.|      Keith|      null|    Harris|  null|  Progressive Sports|adventure-works\\d...|keith0@adventure-...|       170-555-0127|YPdtRdvqeAhj6wyxE...|    fs1ZGhY=|E552F657-A9AF-4A7...|2006-08-01 02:00:00|\n",
      "|        9|8713 Yosemite Ct.|        null|Bothell|   Washington|United States|     98011|268AF621-76D7-4C7...|2006-07-01 02:00:00|     29485|     1086|Main Office|16765338-DBE4-442...|2007-09-01 02:00:00|         3|    false|  Ms.|      Donna|        F.|  Carreras|  null|Advanced Bike Com...|adventure-works\\j...|donna0@adventure-...|       279-555-0130|LNoK27abGQo48gGue...|    YTNH5Rw=|130774B1-DB21-4EF...|2005-09-01 02:00:00|\n",
      "|        9|8713 Yosemite Ct.|        null|Bothell|   Washington|United States|     98011|268AF621-76D7-4C7...|2006-07-01 02:00:00|     29485|     1086|Main Office|16765338-DBE4-442...|2007-09-01 02:00:00|         4|    false|  Ms.|      Janet|        M.|     Gates|  null|Modular Cycle Sys...|adventure-works\\j...|janet1@adventure-...|       710-555-0173|ElzTpSNbUW1Ut+L5c...|    nm7D5e4=|FF862851-1DAA-404...|2006-07-01 02:00:00|\n",
      "|        9|8713 Yosemite Ct.|        null|Bothell|   Washington|United States|     98011|268AF621-76D7-4C7...|2006-07-01 02:00:00|     29485|     1086|Main Office|16765338-DBE4-442...|2007-09-01 02:00:00|         5|    false|  Mr.|       Lucy|      null|Harrington|  null|Metropolitan Spor...|adventure-works\\shu0|lucy0@adventure-w...|       828-555-0186|KJqV15wsX3PG8TS5G...|    cNFKU4w=|83905BDC-6F5E-4F7...|2006-09-01 02:00:00|\n",
      "|        9|8713 Yosemite Ct.|        null|Bothell|   Washington|United States|     98011|268AF621-76D7-4C7...|2006-07-01 02:00:00|     29485|     1086|Main Office|16765338-DBE4-442...|2007-09-01 02:00:00|         6|    false|  Ms.|   Rosmarie|        J.|   Carroll|  null|Aerobic Exercise ...|adventure-works\\l...|rosmarie0@adventu...|       244-555-0112|OKT0scizCdIzymHHO...|    ihWf50M=|1A92DF88-BFA2-467...|2007-09-01 02:00:00|\n",
      "|        9|8713 Yosemite Ct.|        null|Bothell|   Washington|United States|     98011|268AF621-76D7-4C7...|2006-07-01 02:00:00|     29485|     1086|Main Office|16765338-DBE4-442...|2007-09-01 02:00:00|         7|    false|  Mr.|    Dominic|        P.|      Gash|  null|    Associated Bikes|adventure-works\\shu0|dominic0@adventur...|       192-555-0173|ZccoP/jZGQm+Xpzc7...|    sPoUBSQ=|03E9273E-B193-448...|2006-07-01 02:00:00|\n",
      "|        9|8713 Yosemite Ct.|        null|Bothell|   Washington|United States|     98011|268AF621-76D7-4C7...|2006-07-01 02:00:00|     29485|     1086|Main Office|16765338-DBE4-442...|2007-09-01 02:00:00|        10|    false|  Ms.|   Kathleen|        M.|     Garza|  null|Rural Cycle Emporium|adventure-works\\j...|kathleen0@adventu...|       150-555-0127|Qa3aMCxNbVLGrc0b9...|    Ls05W3g=|CDB6698D-2FF1-4FB...|2006-09-01 02:00:00|\n",
      "|        9|8713 Yosemite Ct.|        null|Bothell|   Washington|United States|     98011|268AF621-76D7-4C7...|2006-07-01 02:00:00|     29485|     1086|Main Office|16765338-DBE4-442...|2007-09-01 02:00:00|        11|    false|  Ms.|  Katherine|      null|   Harding|  null|         Sharp Bikes|adventure-works\\j...|katherine0@advent...|       926-555-0159|uRlorVzDGNJIX9I+e...|    jpHKbqE=|750F3495-59C4-48A...|2005-08-01 02:00:00|\n",
      "|        9|8713 Yosemite Ct.|        null|Bothell|   Washington|United States|     98011|268AF621-76D7-4C7...|2006-07-01 02:00:00|     29485|     1086|Main Office|16765338-DBE4-442...|2007-09-01 02:00:00|        12|    false|  Mr.|     Johnny|        A.|    Caprio|   Jr.|Bikes and Motorbikes|adventure-works\\g...|johnny0@adventure...|       112-555-0191|jtF9jBoFYeJTaET7x...|    wVLnvHo=|947BCAF1-1F32-44F...|2006-08-01 02:00:00|\n",
      "|        9|8713 Yosemite Ct.|        null|Bothell|   Washington|United States|     98011|268AF621-76D7-4C7...|2006-07-01 02:00:00|     29485|     1086|Main Office|16765338-DBE4-442...|2007-09-01 02:00:00|        16|    false|  Mr.|Christopher|        R.|      Beck|   Jr.| Bulk Discount Store|adventure-works\\jae0|christopher1@adve...|1 (11) 500 555-0132|sKt9daCzEEKWAzivE...|    8KfYx/4=|C9381589-D31C-4EF...|2006-09-01 02:00:00|\n",
      "|        9|8713 Yosemite Ct.|        null|Bothell|   Washington|United States|     98011|268AF621-76D7-4C7...|2006-07-01 02:00:00|     29485|     1086|Main Office|16765338-DBE4-442...|2007-09-01 02:00:00|        18|    false|  Mr.|      David|        J.|       Liu|  null|       Catalog Store|adventure-works\\m...|david20@adventure...|       440-555-0132|61zeTkO+eI5g8GG0s...|    c7Ttvv0=|C04D6B4D-94C6-4C5...|2005-08-01 02:00:00|\n",
      "|        9|8713 Yosemite Ct.|        null|Bothell|   Washington|United States|     98011|268AF621-76D7-4C7...|2006-07-01 02:00:00|     29485|     1086|Main Office|16765338-DBE4-442...|2007-09-01 02:00:00|        19|    false|  Mr.|       John|        A.|    Beaver|  null|   Center Cycle Shop|adventure-works\\p...|john8@adventure-w...|       521-555-0195|DzbqWX7B3EK5Dub92...|    zXNgrJw=|69AE5D43-31BE-4B7...|2007-04-01 02:00:00|\n",
      "|        9|8713 Yosemite Ct.|        null|Bothell|   Washington|United States|     98011|268AF621-76D7-4C7...|2006-07-01 02:00:00|     29485|     1086|Main Office|16765338-DBE4-442...|2007-09-01 02:00:00|        20|    false|  Ms.|       Jean|        P.|   Handley|  null|Central Discount ...|adventure-works\\d...|jean1@adventure-w...|       582-555-0113|o1GVo3vExeNzo0/ct...|    uMsvfdo=|E010C10A-F1C3-4BB...|2005-09-01 02:00:00|\n",
      "|        9|8713 Yosemite Ct.|        null|Bothell|   Washington|United States|     98011|268AF621-76D7-4C7...|2006-07-01 02:00:00|     29485|     1086|Main Office|16765338-DBE4-442...|2007-09-01 02:00:00|        21|    false| null|    Jinghao|      null|       Liu|  null|Chic Department S...|adventure-works\\j...|jinghao1@adventur...|       928-555-0116|IaD5AeqK9mRiIrJi/...|    p6pOqKc=|564E0B42-4609-43D...|2006-09-01 02:00:00|\n",
      "|        9|8713 Yosemite Ct.|        null|Bothell|   Washington|United States|     98011|268AF621-76D7-4C7...|2006-07-01 02:00:00|     29485|     1086|Main Office|16765338-DBE4-442...|2007-09-01 02:00:00|        22|    false|  Ms.|      Linda|        E.|   Burnett|  null|      Travel Systems|adventure-works\\j...|linda4@adventure-...|       121-555-0121|23AwhujCoXYSPiN/B...|    SmyIPjE=|9774AED6-D673-412...|2005-08-01 02:00:00|\n",
      "|        9|8713 Yosemite Ct.|        null|Bothell|   Washington|United States|     98011|268AF621-76D7-4C7...|2006-07-01 02:00:00|     29485|     1086|Main Office|16765338-DBE4-442...|2007-09-01 02:00:00|        23|    false|  Mr.|      Kerim|      null|     Hanif|  null|          Bike World|adventure-works\\shu0|kerim0@adventure-...|       216-555-0122|d0WSjosAd7Y3XOWjN...|    33g5co8=|733F8250-3251-4C2...|2006-09-01 02:00:00|\n",
      "|        9|8713 Yosemite Ct.|        null|Bothell|   Washington|United States|     98011|268AF621-76D7-4C7...|2006-07-01 02:00:00|     29485|     1086|Main Office|16765338-DBE4-442...|2007-09-01 02:00:00|        24|    false|  Mr.|      Kevin|      null|       Liu|  null|Eastside Departme...|adventure-works\\l...|kevin5@adventure-...|       926-555-0164|ylTpkIOHKLcjihNjS...|    TgZnUOg=|C111E51D-178D-4DB...|2006-09-01 02:00:00|\n",
      "|        9|8713 Yosemite Ct.|        null|Bothell|   Washington|United States|     98011|268AF621-76D7-4C7...|2006-07-01 02:00:00|     29485|     1086|Main Office|16765338-DBE4-442...|2007-09-01 02:00:00|        25|    false|  Mr.|     Donald|        L.|   Blanton|  null|Coalition Bike Co...|adventure-works\\shu0|donald0@adventure...|       357-555-0161|pKYDelLBOZMO98GBz...|    jKtOaOw=|31D03546-FB2A-448...|2006-09-01 02:00:00|\n",
      "|        9|8713 Yosemite Ct.|        null|Bothell|   Washington|United States|     98011|268AF621-76D7-4C7...|2006-07-01 02:00:00|     29485|     1086|Main Office|16765338-DBE4-442...|2007-09-01 02:00:00|        28|    false|  Ms.|     Jackie|        E.| Blackwell|  null|Commuter Bicycle ...|adventure-works\\j...|jackie0@adventure...|       972-555-0163|wqhgKfOTfef4Zo3cb...|    SZ+r60o=|9B8A04A4-D909-4F4...|2007-08-01 02:00:00|\n",
      "+---------+-----------------+------------+-------+-------------+-------------+----------+--------------------+-------------------+----------+---------+-----------+--------------------+-------------------+----------+---------+-----+-----------+----------+----------+------+--------------------+--------------------+--------------------+-------------------+--------------------+------------+--------------------+-------------------+\n",
      "only showing top 20 rows\n",
      "\n",
      "+---------+--------------------+------------+-----------+----------------+-------------+----------+--------------------+-------------------+\n",
      "|AddressID|        AddressLine1|AddressLine2|       City|   StateProvince|CountryRegion|PostalCode|             rowguid|       ModifiedDate|\n",
      "+---------+--------------------+------------+-----------+----------------+-------------+----------+--------------------+-------------------+\n",
      "|        9|   8713 Yosemite Ct.|        null|    Bothell|      Washington|United States|     98011|268AF621-76D7-4C7...|2006-07-01 02:00:00|\n",
      "|       11| 1318 Lasalle Street|        null|    Bothell|      Washington|United States|     98011|981B3303-ACA2-49C...|2007-04-01 02:00:00|\n",
      "|       25|    9178 Jumping St.|        null|     Dallas|           Texas|United States|     75201|C8DF3BD9-48F0-465...|2006-09-01 02:00:00|\n",
      "|       28|    9228 Via Del Sol|        null|    Phoenix|         Arizona|United States|     85004|12AE5EE1-FC3E-468...|2005-09-01 02:00:00|\n",
      "|       32|   26910 Indela Road|        null|   Montreal|          Quebec|       Canada|   H1Y 2H5|84A95F62-3AE8-4E7...|2006-08-01 02:00:00|\n",
      "|      185|     2681 Eagle Peak|        null|   Bellevue|      Washington|United States|     98004|7BCCF442-2268-46C...|2006-09-01 02:00:00|\n",
      "|      297|     7943 Walnut Ave|        null|     Renton|      Washington|United States|     98055|52410DA4-2778-4B1...|2006-08-01 02:00:00|\n",
      "|      445|  6388 Lake City Way|        null|    Burnaby|British Columbia|       Canada|   V5A 3A6|53572F25-9133-4A8...|2006-09-01 02:00:00|\n",
      "|      446|   52560 Free Street|        null|    Toronto|         Ontario|       Canada|   M4B 1V7|801A1DFC-5125-486...|2005-08-01 02:00:00|\n",
      "|      447|   22580 Free Street|        null|    Toronto|         Ontario|       Canada|   M4B 1V7|88CEE379-DBB8-433...|2006-08-01 02:00:00|\n",
      "|      448|2575 Bloor Street...|        null|    Toronto|         Ontario|       Canada|   M4B 1V6|2DF6D0AD-0926-4F3...|2007-08-01 02:00:00|\n",
      "|      449|           Station E|        null|Chalk Riber|         Ontario|       Canada|   K0J 1J0|8B5A7729-CB75-430...|2005-08-01 02:00:00|\n",
      "|      450|   575 Rue St Amable|        null|     Quebec|          Quebec|       Canada|       G1R|5F3C345A-6475-41D...|2006-09-01 02:00:00|\n",
      "|      451|     2512-4th Ave Sw|        null|    Calgary|         Alberta|       Canada|   T2P 2G8|49644F1E-6F90-46D...|2006-12-01 01:00:00|\n",
      "|      452|55 Lakeshore Blvd...|        null|    Toronto|         Ontario|       Canada|   M4B 1V6|A358652F-0E00-49E...|2005-09-01 02:00:00|\n",
      "|      453|     6333 Cote Vertu|        null|   Montreal|          Quebec|       Canada|   H1Y 2H7|355681F2-4D9D-452...|2007-09-01 02:00:00|\n",
      "|      454|3255 Front Street...|        null|    Toronto|         Ontario|       Canada|   M4B 1V6|EF4DC57D-8B8B-407...|2007-08-01 02:00:00|\n",
      "|      455|   2550 Signet Drive|        null|     Weston|         Ontario|       Canada|   M9V 4W3|43D582CF-E95F-486...|2006-08-01 02:00:00|\n",
      "|      456|       6777 Kingsway|        null|    Burnaby|British Columbia|       Canada|   V5H 3Z7|2F3B383E-08A5-407...|2006-08-01 02:00:00|\n",
      "|      457| 5250-505 Burning St|        null|  Vancouver|British Columbia|       Canada|   V7L 4J4|93F02C61-783D-4F0...|2006-07-01 02:00:00|\n",
      "+---------+--------------------+------------+-----------+----------------+-------------+----------+--------------------+-------------------+\n",
      "only showing top 20 rows\n",
      "\n",
      "+---------+------------+------------+----+-------------+-------------+----------+-------+------------+\n",
      "|AddressID|AddressLine1|AddressLine2|City|StateProvince|CountryRegion|PostalCode|rowguid|ModifiedDate|\n",
      "+---------+------------+------------+----+-------------+-------------+----------+-------+------------+\n",
      "+---------+------------+------------+----+-------------+-------------+----------+-------+------------+\n",
      "\n"
     ]
    }
   ],
   "source": [
    "for df in dataframes:\n",
    "    df.show()"
   ],
   "metadata": {
    "collapsed": false
   }
  },
  {
   "cell_type": "markdown",
   "source": [
    "### Cleaning"
   ],
   "metadata": {
    "collapsed": false
   }
  },
  {
   "cell_type": "code",
   "execution_count": 64,
   "outputs": [],
   "source": [
    "del df_address\n",
    "del df_customer\n",
    "del df_customer_address\n",
    "\n",
    "del df_join_right\n",
    "del df_join_left\n",
    "del df_join_inner\n",
    "del df_join_outer\n",
    "del df_join_left_semi\n",
    "del df_join_left_anti\n",
    "\n",
    "del dataframes"
   ],
   "metadata": {
    "collapsed": false
   }
  },
  {
   "cell_type": "markdown",
   "source": [
    "## Sale order tables"
   ],
   "metadata": {
    "collapsed": false
   }
  },
  {
   "cell_type": "code",
   "execution_count": 6,
   "outputs": [],
   "source": [
    "detail_path = \"../../Lab_6/SalesOrderDetail.csv\"\n",
    "header_path = \"../../Lab_6/SalesOrderHeader.csv\""
   ],
   "metadata": {
    "collapsed": false,
    "ExecuteTime": {
     "start_time": "2023-04-18T21:58:28.161324Z",
     "end_time": "2023-04-18T21:58:28.170708Z"
    }
   }
  },
  {
   "cell_type": "markdown",
   "source": [
    "### Loading data"
   ],
   "metadata": {
    "collapsed": false
   }
  },
  {
   "cell_type": "code",
   "execution_count": 66,
   "outputs": [],
   "source": [
    "df_detail = spark.read.format(\"csv\").option(\"header\", \"true\").option(\"inferSchema\", \"true\").load(detail_path)\n",
    "df_header = spark.read.format(\"csv\").option(\"header\", \"true\").option(\"inferSchema\", \"true\").load(header_path)"
   ],
   "metadata": {
    "collapsed": false,
    "ExecuteTime": {
     "start_time": "2023-04-18T20:34:28.689712Z",
     "end_time": "2023-04-18T20:34:28.829861Z"
    }
   }
  },
  {
   "cell_type": "markdown",
   "source": [
    "### Joining tables"
   ],
   "metadata": {
    "collapsed": false
   }
  },
  {
   "cell_type": "code",
   "execution_count": 69,
   "outputs": [],
   "source": [
    "df_join_inner = df_detail.join(df_header)\n",
    "df_join_left = df_detail.join(df_header, how=\"left\")\n",
    "df_join_right = df_detail.join(df_header, how=\"right\")\n",
    "df_join_outer = df_detail.join(df_header, how=\"outer\")\n",
    "df_join_left_semi = df_detail.join(df_header, how=\"left_semi\")\n",
    "df_join_left_anti = df_detail.join(df_header, how=\"left_anti\")\n",
    "dataframes = [df_join_inner, df_join_left, df_join_right, df_join_outer, df_join_left_semi, df_join_left_anti]"
   ],
   "metadata": {
    "collapsed": false,
    "ExecuteTime": {
     "start_time": "2023-04-18T20:37:53.971288Z",
     "end_time": "2023-04-18T20:37:54.003269Z"
    }
   }
  },
  {
   "cell_type": "markdown",
   "source": [
    "### Explaining"
   ],
   "metadata": {
    "collapsed": false
   }
  },
  {
   "cell_type": "code",
   "execution_count": 70,
   "outputs": [
    {
     "name": "stdout",
     "output_type": "stream",
     "text": [
      "== Physical Plan ==\n",
      "AdaptiveSparkPlan isFinalPlan=false\n",
      "+- BroadcastNestedLoopJoin BuildRight, Inner\n",
      "   :- FileScan csv [SalesOrderID#4852,SalesOrderDetailID#4853,OrderQty#4854,ProductID#4855,UnitPrice#4856,UnitPriceDiscount#4857,LineTotal#4858,rowguid#4859,ModifiedDate#4860] Batched: false, DataFilters: [], Format: CSV, Location: InMemoryFileIndex(1 paths)[file:/home/jakub/Studies/bigdata/Lab_6/SalesOrderDetail.csv], PartitionFilters: [], PushedFilters: [], ReadSchema: struct<SalesOrderID:int,SalesOrderDetailID:int,OrderQty:int,ProductID:int,UnitPrice:double,UnitPr...\n",
      "   +- BroadcastExchange IdentityBroadcastMode, [plan_id=3114]\n",
      "      +- FileScan csv [SalesOrderID#4887,RevisionNumber#4888,OrderDate#4889,DueDate#4890,ShipDate#4891,Status#4892,OnlineOrderFlag#4893,SalesOrderNumber#4894,PurchaseOrderNumber#4895,AccountNumber#4896,CustomerID#4897,ShipToAddressID#4898,BillToAddressID#4899,ShipMethod#4900,CreditCardApprovalCode#4901,SubTotal#4902,TaxAmt#4903,Freight#4904,TotalDue#4905,Comment#4906,rowguid#4907,ModifiedDate#4908] Batched: false, DataFilters: [], Format: CSV, Location: InMemoryFileIndex(1 paths)[file:/home/jakub/Studies/bigdata/Lab_6/SalesOrderHeader.csv], PartitionFilters: [], PushedFilters: [], ReadSchema: struct<SalesOrderID:int,RevisionNumber:int,OrderDate:timestamp,DueDate:timestamp,ShipDate:timesta...\n",
      "\n",
      "\n",
      "== Physical Plan ==\n",
      "AdaptiveSparkPlan isFinalPlan=false\n",
      "+- BroadcastNestedLoopJoin BuildRight, LeftOuter\n",
      "   :- FileScan csv [SalesOrderID#4852,SalesOrderDetailID#4853,OrderQty#4854,ProductID#4855,UnitPrice#4856,UnitPriceDiscount#4857,LineTotal#4858,rowguid#4859,ModifiedDate#4860] Batched: false, DataFilters: [], Format: CSV, Location: InMemoryFileIndex(1 paths)[file:/home/jakub/Studies/bigdata/Lab_6/SalesOrderDetail.csv], PartitionFilters: [], PushedFilters: [], ReadSchema: struct<SalesOrderID:int,SalesOrderDetailID:int,OrderQty:int,ProductID:int,UnitPrice:double,UnitPr...\n",
      "   +- BroadcastExchange IdentityBroadcastMode, [plan_id=3128]\n",
      "      +- FileScan csv [SalesOrderID#4887,RevisionNumber#4888,OrderDate#4889,DueDate#4890,ShipDate#4891,Status#4892,OnlineOrderFlag#4893,SalesOrderNumber#4894,PurchaseOrderNumber#4895,AccountNumber#4896,CustomerID#4897,ShipToAddressID#4898,BillToAddressID#4899,ShipMethod#4900,CreditCardApprovalCode#4901,SubTotal#4902,TaxAmt#4903,Freight#4904,TotalDue#4905,Comment#4906,rowguid#4907,ModifiedDate#4908] Batched: false, DataFilters: [], Format: CSV, Location: InMemoryFileIndex(1 paths)[file:/home/jakub/Studies/bigdata/Lab_6/SalesOrderHeader.csv], PartitionFilters: [], PushedFilters: [], ReadSchema: struct<SalesOrderID:int,RevisionNumber:int,OrderDate:timestamp,DueDate:timestamp,ShipDate:timesta...\n",
      "\n",
      "\n",
      "== Physical Plan ==\n",
      "AdaptiveSparkPlan isFinalPlan=false\n",
      "+- BroadcastNestedLoopJoin BuildLeft, RightOuter\n",
      "   :- BroadcastExchange IdentityBroadcastMode, [plan_id=3142]\n",
      "   :  +- FileScan csv [SalesOrderID#4852,SalesOrderDetailID#4853,OrderQty#4854,ProductID#4855,UnitPrice#4856,UnitPriceDiscount#4857,LineTotal#4858,rowguid#4859,ModifiedDate#4860] Batched: false, DataFilters: [], Format: CSV, Location: InMemoryFileIndex(1 paths)[file:/home/jakub/Studies/bigdata/Lab_6/SalesOrderDetail.csv], PartitionFilters: [], PushedFilters: [], ReadSchema: struct<SalesOrderID:int,SalesOrderDetailID:int,OrderQty:int,ProductID:int,UnitPrice:double,UnitPr...\n",
      "   +- FileScan csv [SalesOrderID#4887,RevisionNumber#4888,OrderDate#4889,DueDate#4890,ShipDate#4891,Status#4892,OnlineOrderFlag#4893,SalesOrderNumber#4894,PurchaseOrderNumber#4895,AccountNumber#4896,CustomerID#4897,ShipToAddressID#4898,BillToAddressID#4899,ShipMethod#4900,CreditCardApprovalCode#4901,SubTotal#4902,TaxAmt#4903,Freight#4904,TotalDue#4905,Comment#4906,rowguid#4907,ModifiedDate#4908] Batched: false, DataFilters: [], Format: CSV, Location: InMemoryFileIndex(1 paths)[file:/home/jakub/Studies/bigdata/Lab_6/SalesOrderHeader.csv], PartitionFilters: [], PushedFilters: [], ReadSchema: struct<SalesOrderID:int,RevisionNumber:int,OrderDate:timestamp,DueDate:timestamp,ShipDate:timesta...\n",
      "\n",
      "\n",
      "== Physical Plan ==\n",
      "AdaptiveSparkPlan isFinalPlan=false\n",
      "+- BroadcastNestedLoopJoin BuildRight, FullOuter\n",
      "   :- FileScan csv [SalesOrderID#4852,SalesOrderDetailID#4853,OrderQty#4854,ProductID#4855,UnitPrice#4856,UnitPriceDiscount#4857,LineTotal#4858,rowguid#4859,ModifiedDate#4860] Batched: false, DataFilters: [], Format: CSV, Location: InMemoryFileIndex(1 paths)[file:/home/jakub/Studies/bigdata/Lab_6/SalesOrderDetail.csv], PartitionFilters: [], PushedFilters: [], ReadSchema: struct<SalesOrderID:int,SalesOrderDetailID:int,OrderQty:int,ProductID:int,UnitPrice:double,UnitPr...\n",
      "   +- BroadcastExchange IdentityBroadcastMode, [plan_id=3156]\n",
      "      +- FileScan csv [SalesOrderID#4887,RevisionNumber#4888,OrderDate#4889,DueDate#4890,ShipDate#4891,Status#4892,OnlineOrderFlag#4893,SalesOrderNumber#4894,PurchaseOrderNumber#4895,AccountNumber#4896,CustomerID#4897,ShipToAddressID#4898,BillToAddressID#4899,ShipMethod#4900,CreditCardApprovalCode#4901,SubTotal#4902,TaxAmt#4903,Freight#4904,TotalDue#4905,Comment#4906,rowguid#4907,ModifiedDate#4908] Batched: false, DataFilters: [], Format: CSV, Location: InMemoryFileIndex(1 paths)[file:/home/jakub/Studies/bigdata/Lab_6/SalesOrderHeader.csv], PartitionFilters: [], PushedFilters: [], ReadSchema: struct<SalesOrderID:int,RevisionNumber:int,OrderDate:timestamp,DueDate:timestamp,ShipDate:timesta...\n",
      "\n",
      "\n",
      "== Physical Plan ==\n",
      "AdaptiveSparkPlan isFinalPlan=false\n",
      "+- BroadcastNestedLoopJoin BuildRight, LeftSemi\n",
      "   :- FileScan csv [SalesOrderID#4852,SalesOrderDetailID#4853,OrderQty#4854,ProductID#4855,UnitPrice#4856,UnitPriceDiscount#4857,LineTotal#4858,rowguid#4859,ModifiedDate#4860] Batched: false, DataFilters: [], Format: CSV, Location: InMemoryFileIndex(1 paths)[file:/home/jakub/Studies/bigdata/Lab_6/SalesOrderDetail.csv], PartitionFilters: [], PushedFilters: [], ReadSchema: struct<SalesOrderID:int,SalesOrderDetailID:int,OrderQty:int,ProductID:int,UnitPrice:double,UnitPr...\n",
      "   +- BroadcastExchange IdentityBroadcastMode, [plan_id=3170]\n",
      "      +- FileScan csv [] Batched: false, DataFilters: [], Format: CSV, Location: InMemoryFileIndex(1 paths)[file:/home/jakub/Studies/bigdata/Lab_6/SalesOrderHeader.csv], PartitionFilters: [], PushedFilters: [], ReadSchema: struct<>\n",
      "\n",
      "\n",
      "== Physical Plan ==\n",
      "AdaptiveSparkPlan isFinalPlan=false\n",
      "+- BroadcastNestedLoopJoin BuildRight, LeftAnti\n",
      "   :- FileScan csv [SalesOrderID#4852,SalesOrderDetailID#4853,OrderQty#4854,ProductID#4855,UnitPrice#4856,UnitPriceDiscount#4857,LineTotal#4858,rowguid#4859,ModifiedDate#4860] Batched: false, DataFilters: [], Format: CSV, Location: InMemoryFileIndex(1 paths)[file:/home/jakub/Studies/bigdata/Lab_6/SalesOrderDetail.csv], PartitionFilters: [], PushedFilters: [], ReadSchema: struct<SalesOrderID:int,SalesOrderDetailID:int,OrderQty:int,ProductID:int,UnitPrice:double,UnitPr...\n",
      "   +- BroadcastExchange IdentityBroadcastMode, [plan_id=3184]\n",
      "      +- FileScan csv [] Batched: false, DataFilters: [], Format: CSV, Location: InMemoryFileIndex(1 paths)[file:/home/jakub/Studies/bigdata/Lab_6/SalesOrderHeader.csv], PartitionFilters: [], PushedFilters: [], ReadSchema: struct<>\n",
      "\n",
      "\n"
     ]
    }
   ],
   "source": [
    "for df in dataframes:\n",
    "    df.explain()"
   ],
   "metadata": {
    "collapsed": false,
    "ExecuteTime": {
     "start_time": "2023-04-18T20:38:28.452704Z",
     "end_time": "2023-04-18T20:38:28.504433Z"
    }
   }
  },
  {
   "cell_type": "markdown",
   "source": [
    "### Showing data"
   ],
   "metadata": {
    "collapsed": false
   }
  },
  {
   "cell_type": "code",
   "execution_count": 71,
   "outputs": [
    {
     "name": "stdout",
     "output_type": "stream",
     "text": [
      "+------------+------------------+--------+---------+---------+-----------------+---------+--------------------+-------------------+------------+--------------+-------------------+-------------------+-------------------+------+---------------+----------------+-------------------+--------------+----------+---------------+---------------+-----------------+----------------------+-----------+---------+---------+----------+-------+--------------------+-------------------+\n",
      "|SalesOrderID|SalesOrderDetailID|OrderQty|ProductID|UnitPrice|UnitPriceDiscount|LineTotal|             rowguid|       ModifiedDate|SalesOrderID|RevisionNumber|          OrderDate|            DueDate|           ShipDate|Status|OnlineOrderFlag|SalesOrderNumber|PurchaseOrderNumber| AccountNumber|CustomerID|ShipToAddressID|BillToAddressID|       ShipMethod|CreditCardApprovalCode|   SubTotal|   TaxAmt|  Freight|  TotalDue|Comment|             rowguid|       ModifiedDate|\n",
      "+------------+------------------+--------+---------+---------+-----------------+---------+--------------------+-------------------+------------+--------------+-------------------+-------------------+-------------------+------+---------------+----------------+-------------------+--------------+----------+---------------+---------------+-----------------+----------------------+-----------+---------+---------+----------+-------+--------------------+-------------------+\n",
      "|       71774|            110562|       1|      836|  356.898|              0.0|  356.898|E3A1994C-7A68-4CE...|2008-06-01 02:00:00|       71774|             2|2008-06-01 02:00:00|2008-06-13 02:00:00|2008-06-08 02:00:00|     5|          false|         SO71774|        PO348186287|10-4020-000609|     29847|           1092|           1092|CARGO TRANSPORT 5|                  null|   880.3484|  70.4279|  22.0087|   972.785|   null|89E42CDC-8506-48A...|2008-06-08 02:00:00|\n",
      "|       71774|            110562|       1|      836|  356.898|              0.0|  356.898|E3A1994C-7A68-4CE...|2008-06-01 02:00:00|       71776|             2|2008-06-01 02:00:00|2008-06-13 02:00:00|2008-06-08 02:00:00|     5|          false|         SO71776|      PO19952192051|10-4020-000106|     30072|            640|            640|CARGO TRANSPORT 5|                  null|      78.81|   6.3048|   1.9703|   87.0851|   null|8A3448C5-E677-415...|2008-06-08 02:00:00|\n",
      "|       71774|            110562|       1|      836|  356.898|              0.0|  356.898|E3A1994C-7A68-4CE...|2008-06-01 02:00:00|       71780|             2|2008-06-01 02:00:00|2008-06-13 02:00:00|2008-06-08 02:00:00|     5|          false|         SO71780|      PO19604173239|10-4020-000340|     30113|            653|            653|CARGO TRANSPORT 5|                  null| 38418.6895|3073.4952| 960.4672|42452.6519|   null|A47665D2-7AC9-4CF...|2008-06-08 02:00:00|\n",
      "|       71774|            110562|       1|      836|  356.898|              0.0|  356.898|E3A1994C-7A68-4CE...|2008-06-01 02:00:00|       71782|             2|2008-06-01 02:00:00|2008-06-13 02:00:00|2008-06-08 02:00:00|     5|          false|         SO71782|      PO19372114749|10-4020-000582|     29485|           1086|           1086|CARGO TRANSPORT 5|                  null| 39785.3304|3182.8264| 994.6333|43962.7901|   null|F1BE45A5-5C57-4A5...|2008-06-08 02:00:00|\n",
      "|       71774|            110562|       1|      836|  356.898|              0.0|  356.898|E3A1994C-7A68-4CE...|2008-06-01 02:00:00|       71783|             2|2008-06-01 02:00:00|2008-06-13 02:00:00|2008-06-08 02:00:00|     5|          false|         SO71783|      PO19343113609|10-4020-000024|     29957|            992|            992|CARGO TRANSPORT 5|                  null| 83858.4261|6708.6741|2096.4607|92663.5609|   null|7DB2329E-6446-42A...|2008-06-08 02:00:00|\n",
      "|       71774|            110562|       1|      836|  356.898|              0.0|  356.898|E3A1994C-7A68-4CE...|2008-06-01 02:00:00|       71784|             2|2008-06-01 02:00:00|2008-06-13 02:00:00|2008-06-08 02:00:00|     5|          false|         SO71784|      PO19285135919|10-4020-000448|     29736|            659|            659|CARGO TRANSPORT 5|                  null|108561.8317|8684.9465|2714.0458|119960.824|   null|CA31F324-2C32-4F8...|2008-06-08 02:00:00|\n",
      "|       71774|            110562|       1|      836|  356.898|              0.0|  356.898|E3A1994C-7A68-4CE...|2008-06-01 02:00:00|       71796|             2|2008-06-01 02:00:00|2008-06-13 02:00:00|2008-06-08 02:00:00|     5|          false|         SO71796|      PO17052159664|10-4020-000420|     29660|           1058|           1058|CARGO TRANSPORT 5|                  null| 57634.6342|4610.7707|1440.8659|63686.2708|   null|917EF5BA-F32D-456...|2008-06-08 02:00:00|\n",
      "|       71774|            110562|       1|      836|  356.898|              0.0|  356.898|E3A1994C-7A68-4CE...|2008-06-01 02:00:00|       71797|             2|2008-06-01 02:00:00|2008-06-13 02:00:00|2008-06-08 02:00:00|     5|          false|         SO71797|      PO16501134889|10-4020-000142|     29796|            642|            642|CARGO TRANSPORT 5|                  null| 78029.6898|6242.3752|1950.7422|86222.8072|   null|BB3FEE84-C8BF-4DD...|2008-06-08 02:00:00|\n",
      "|       71774|            110562|       1|      836|  356.898|              0.0|  356.898|E3A1994C-7A68-4CE...|2008-06-01 02:00:00|       71815|             2|2008-06-01 02:00:00|2008-06-13 02:00:00|2008-06-08 02:00:00|     5|          false|         SO71815|      PO13021155785|10-4020-000276|     30089|           1034|           1034|CARGO TRANSPORT 5|                  null|  1141.5782|  91.3263|  28.5395|  1261.444|   null|2AA5F39B-1096-4A4...|2008-06-08 02:00:00|\n",
      "|       71774|            110562|       1|      836|  356.898|              0.0|  356.898|E3A1994C-7A68-4CE...|2008-06-01 02:00:00|       71816|             2|2008-06-01 02:00:00|2008-06-13 02:00:00|2008-06-08 02:00:00|     5|          false|         SO71816|      PO12992180445|10-4020-000295|     30027|           1038|           1038|CARGO TRANSPORT 5|                  null|  3398.1659| 271.8533|  84.9541| 3754.9733|   null|E3C189E7-98DE-4C4...|2008-06-08 02:00:00|\n",
      "|       71774|            110562|       1|      836|  356.898|              0.0|  356.898|E3A1994C-7A68-4CE...|2008-06-01 02:00:00|       71831|             2|2008-06-01 02:00:00|2008-06-13 02:00:00|2008-06-08 02:00:00|     5|          false|         SO71831|      PO10295111084|10-4020-000322|     30019|            652|            652|CARGO TRANSPORT 5|                  null|  2016.3408| 161.3073|  50.4085| 2228.0566|   null|625D76FC-C26F-414...|2008-06-08 02:00:00|\n",
      "|       71774|            110562|       1|      836|  356.898|              0.0|  356.898|E3A1994C-7A68-4CE...|2008-06-01 02:00:00|       71832|             2|2008-06-01 02:00:00|2008-06-13 02:00:00|2008-06-08 02:00:00|     5|          false|         SO71832|      PO10353140756|10-4020-000088|     29922|            639|            639|CARGO TRANSPORT 5|                  null| 35775.2113|2862.0169| 894.3803|39531.6085|   null|ADDB8620-432A-456...|2008-06-08 02:00:00|\n",
      "|       71774|            110562|       1|      836|  356.898|              0.0|  356.898|E3A1994C-7A68-4CE...|2008-06-01 02:00:00|       71845|             2|2008-06-01 02:00:00|2008-06-13 02:00:00|2008-06-08 02:00:00|     5|          false|         SO71845|       PO2697119362|10-4020-000187|     29938|           1020|           1020|CARGO TRANSPORT 5|                  null| 41622.0511|3329.7641|1040.5513|45992.3665|   null|E68F7EE9-C581-45C...|2008-06-08 02:00:00|\n",
      "|       71774|            110562|       1|      836|  356.898|              0.0|  356.898|E3A1994C-7A68-4CE...|2008-06-01 02:00:00|       71846|             2|2008-06-01 02:00:00|2008-06-13 02:00:00|2008-06-08 02:00:00|     5|          false|         SO71846|       PO2378131604|10-4020-000635|     30102|            669|            669|CARGO TRANSPORT 5|                  null|  2453.7645| 196.3012|  61.3441| 2711.4098|   null|A86D90AD-D1C0-440...|2008-06-08 02:00:00|\n",
      "|       71774|            110562|       1|      836|  356.898|              0.0|  356.898|E3A1994C-7A68-4CE...|2008-06-01 02:00:00|       71856|             2|2008-06-01 02:00:00|2008-06-13 02:00:00|2008-06-08 02:00:00|     5|          false|         SO71856|      PO16530177647|10-4020-000601|     30033|           1090|           1090|CARGO TRANSPORT 5|                  null|   602.1946|  48.1756|  15.0549|  665.4251|   null|05FEE073-0640-4A3...|2008-06-08 02:00:00|\n",
      "|       71774|            110562|       1|      836|  356.898|              0.0|  356.898|E3A1994C-7A68-4CE...|2008-06-01 02:00:00|       71858|             2|2008-06-01 02:00:00|2008-06-13 02:00:00|2008-06-08 02:00:00|     5|          false|         SO71858|      PO16153112278|10-4020-000186|     29653|           1019|           1019|CARGO TRANSPORT 5|                  null| 13823.7083|1105.8967| 345.5927|15275.1977|   null|5EF091E1-A0AF-437...|2008-06-08 02:00:00|\n",
      "|       71774|            110562|       1|      836|  356.898|              0.0|  356.898|E3A1994C-7A68-4CE...|2008-06-01 02:00:00|       71863|             2|2008-06-01 02:00:00|2008-06-13 02:00:00|2008-06-08 02:00:00|     5|          false|         SO71863|      PO16124166561|10-4020-000649|     29975|           1098|           1098|CARGO TRANSPORT 5|                  null|  3324.2759| 265.9421|  83.1069| 3673.3249|   null|3ED03B56-A4BF-487...|2008-06-08 02:00:00|\n",
      "|       71774|            110562|       1|      836|  356.898|              0.0|  356.898|E3A1994C-7A68-4CE...|2008-06-01 02:00:00|       71867|             2|2008-06-01 02:00:00|2008-06-13 02:00:00|2008-06-08 02:00:00|     5|          false|         SO71867|      PO13050111529|10-4020-000160|     29644|            643|            643|CARGO TRANSPORT 5|                  null|    1059.31|  84.7448|  26.4828| 1170.5376|   null|29743C1B-D3AF-4CF...|2008-06-08 02:00:00|\n",
      "|       71774|            110562|       1|      836|  356.898|              0.0|  356.898|E3A1994C-7A68-4CE...|2008-06-01 02:00:00|       71885|             2|2008-06-01 02:00:00|2008-06-13 02:00:00|2008-06-08 02:00:00|     5|          false|         SO71885|       PO6119130779|10-4020-000268|     29612|            649|            649|CARGO TRANSPORT 5|                  null|    550.386|  44.0309|  13.7597|  608.1766|   null|CAAD090D-56A6-444...|2008-06-08 02:00:00|\n",
      "|       71774|            110562|       1|      836|  356.898|              0.0|  356.898|E3A1994C-7A68-4CE...|2008-06-01 02:00:00|       71895|             2|2008-06-01 02:00:00|2008-06-13 02:00:00|2008-06-08 02:00:00|     5|          false|         SO71895|       PO3770176273|10-4020-000151|     29584|           1014|           1014|CARGO TRANSPORT 5|                  null|   246.7392|  19.7391|   6.1685|  272.6468|   null|07A17C0A-7F9A-441...|2008-06-08 02:00:00|\n",
      "+------------+------------------+--------+---------+---------+-----------------+---------+--------------------+-------------------+------------+--------------+-------------------+-------------------+-------------------+------+---------------+----------------+-------------------+--------------+----------+---------------+---------------+-----------------+----------------------+-----------+---------+---------+----------+-------+--------------------+-------------------+\n",
      "only showing top 20 rows\n",
      "\n",
      "+------------+------------------+--------+---------+---------+-----------------+---------+--------------------+-------------------+------------+--------------+-------------------+-------------------+-------------------+------+---------------+----------------+-------------------+--------------+----------+---------------+---------------+-----------------+----------------------+-----------+---------+---------+----------+-------+--------------------+-------------------+\n",
      "|SalesOrderID|SalesOrderDetailID|OrderQty|ProductID|UnitPrice|UnitPriceDiscount|LineTotal|             rowguid|       ModifiedDate|SalesOrderID|RevisionNumber|          OrderDate|            DueDate|           ShipDate|Status|OnlineOrderFlag|SalesOrderNumber|PurchaseOrderNumber| AccountNumber|CustomerID|ShipToAddressID|BillToAddressID|       ShipMethod|CreditCardApprovalCode|   SubTotal|   TaxAmt|  Freight|  TotalDue|Comment|             rowguid|       ModifiedDate|\n",
      "+------------+------------------+--------+---------+---------+-----------------+---------+--------------------+-------------------+------------+--------------+-------------------+-------------------+-------------------+------+---------------+----------------+-------------------+--------------+----------+---------------+---------------+-----------------+----------------------+-----------+---------+---------+----------+-------+--------------------+-------------------+\n",
      "|       71774|            110562|       1|      836|  356.898|              0.0|  356.898|E3A1994C-7A68-4CE...|2008-06-01 02:00:00|       71774|             2|2008-06-01 02:00:00|2008-06-13 02:00:00|2008-06-08 02:00:00|     5|          false|         SO71774|        PO348186287|10-4020-000609|     29847|           1092|           1092|CARGO TRANSPORT 5|                  null|   880.3484|  70.4279|  22.0087|   972.785|   null|89E42CDC-8506-48A...|2008-06-08 02:00:00|\n",
      "|       71774|            110562|       1|      836|  356.898|              0.0|  356.898|E3A1994C-7A68-4CE...|2008-06-01 02:00:00|       71776|             2|2008-06-01 02:00:00|2008-06-13 02:00:00|2008-06-08 02:00:00|     5|          false|         SO71776|      PO19952192051|10-4020-000106|     30072|            640|            640|CARGO TRANSPORT 5|                  null|      78.81|   6.3048|   1.9703|   87.0851|   null|8A3448C5-E677-415...|2008-06-08 02:00:00|\n",
      "|       71774|            110562|       1|      836|  356.898|              0.0|  356.898|E3A1994C-7A68-4CE...|2008-06-01 02:00:00|       71780|             2|2008-06-01 02:00:00|2008-06-13 02:00:00|2008-06-08 02:00:00|     5|          false|         SO71780|      PO19604173239|10-4020-000340|     30113|            653|            653|CARGO TRANSPORT 5|                  null| 38418.6895|3073.4952| 960.4672|42452.6519|   null|A47665D2-7AC9-4CF...|2008-06-08 02:00:00|\n",
      "|       71774|            110562|       1|      836|  356.898|              0.0|  356.898|E3A1994C-7A68-4CE...|2008-06-01 02:00:00|       71782|             2|2008-06-01 02:00:00|2008-06-13 02:00:00|2008-06-08 02:00:00|     5|          false|         SO71782|      PO19372114749|10-4020-000582|     29485|           1086|           1086|CARGO TRANSPORT 5|                  null| 39785.3304|3182.8264| 994.6333|43962.7901|   null|F1BE45A5-5C57-4A5...|2008-06-08 02:00:00|\n",
      "|       71774|            110562|       1|      836|  356.898|              0.0|  356.898|E3A1994C-7A68-4CE...|2008-06-01 02:00:00|       71783|             2|2008-06-01 02:00:00|2008-06-13 02:00:00|2008-06-08 02:00:00|     5|          false|         SO71783|      PO19343113609|10-4020-000024|     29957|            992|            992|CARGO TRANSPORT 5|                  null| 83858.4261|6708.6741|2096.4607|92663.5609|   null|7DB2329E-6446-42A...|2008-06-08 02:00:00|\n",
      "|       71774|            110562|       1|      836|  356.898|              0.0|  356.898|E3A1994C-7A68-4CE...|2008-06-01 02:00:00|       71784|             2|2008-06-01 02:00:00|2008-06-13 02:00:00|2008-06-08 02:00:00|     5|          false|         SO71784|      PO19285135919|10-4020-000448|     29736|            659|            659|CARGO TRANSPORT 5|                  null|108561.8317|8684.9465|2714.0458|119960.824|   null|CA31F324-2C32-4F8...|2008-06-08 02:00:00|\n",
      "|       71774|            110562|       1|      836|  356.898|              0.0|  356.898|E3A1994C-7A68-4CE...|2008-06-01 02:00:00|       71796|             2|2008-06-01 02:00:00|2008-06-13 02:00:00|2008-06-08 02:00:00|     5|          false|         SO71796|      PO17052159664|10-4020-000420|     29660|           1058|           1058|CARGO TRANSPORT 5|                  null| 57634.6342|4610.7707|1440.8659|63686.2708|   null|917EF5BA-F32D-456...|2008-06-08 02:00:00|\n",
      "|       71774|            110562|       1|      836|  356.898|              0.0|  356.898|E3A1994C-7A68-4CE...|2008-06-01 02:00:00|       71797|             2|2008-06-01 02:00:00|2008-06-13 02:00:00|2008-06-08 02:00:00|     5|          false|         SO71797|      PO16501134889|10-4020-000142|     29796|            642|            642|CARGO TRANSPORT 5|                  null| 78029.6898|6242.3752|1950.7422|86222.8072|   null|BB3FEE84-C8BF-4DD...|2008-06-08 02:00:00|\n",
      "|       71774|            110562|       1|      836|  356.898|              0.0|  356.898|E3A1994C-7A68-4CE...|2008-06-01 02:00:00|       71815|             2|2008-06-01 02:00:00|2008-06-13 02:00:00|2008-06-08 02:00:00|     5|          false|         SO71815|      PO13021155785|10-4020-000276|     30089|           1034|           1034|CARGO TRANSPORT 5|                  null|  1141.5782|  91.3263|  28.5395|  1261.444|   null|2AA5F39B-1096-4A4...|2008-06-08 02:00:00|\n",
      "|       71774|            110562|       1|      836|  356.898|              0.0|  356.898|E3A1994C-7A68-4CE...|2008-06-01 02:00:00|       71816|             2|2008-06-01 02:00:00|2008-06-13 02:00:00|2008-06-08 02:00:00|     5|          false|         SO71816|      PO12992180445|10-4020-000295|     30027|           1038|           1038|CARGO TRANSPORT 5|                  null|  3398.1659| 271.8533|  84.9541| 3754.9733|   null|E3C189E7-98DE-4C4...|2008-06-08 02:00:00|\n",
      "|       71774|            110562|       1|      836|  356.898|              0.0|  356.898|E3A1994C-7A68-4CE...|2008-06-01 02:00:00|       71831|             2|2008-06-01 02:00:00|2008-06-13 02:00:00|2008-06-08 02:00:00|     5|          false|         SO71831|      PO10295111084|10-4020-000322|     30019|            652|            652|CARGO TRANSPORT 5|                  null|  2016.3408| 161.3073|  50.4085| 2228.0566|   null|625D76FC-C26F-414...|2008-06-08 02:00:00|\n",
      "|       71774|            110562|       1|      836|  356.898|              0.0|  356.898|E3A1994C-7A68-4CE...|2008-06-01 02:00:00|       71832|             2|2008-06-01 02:00:00|2008-06-13 02:00:00|2008-06-08 02:00:00|     5|          false|         SO71832|      PO10353140756|10-4020-000088|     29922|            639|            639|CARGO TRANSPORT 5|                  null| 35775.2113|2862.0169| 894.3803|39531.6085|   null|ADDB8620-432A-456...|2008-06-08 02:00:00|\n",
      "|       71774|            110562|       1|      836|  356.898|              0.0|  356.898|E3A1994C-7A68-4CE...|2008-06-01 02:00:00|       71845|             2|2008-06-01 02:00:00|2008-06-13 02:00:00|2008-06-08 02:00:00|     5|          false|         SO71845|       PO2697119362|10-4020-000187|     29938|           1020|           1020|CARGO TRANSPORT 5|                  null| 41622.0511|3329.7641|1040.5513|45992.3665|   null|E68F7EE9-C581-45C...|2008-06-08 02:00:00|\n",
      "|       71774|            110562|       1|      836|  356.898|              0.0|  356.898|E3A1994C-7A68-4CE...|2008-06-01 02:00:00|       71846|             2|2008-06-01 02:00:00|2008-06-13 02:00:00|2008-06-08 02:00:00|     5|          false|         SO71846|       PO2378131604|10-4020-000635|     30102|            669|            669|CARGO TRANSPORT 5|                  null|  2453.7645| 196.3012|  61.3441| 2711.4098|   null|A86D90AD-D1C0-440...|2008-06-08 02:00:00|\n",
      "|       71774|            110562|       1|      836|  356.898|              0.0|  356.898|E3A1994C-7A68-4CE...|2008-06-01 02:00:00|       71856|             2|2008-06-01 02:00:00|2008-06-13 02:00:00|2008-06-08 02:00:00|     5|          false|         SO71856|      PO16530177647|10-4020-000601|     30033|           1090|           1090|CARGO TRANSPORT 5|                  null|   602.1946|  48.1756|  15.0549|  665.4251|   null|05FEE073-0640-4A3...|2008-06-08 02:00:00|\n",
      "|       71774|            110562|       1|      836|  356.898|              0.0|  356.898|E3A1994C-7A68-4CE...|2008-06-01 02:00:00|       71858|             2|2008-06-01 02:00:00|2008-06-13 02:00:00|2008-06-08 02:00:00|     5|          false|         SO71858|      PO16153112278|10-4020-000186|     29653|           1019|           1019|CARGO TRANSPORT 5|                  null| 13823.7083|1105.8967| 345.5927|15275.1977|   null|5EF091E1-A0AF-437...|2008-06-08 02:00:00|\n",
      "|       71774|            110562|       1|      836|  356.898|              0.0|  356.898|E3A1994C-7A68-4CE...|2008-06-01 02:00:00|       71863|             2|2008-06-01 02:00:00|2008-06-13 02:00:00|2008-06-08 02:00:00|     5|          false|         SO71863|      PO16124166561|10-4020-000649|     29975|           1098|           1098|CARGO TRANSPORT 5|                  null|  3324.2759| 265.9421|  83.1069| 3673.3249|   null|3ED03B56-A4BF-487...|2008-06-08 02:00:00|\n",
      "|       71774|            110562|       1|      836|  356.898|              0.0|  356.898|E3A1994C-7A68-4CE...|2008-06-01 02:00:00|       71867|             2|2008-06-01 02:00:00|2008-06-13 02:00:00|2008-06-08 02:00:00|     5|          false|         SO71867|      PO13050111529|10-4020-000160|     29644|            643|            643|CARGO TRANSPORT 5|                  null|    1059.31|  84.7448|  26.4828| 1170.5376|   null|29743C1B-D3AF-4CF...|2008-06-08 02:00:00|\n",
      "|       71774|            110562|       1|      836|  356.898|              0.0|  356.898|E3A1994C-7A68-4CE...|2008-06-01 02:00:00|       71885|             2|2008-06-01 02:00:00|2008-06-13 02:00:00|2008-06-08 02:00:00|     5|          false|         SO71885|       PO6119130779|10-4020-000268|     29612|            649|            649|CARGO TRANSPORT 5|                  null|    550.386|  44.0309|  13.7597|  608.1766|   null|CAAD090D-56A6-444...|2008-06-08 02:00:00|\n",
      "|       71774|            110562|       1|      836|  356.898|              0.0|  356.898|E3A1994C-7A68-4CE...|2008-06-01 02:00:00|       71895|             2|2008-06-01 02:00:00|2008-06-13 02:00:00|2008-06-08 02:00:00|     5|          false|         SO71895|       PO3770176273|10-4020-000151|     29584|           1014|           1014|CARGO TRANSPORT 5|                  null|   246.7392|  19.7391|   6.1685|  272.6468|   null|07A17C0A-7F9A-441...|2008-06-08 02:00:00|\n",
      "+------------+------------------+--------+---------+---------+-----------------+---------+--------------------+-------------------+------------+--------------+-------------------+-------------------+-------------------+------+---------------+----------------+-------------------+--------------+----------+---------------+---------------+-----------------+----------------------+-----------+---------+---------+----------+-------+--------------------+-------------------+\n",
      "only showing top 20 rows\n",
      "\n",
      "+------------+------------------+--------+---------+---------+-----------------+---------+--------------------+-------------------+------------+--------------+-------------------+-------------------+-------------------+------+---------------+----------------+-------------------+--------------+----------+---------------+---------------+-----------------+----------------------+--------+-------+-------+--------+-------+--------------------+-------------------+\n",
      "|SalesOrderID|SalesOrderDetailID|OrderQty|ProductID|UnitPrice|UnitPriceDiscount|LineTotal|             rowguid|       ModifiedDate|SalesOrderID|RevisionNumber|          OrderDate|            DueDate|           ShipDate|Status|OnlineOrderFlag|SalesOrderNumber|PurchaseOrderNumber| AccountNumber|CustomerID|ShipToAddressID|BillToAddressID|       ShipMethod|CreditCardApprovalCode|SubTotal| TaxAmt|Freight|TotalDue|Comment|             rowguid|       ModifiedDate|\n",
      "+------------+------------------+--------+---------+---------+-----------------+---------+--------------------+-------------------+------------+--------------+-------------------+-------------------+-------------------+------+---------------+----------------+-------------------+--------------+----------+---------------+---------------+-----------------+----------------------+--------+-------+-------+--------+-------+--------------------+-------------------+\n",
      "|       71774|            110562|       1|      836|  356.898|              0.0|  356.898|E3A1994C-7A68-4CE...|2008-06-01 02:00:00|       71774|             2|2008-06-01 02:00:00|2008-06-13 02:00:00|2008-06-08 02:00:00|     5|          false|         SO71774|        PO348186287|10-4020-000609|     29847|           1092|           1092|CARGO TRANSPORT 5|                  null|880.3484|70.4279|22.0087| 972.785|   null|89E42CDC-8506-48A...|2008-06-08 02:00:00|\n",
      "|       71774|            110563|       1|      822|  356.898|              0.0|  356.898|5C77F557-FDB6-43B...|2008-06-01 02:00:00|       71774|             2|2008-06-01 02:00:00|2008-06-13 02:00:00|2008-06-08 02:00:00|     5|          false|         SO71774|        PO348186287|10-4020-000609|     29847|           1092|           1092|CARGO TRANSPORT 5|                  null|880.3484|70.4279|22.0087| 972.785|   null|89E42CDC-8506-48A...|2008-06-08 02:00:00|\n",
      "|       71776|            110567|       1|      907|     63.9|              0.0|     63.9|6DBFE398-D15D-425...|2008-06-01 02:00:00|       71774|             2|2008-06-01 02:00:00|2008-06-13 02:00:00|2008-06-08 02:00:00|     5|          false|         SO71774|        PO348186287|10-4020-000609|     29847|           1092|           1092|CARGO TRANSPORT 5|                  null|880.3484|70.4279|22.0087| 972.785|   null|89E42CDC-8506-48A...|2008-06-08 02:00:00|\n",
      "|       71780|            110616|       4|      905|  218.454|              0.0|  873.816|377246C9-4483-48E...|2008-06-01 02:00:00|       71774|             2|2008-06-01 02:00:00|2008-06-13 02:00:00|2008-06-08 02:00:00|     5|          false|         SO71774|        PO348186287|10-4020-000609|     29847|           1092|           1092|CARGO TRANSPORT 5|                  null|880.3484|70.4279|22.0087| 972.785|   null|89E42CDC-8506-48A...|2008-06-08 02:00:00|\n",
      "|       71780|            110617|       2|      983|  461.694|              0.0|  923.388|43A54BCD-536D-4A1...|2008-06-01 02:00:00|       71774|             2|2008-06-01 02:00:00|2008-06-13 02:00:00|2008-06-08 02:00:00|     5|          false|         SO71774|        PO348186287|10-4020-000609|     29847|           1092|           1092|CARGO TRANSPORT 5|                  null|880.3484|70.4279|22.0087| 972.785|   null|89E42CDC-8506-48A...|2008-06-08 02:00:00|\n",
      "|       71780|            110618|       6|      988|  112.998|              0.4| 406.7928|12706FAB-F3A2-48C...|2008-06-01 02:00:00|       71774|             2|2008-06-01 02:00:00|2008-06-13 02:00:00|2008-06-08 02:00:00|     5|          false|         SO71774|        PO348186287|10-4020-000609|     29847|           1092|           1092|CARGO TRANSPORT 5|                  null|880.3484|70.4279|22.0087| 972.785|   null|89E42CDC-8506-48A...|2008-06-08 02:00:00|\n",
      "|       71780|            110619|       2|      748|    818.7|              0.0|   1637.4|B12F0D3B-5B4E-4F1...|2008-06-01 02:00:00|       71774|             2|2008-06-01 02:00:00|2008-06-13 02:00:00|2008-06-08 02:00:00|     5|          false|         SO71774|        PO348186287|10-4020-000609|     29847|           1092|           1092|CARGO TRANSPORT 5|                  null|880.3484|70.4279|22.0087| 972.785|   null|89E42CDC-8506-48A...|2008-06-08 02:00:00|\n",
      "|       71780|            110620|       1|      990|  323.994|              0.0|  323.994|F117A449-039D-44B...|2008-06-01 02:00:00|       71774|             2|2008-06-01 02:00:00|2008-06-13 02:00:00|2008-06-08 02:00:00|     5|          false|         SO71774|        PO348186287|10-4020-000609|     29847|           1092|           1092|CARGO TRANSPORT 5|                  null|880.3484|70.4279|22.0087| 972.785|   null|89E42CDC-8506-48A...|2008-06-08 02:00:00|\n",
      "|       71780|            110621|       1|      926|  149.874|              0.0|  149.874|92E5052B-72D0-4C9...|2008-06-01 02:00:00|       71774|             2|2008-06-01 02:00:00|2008-06-13 02:00:00|2008-06-08 02:00:00|     5|          false|         SO71774|        PO348186287|10-4020-000609|     29847|           1092|           1092|CARGO TRANSPORT 5|                  null|880.3484|70.4279|22.0087| 972.785|   null|89E42CDC-8506-48A...|2008-06-08 02:00:00|\n",
      "|       71780|            110622|       1|      743|   809.76|              0.0|   809.76|8BD33BED-C4F6-4D4...|2008-06-01 02:00:00|       71774|             2|2008-06-01 02:00:00|2008-06-13 02:00:00|2008-06-08 02:00:00|     5|          false|         SO71774|        PO348186287|10-4020-000609|     29847|           1092|           1092|CARGO TRANSPORT 5|                  null|880.3484|70.4279|22.0087| 972.785|   null|89E42CDC-8506-48A...|2008-06-08 02:00:00|\n",
      "|       71780|            110623|       4|      782| 1376.994|              0.0| 5507.976|686999FB-42E6-4D0...|2008-06-01 02:00:00|       71774|             2|2008-06-01 02:00:00|2008-06-13 02:00:00|2008-06-08 02:00:00|     5|          false|         SO71774|        PO348186287|10-4020-000609|     29847|           1092|           1092|CARGO TRANSPORT 5|                  null|880.3484|70.4279|22.0087| 972.785|   null|89E42CDC-8506-48A...|2008-06-08 02:00:00|\n",
      "|       71780|            110624|       2|      918|   158.43|              0.0|   316.86|82940B03-C70B-418...|2008-06-01 02:00:00|       71774|             2|2008-06-01 02:00:00|2008-06-13 02:00:00|2008-06-08 02:00:00|     5|          false|         SO71774|        PO348186287|10-4020-000609|     29847|           1092|           1092|CARGO TRANSPORT 5|                  null|880.3484|70.4279|22.0087| 972.785|   null|89E42CDC-8506-48A...|2008-06-08 02:00:00|\n",
      "|       71780|            110625|       4|      780| 1391.994|              0.0| 5567.976|644B0CD6-B2C3-4E4...|2008-06-01 02:00:00|       71774|             2|2008-06-01 02:00:00|2008-06-13 02:00:00|2008-06-08 02:00:00|     5|          false|         SO71774|        PO348186287|10-4020-000609|     29847|           1092|           1092|CARGO TRANSPORT 5|                  null|880.3484|70.4279|22.0087| 972.785|   null|89E42CDC-8506-48A...|2008-06-08 02:00:00|\n",
      "|       71780|            110626|       1|      937|   48.594|              0.0|   48.594|7F5FEB17-8EF4-423...|2008-06-01 02:00:00|       71774|             2|2008-06-01 02:00:00|2008-06-13 02:00:00|2008-06-08 02:00:00|     5|          false|         SO71774|        PO348186287|10-4020-000609|     29847|           1092|           1092|CARGO TRANSPORT 5|                  null|880.3484|70.4279|22.0087| 972.785|   null|89E42CDC-8506-48A...|2008-06-08 02:00:00|\n",
      "|       71780|            110627|       6|      867|   41.994|              0.0|  251.964|AC78838D-B503-41A...|2008-06-01 02:00:00|       71774|             2|2008-06-01 02:00:00|2008-06-13 02:00:00|2008-06-08 02:00:00|     5|          false|         SO71774|        PO348186287|10-4020-000609|     29847|           1092|           1092|CARGO TRANSPORT 5|                  null|880.3484|70.4279|22.0087| 972.785|   null|89E42CDC-8506-48A...|2008-06-08 02:00:00|\n",
      "|       71780|            110628|       1|      985|  112.998|              0.4|  67.7988|2C10A282-A13D-442...|2008-06-01 02:00:00|       71774|             2|2008-06-01 02:00:00|2008-06-13 02:00:00|2008-06-08 02:00:00|     5|          false|         SO71774|        PO348186287|10-4020-000609|     29847|           1092|           1092|CARGO TRANSPORT 5|                  null|880.3484|70.4279|22.0087| 972.785|   null|89E42CDC-8506-48A...|2008-06-08 02:00:00|\n",
      "|       71780|            110629|       2|      989|  323.994|              0.0|  647.988|654FB79E-70DF-4B9...|2008-06-01 02:00:00|       71774|             2|2008-06-01 02:00:00|2008-06-13 02:00:00|2008-06-08 02:00:00|     5|          false|         SO71774|        PO348186287|10-4020-000609|     29847|           1092|           1092|CARGO TRANSPORT 5|                  null|880.3484|70.4279|22.0087| 972.785|   null|89E42CDC-8506-48A...|2008-06-08 02:00:00|\n",
      "|       71780|            110630|       3|      991|  323.994|              0.0|  971.982|3D6CA7AB-055E-453...|2008-06-01 02:00:00|       71774|             2|2008-06-01 02:00:00|2008-06-13 02:00:00|2008-06-08 02:00:00|     5|          false|         SO71774|        PO348186287|10-4020-000609|     29847|           1092|           1092|CARGO TRANSPORT 5|                  null|880.3484|70.4279|22.0087| 972.785|   null|89E42CDC-8506-48A...|2008-06-08 02:00:00|\n",
      "|       71780|            110631|       1|      992|  323.994|              0.0|  323.994|560FEEE1-DD54-4C3...|2008-06-01 02:00:00|       71774|             2|2008-06-01 02:00:00|2008-06-13 02:00:00|2008-06-08 02:00:00|     5|          false|         SO71774|        PO348186287|10-4020-000609|     29847|           1092|           1092|CARGO TRANSPORT 5|                  null|880.3484|70.4279|22.0087| 972.785|   null|89E42CDC-8506-48A...|2008-06-08 02:00:00|\n",
      "|       71780|            110632|       2|      993|  323.994|              0.0|  647.988|19570052-4023-465...|2008-06-01 02:00:00|       71774|             2|2008-06-01 02:00:00|2008-06-13 02:00:00|2008-06-08 02:00:00|     5|          false|         SO71774|        PO348186287|10-4020-000609|     29847|           1092|           1092|CARGO TRANSPORT 5|                  null|880.3484|70.4279|22.0087| 972.785|   null|89E42CDC-8506-48A...|2008-06-08 02:00:00|\n",
      "+------------+------------------+--------+---------+---------+-----------------+---------+--------------------+-------------------+------------+--------------+-------------------+-------------------+-------------------+------+---------------+----------------+-------------------+--------------+----------+---------------+---------------+-----------------+----------------------+--------+-------+-------+--------+-------+--------------------+-------------------+\n",
      "only showing top 20 rows\n",
      "\n",
      "+------------+------------------+--------+---------+---------+-----------------+---------+--------------------+-------------------+------------+--------------+-------------------+-------------------+-------------------+------+---------------+----------------+-------------------+--------------+----------+---------------+---------------+-----------------+----------------------+-----------+---------+---------+----------+-------+--------------------+-------------------+\n",
      "|SalesOrderID|SalesOrderDetailID|OrderQty|ProductID|UnitPrice|UnitPriceDiscount|LineTotal|             rowguid|       ModifiedDate|SalesOrderID|RevisionNumber|          OrderDate|            DueDate|           ShipDate|Status|OnlineOrderFlag|SalesOrderNumber|PurchaseOrderNumber| AccountNumber|CustomerID|ShipToAddressID|BillToAddressID|       ShipMethod|CreditCardApprovalCode|   SubTotal|   TaxAmt|  Freight|  TotalDue|Comment|             rowguid|       ModifiedDate|\n",
      "+------------+------------------+--------+---------+---------+-----------------+---------+--------------------+-------------------+------------+--------------+-------------------+-------------------+-------------------+------+---------------+----------------+-------------------+--------------+----------+---------------+---------------+-----------------+----------------------+-----------+---------+---------+----------+-------+--------------------+-------------------+\n",
      "|       71774|            110562|       1|      836|  356.898|              0.0|  356.898|E3A1994C-7A68-4CE...|2008-06-01 02:00:00|       71774|             2|2008-06-01 02:00:00|2008-06-13 02:00:00|2008-06-08 02:00:00|     5|          false|         SO71774|        PO348186287|10-4020-000609|     29847|           1092|           1092|CARGO TRANSPORT 5|                  null|   880.3484|  70.4279|  22.0087|   972.785|   null|89E42CDC-8506-48A...|2008-06-08 02:00:00|\n",
      "|       71774|            110562|       1|      836|  356.898|              0.0|  356.898|E3A1994C-7A68-4CE...|2008-06-01 02:00:00|       71776|             2|2008-06-01 02:00:00|2008-06-13 02:00:00|2008-06-08 02:00:00|     5|          false|         SO71776|      PO19952192051|10-4020-000106|     30072|            640|            640|CARGO TRANSPORT 5|                  null|      78.81|   6.3048|   1.9703|   87.0851|   null|8A3448C5-E677-415...|2008-06-08 02:00:00|\n",
      "|       71774|            110562|       1|      836|  356.898|              0.0|  356.898|E3A1994C-7A68-4CE...|2008-06-01 02:00:00|       71780|             2|2008-06-01 02:00:00|2008-06-13 02:00:00|2008-06-08 02:00:00|     5|          false|         SO71780|      PO19604173239|10-4020-000340|     30113|            653|            653|CARGO TRANSPORT 5|                  null| 38418.6895|3073.4952| 960.4672|42452.6519|   null|A47665D2-7AC9-4CF...|2008-06-08 02:00:00|\n",
      "|       71774|            110562|       1|      836|  356.898|              0.0|  356.898|E3A1994C-7A68-4CE...|2008-06-01 02:00:00|       71782|             2|2008-06-01 02:00:00|2008-06-13 02:00:00|2008-06-08 02:00:00|     5|          false|         SO71782|      PO19372114749|10-4020-000582|     29485|           1086|           1086|CARGO TRANSPORT 5|                  null| 39785.3304|3182.8264| 994.6333|43962.7901|   null|F1BE45A5-5C57-4A5...|2008-06-08 02:00:00|\n",
      "|       71774|            110562|       1|      836|  356.898|              0.0|  356.898|E3A1994C-7A68-4CE...|2008-06-01 02:00:00|       71783|             2|2008-06-01 02:00:00|2008-06-13 02:00:00|2008-06-08 02:00:00|     5|          false|         SO71783|      PO19343113609|10-4020-000024|     29957|            992|            992|CARGO TRANSPORT 5|                  null| 83858.4261|6708.6741|2096.4607|92663.5609|   null|7DB2329E-6446-42A...|2008-06-08 02:00:00|\n",
      "|       71774|            110562|       1|      836|  356.898|              0.0|  356.898|E3A1994C-7A68-4CE...|2008-06-01 02:00:00|       71784|             2|2008-06-01 02:00:00|2008-06-13 02:00:00|2008-06-08 02:00:00|     5|          false|         SO71784|      PO19285135919|10-4020-000448|     29736|            659|            659|CARGO TRANSPORT 5|                  null|108561.8317|8684.9465|2714.0458|119960.824|   null|CA31F324-2C32-4F8...|2008-06-08 02:00:00|\n",
      "|       71774|            110562|       1|      836|  356.898|              0.0|  356.898|E3A1994C-7A68-4CE...|2008-06-01 02:00:00|       71796|             2|2008-06-01 02:00:00|2008-06-13 02:00:00|2008-06-08 02:00:00|     5|          false|         SO71796|      PO17052159664|10-4020-000420|     29660|           1058|           1058|CARGO TRANSPORT 5|                  null| 57634.6342|4610.7707|1440.8659|63686.2708|   null|917EF5BA-F32D-456...|2008-06-08 02:00:00|\n",
      "|       71774|            110562|       1|      836|  356.898|              0.0|  356.898|E3A1994C-7A68-4CE...|2008-06-01 02:00:00|       71797|             2|2008-06-01 02:00:00|2008-06-13 02:00:00|2008-06-08 02:00:00|     5|          false|         SO71797|      PO16501134889|10-4020-000142|     29796|            642|            642|CARGO TRANSPORT 5|                  null| 78029.6898|6242.3752|1950.7422|86222.8072|   null|BB3FEE84-C8BF-4DD...|2008-06-08 02:00:00|\n",
      "|       71774|            110562|       1|      836|  356.898|              0.0|  356.898|E3A1994C-7A68-4CE...|2008-06-01 02:00:00|       71815|             2|2008-06-01 02:00:00|2008-06-13 02:00:00|2008-06-08 02:00:00|     5|          false|         SO71815|      PO13021155785|10-4020-000276|     30089|           1034|           1034|CARGO TRANSPORT 5|                  null|  1141.5782|  91.3263|  28.5395|  1261.444|   null|2AA5F39B-1096-4A4...|2008-06-08 02:00:00|\n",
      "|       71774|            110562|       1|      836|  356.898|              0.0|  356.898|E3A1994C-7A68-4CE...|2008-06-01 02:00:00|       71816|             2|2008-06-01 02:00:00|2008-06-13 02:00:00|2008-06-08 02:00:00|     5|          false|         SO71816|      PO12992180445|10-4020-000295|     30027|           1038|           1038|CARGO TRANSPORT 5|                  null|  3398.1659| 271.8533|  84.9541| 3754.9733|   null|E3C189E7-98DE-4C4...|2008-06-08 02:00:00|\n",
      "|       71774|            110562|       1|      836|  356.898|              0.0|  356.898|E3A1994C-7A68-4CE...|2008-06-01 02:00:00|       71831|             2|2008-06-01 02:00:00|2008-06-13 02:00:00|2008-06-08 02:00:00|     5|          false|         SO71831|      PO10295111084|10-4020-000322|     30019|            652|            652|CARGO TRANSPORT 5|                  null|  2016.3408| 161.3073|  50.4085| 2228.0566|   null|625D76FC-C26F-414...|2008-06-08 02:00:00|\n",
      "|       71774|            110562|       1|      836|  356.898|              0.0|  356.898|E3A1994C-7A68-4CE...|2008-06-01 02:00:00|       71832|             2|2008-06-01 02:00:00|2008-06-13 02:00:00|2008-06-08 02:00:00|     5|          false|         SO71832|      PO10353140756|10-4020-000088|     29922|            639|            639|CARGO TRANSPORT 5|                  null| 35775.2113|2862.0169| 894.3803|39531.6085|   null|ADDB8620-432A-456...|2008-06-08 02:00:00|\n",
      "|       71774|            110562|       1|      836|  356.898|              0.0|  356.898|E3A1994C-7A68-4CE...|2008-06-01 02:00:00|       71845|             2|2008-06-01 02:00:00|2008-06-13 02:00:00|2008-06-08 02:00:00|     5|          false|         SO71845|       PO2697119362|10-4020-000187|     29938|           1020|           1020|CARGO TRANSPORT 5|                  null| 41622.0511|3329.7641|1040.5513|45992.3665|   null|E68F7EE9-C581-45C...|2008-06-08 02:00:00|\n",
      "|       71774|            110562|       1|      836|  356.898|              0.0|  356.898|E3A1994C-7A68-4CE...|2008-06-01 02:00:00|       71846|             2|2008-06-01 02:00:00|2008-06-13 02:00:00|2008-06-08 02:00:00|     5|          false|         SO71846|       PO2378131604|10-4020-000635|     30102|            669|            669|CARGO TRANSPORT 5|                  null|  2453.7645| 196.3012|  61.3441| 2711.4098|   null|A86D90AD-D1C0-440...|2008-06-08 02:00:00|\n",
      "|       71774|            110562|       1|      836|  356.898|              0.0|  356.898|E3A1994C-7A68-4CE...|2008-06-01 02:00:00|       71856|             2|2008-06-01 02:00:00|2008-06-13 02:00:00|2008-06-08 02:00:00|     5|          false|         SO71856|      PO16530177647|10-4020-000601|     30033|           1090|           1090|CARGO TRANSPORT 5|                  null|   602.1946|  48.1756|  15.0549|  665.4251|   null|05FEE073-0640-4A3...|2008-06-08 02:00:00|\n",
      "|       71774|            110562|       1|      836|  356.898|              0.0|  356.898|E3A1994C-7A68-4CE...|2008-06-01 02:00:00|       71858|             2|2008-06-01 02:00:00|2008-06-13 02:00:00|2008-06-08 02:00:00|     5|          false|         SO71858|      PO16153112278|10-4020-000186|     29653|           1019|           1019|CARGO TRANSPORT 5|                  null| 13823.7083|1105.8967| 345.5927|15275.1977|   null|5EF091E1-A0AF-437...|2008-06-08 02:00:00|\n",
      "|       71774|            110562|       1|      836|  356.898|              0.0|  356.898|E3A1994C-7A68-4CE...|2008-06-01 02:00:00|       71863|             2|2008-06-01 02:00:00|2008-06-13 02:00:00|2008-06-08 02:00:00|     5|          false|         SO71863|      PO16124166561|10-4020-000649|     29975|           1098|           1098|CARGO TRANSPORT 5|                  null|  3324.2759| 265.9421|  83.1069| 3673.3249|   null|3ED03B56-A4BF-487...|2008-06-08 02:00:00|\n",
      "|       71774|            110562|       1|      836|  356.898|              0.0|  356.898|E3A1994C-7A68-4CE...|2008-06-01 02:00:00|       71867|             2|2008-06-01 02:00:00|2008-06-13 02:00:00|2008-06-08 02:00:00|     5|          false|         SO71867|      PO13050111529|10-4020-000160|     29644|            643|            643|CARGO TRANSPORT 5|                  null|    1059.31|  84.7448|  26.4828| 1170.5376|   null|29743C1B-D3AF-4CF...|2008-06-08 02:00:00|\n",
      "|       71774|            110562|       1|      836|  356.898|              0.0|  356.898|E3A1994C-7A68-4CE...|2008-06-01 02:00:00|       71885|             2|2008-06-01 02:00:00|2008-06-13 02:00:00|2008-06-08 02:00:00|     5|          false|         SO71885|       PO6119130779|10-4020-000268|     29612|            649|            649|CARGO TRANSPORT 5|                  null|    550.386|  44.0309|  13.7597|  608.1766|   null|CAAD090D-56A6-444...|2008-06-08 02:00:00|\n",
      "|       71774|            110562|       1|      836|  356.898|              0.0|  356.898|E3A1994C-7A68-4CE...|2008-06-01 02:00:00|       71895|             2|2008-06-01 02:00:00|2008-06-13 02:00:00|2008-06-08 02:00:00|     5|          false|         SO71895|       PO3770176273|10-4020-000151|     29584|           1014|           1014|CARGO TRANSPORT 5|                  null|   246.7392|  19.7391|   6.1685|  272.6468|   null|07A17C0A-7F9A-441...|2008-06-08 02:00:00|\n",
      "+------------+------------------+--------+---------+---------+-----------------+---------+--------------------+-------------------+------------+--------------+-------------------+-------------------+-------------------+------+---------------+----------------+-------------------+--------------+----------+---------------+---------------+-----------------+----------------------+-----------+---------+---------+----------+-------+--------------------+-------------------+\n",
      "only showing top 20 rows\n",
      "\n",
      "+------------+------------------+--------+---------+---------+-----------------+---------+--------------------+-------------------+\n",
      "|SalesOrderID|SalesOrderDetailID|OrderQty|ProductID|UnitPrice|UnitPriceDiscount|LineTotal|             rowguid|       ModifiedDate|\n",
      "+------------+------------------+--------+---------+---------+-----------------+---------+--------------------+-------------------+\n",
      "|       71774|            110562|       1|      836|  356.898|              0.0|  356.898|E3A1994C-7A68-4CE...|2008-06-01 02:00:00|\n",
      "|       71774|            110563|       1|      822|  356.898|              0.0|  356.898|5C77F557-FDB6-43B...|2008-06-01 02:00:00|\n",
      "|       71776|            110567|       1|      907|     63.9|              0.0|     63.9|6DBFE398-D15D-425...|2008-06-01 02:00:00|\n",
      "|       71780|            110616|       4|      905|  218.454|              0.0|  873.816|377246C9-4483-48E...|2008-06-01 02:00:00|\n",
      "|       71780|            110617|       2|      983|  461.694|              0.0|  923.388|43A54BCD-536D-4A1...|2008-06-01 02:00:00|\n",
      "|       71780|            110618|       6|      988|  112.998|              0.4| 406.7928|12706FAB-F3A2-48C...|2008-06-01 02:00:00|\n",
      "|       71780|            110619|       2|      748|    818.7|              0.0|   1637.4|B12F0D3B-5B4E-4F1...|2008-06-01 02:00:00|\n",
      "|       71780|            110620|       1|      990|  323.994|              0.0|  323.994|F117A449-039D-44B...|2008-06-01 02:00:00|\n",
      "|       71780|            110621|       1|      926|  149.874|              0.0|  149.874|92E5052B-72D0-4C9...|2008-06-01 02:00:00|\n",
      "|       71780|            110622|       1|      743|   809.76|              0.0|   809.76|8BD33BED-C4F6-4D4...|2008-06-01 02:00:00|\n",
      "|       71780|            110623|       4|      782| 1376.994|              0.0| 5507.976|686999FB-42E6-4D0...|2008-06-01 02:00:00|\n",
      "|       71780|            110624|       2|      918|   158.43|              0.0|   316.86|82940B03-C70B-418...|2008-06-01 02:00:00|\n",
      "|       71780|            110625|       4|      780| 1391.994|              0.0| 5567.976|644B0CD6-B2C3-4E4...|2008-06-01 02:00:00|\n",
      "|       71780|            110626|       1|      937|   48.594|              0.0|   48.594|7F5FEB17-8EF4-423...|2008-06-01 02:00:00|\n",
      "|       71780|            110627|       6|      867|   41.994|              0.0|  251.964|AC78838D-B503-41A...|2008-06-01 02:00:00|\n",
      "|       71780|            110628|       1|      985|  112.998|              0.4|  67.7988|2C10A282-A13D-442...|2008-06-01 02:00:00|\n",
      "|       71780|            110629|       2|      989|  323.994|              0.0|  647.988|654FB79E-70DF-4B9...|2008-06-01 02:00:00|\n",
      "|       71780|            110630|       3|      991|  323.994|              0.0|  971.982|3D6CA7AB-055E-453...|2008-06-01 02:00:00|\n",
      "|       71780|            110631|       1|      992|  323.994|              0.0|  323.994|560FEEE1-DD54-4C3...|2008-06-01 02:00:00|\n",
      "|       71780|            110632|       2|      993|  323.994|              0.0|  647.988|19570052-4023-465...|2008-06-01 02:00:00|\n",
      "+------------+------------------+--------+---------+---------+-----------------+---------+--------------------+-------------------+\n",
      "only showing top 20 rows\n",
      "\n",
      "+------------+------------------+--------+---------+---------+-----------------+---------+-------+------------+\n",
      "|SalesOrderID|SalesOrderDetailID|OrderQty|ProductID|UnitPrice|UnitPriceDiscount|LineTotal|rowguid|ModifiedDate|\n",
      "+------------+------------------+--------+---------+---------+-----------------+---------+-------+------------+\n",
      "+------------+------------------+--------+---------+---------+-----------------+---------+-------+------------+\n",
      "\n"
     ]
    }
   ],
   "source": [
    "for df in dataframes:\n",
    "    df.show()"
   ],
   "metadata": {
    "collapsed": false,
    "ExecuteTime": {
     "start_time": "2023-04-18T20:38:39.581334Z",
     "end_time": "2023-04-18T20:38:40.261205Z"
    }
   }
  },
  {
   "cell_type": "markdown",
   "source": [
    "### Cleaning"
   ],
   "metadata": {
    "collapsed": false
   }
  },
  {
   "cell_type": "code",
   "execution_count": 72,
   "outputs": [],
   "source": [
    "del df_detail\n",
    "del df_header\n",
    "\n",
    "del df_join_left_anti\n",
    "del df_join_left\n",
    "del df_join_left_semi\n",
    "del df_join_outer\n",
    "del df_join_inner\n",
    "del df_join_right\n",
    "\n",
    "del dataframes"
   ],
   "metadata": {
    "collapsed": false,
    "ExecuteTime": {
     "start_time": "2023-04-18T20:39:39.806250Z",
     "end_time": "2023-04-18T20:39:39.832570Z"
    }
   }
  },
  {
   "cell_type": "markdown",
   "source": [
    "# Zadanie 2"
   ],
   "metadata": {
    "collapsed": false
   }
  },
  {
   "cell_type": "markdown",
   "source": [
    "### Loading data"
   ],
   "metadata": {
    "collapsed": false
   }
  },
  {
   "cell_type": "code",
   "execution_count": 7,
   "outputs": [],
   "source": [
    "df_detail = spark.read.format(\"csv\").option(\"header\", \"true\").option(\"inferSchema\", \"true\").load(detail_path)\n",
    "df_header = spark.read.format(\"csv\").option(\"header\", \"true\").option(\"inferSchema\", \"true\").load(header_path)\n",
    "df_address = spark.read.format(\"csv\").option(\"header\", \"true\").option(\"inferSchema\", \"true\").load(address_path)\n",
    "df_customer_address = spark.read.format(\"csv\").option(\"header\", \"true\").option(\"inferSchema\", \"true\").load(customer_address_path)\n",
    "df_customer = spark.read.format(\"csv\").option(\"header\", \"true\").option(\"inferSchema\", \"true\").load(customer_path)\n",
    "df_product = spark.read.format(\"csv\").option(\"header\", \"true\").option(\"inferSchema\", \"true\").load(product_path)\n",
    "df_description = spark.read.format(\"csv\").option(\"header\", \"true\").option(\"inferSchema\", \"true\").load(product_description_path)\n",
    "df_model = spark.read.format(\"csv\").option(\"header\", \"true\").option(\"inferSchema\", \"true\").load(product_model_path)\n",
    "df_model_description = spark.read.format(\"csv\").option(\"header\", \"true\").option(\"inferSchema\", \"true\").load(product_model_description_path)"
   ],
   "metadata": {
    "collapsed": false,
    "ExecuteTime": {
     "start_time": "2023-04-18T21:58:31.341877Z",
     "end_time": "2023-04-18T21:58:35.477319Z"
    }
   }
  },
  {
   "cell_type": "code",
   "execution_count": 8,
   "outputs": [
    {
     "name": "stdout",
     "output_type": "stream",
     "text": [
      "['ProductID', 'Name', 'ProductNumber', 'Color', 'StandardCost', 'ListPrice', 'Size', 'Weight', 'ProductCategoryID', 'ProductModelID', 'SellStartDate', 'SellEndDate', 'DiscontinuedDate', 'ThumbNailPhoto', 'ThumbnailPhotoFileName', 'rowguid', 'ModifiedDate']\n",
      "['ProductModelID', 'Name', 'CatalogDescription', 'rowguid', 'ModifiedDate']\n"
     ]
    }
   ],
   "source": [
    "print(df_product.columns)\n",
    "print(df_model.columns)"
   ],
   "metadata": {
    "collapsed": false,
    "ExecuteTime": {
     "start_time": "2023-04-18T21:58:36.626310Z",
     "end_time": "2023-04-18T21:58:36.637645Z"
    }
   }
  },
  {
   "cell_type": "code",
   "execution_count": 10,
   "outputs": [
    {
     "name": "stdout",
     "output_type": "stream",
     "text": [
      "23/04/18 21:59:34 WARN Column: Constructing trivially true equals predicate, 'SalesOrderID#17 = SalesOrderID#17'. Perhaps you need to use aliases.\n"
     ]
    }
   ],
   "source": [
    "sales_join_expr = df_detail[\"SalesOrderID\"] == df_detail[\"SalesOrderID\"]\n",
    "customers_join_expr = df_address[\"AddressID\"] == df_customer_address[\"AddressID\"]\n",
    "products_join_expr = df_product[\"ProductModelID\"] == df_model[\"ProductModelID\"]"
   ],
   "metadata": {
    "collapsed": false,
    "ExecuteTime": {
     "start_time": "2023-04-18T21:59:34.715139Z",
     "end_time": "2023-04-18T21:59:34.728546Z"
    }
   }
  },
  {
   "cell_type": "markdown",
   "source": [
    "## Joining Tables with duplicate column drop"
   ],
   "metadata": {
    "collapsed": false
   }
  },
  {
   "cell_type": "code",
   "execution_count": 13,
   "outputs": [],
   "source": [
    "df_sales = df_detail.join(df_header, sales_join_expr).drop(df_detail[\"SalesOrderID\"])\n",
    "df_customers = df_address.join(df_customer_address, customers_join_expr).drop(df_address[\"AddressID\"])\n",
    "df_products = df_product.join(df_model, products_join_expr).drop(df_product[\"ProductModelID\"])"
   ],
   "metadata": {
    "collapsed": false,
    "ExecuteTime": {
     "start_time": "2023-04-18T22:01:59.588530Z",
     "end_time": "2023-04-18T22:01:59.637810Z"
    }
   }
  },
  {
   "cell_type": "code",
   "execution_count": 14,
   "outputs": [
    {
     "data": {
      "text/plain": "['SalesOrderDetailID',\n 'OrderQty',\n 'ProductID',\n 'UnitPrice',\n 'UnitPriceDiscount',\n 'LineTotal',\n 'rowguid',\n 'ModifiedDate',\n 'SalesOrderID',\n 'RevisionNumber',\n 'OrderDate',\n 'DueDate',\n 'ShipDate',\n 'Status',\n 'OnlineOrderFlag',\n 'SalesOrderNumber',\n 'PurchaseOrderNumber',\n 'AccountNumber',\n 'CustomerID',\n 'ShipToAddressID',\n 'BillToAddressID',\n 'ShipMethod',\n 'CreditCardApprovalCode',\n 'SubTotal',\n 'TaxAmt',\n 'Freight',\n 'TotalDue',\n 'Comment',\n 'rowguid',\n 'ModifiedDate']"
     },
     "execution_count": 14,
     "metadata": {},
     "output_type": "execute_result"
    }
   ],
   "source": [
    "df_sales.columns"
   ],
   "metadata": {
    "collapsed": false,
    "ExecuteTime": {
     "start_time": "2023-04-18T22:02:00.198714Z",
     "end_time": "2023-04-18T22:02:00.248019Z"
    }
   }
  },
  {
   "cell_type": "markdown",
   "source": [],
   "metadata": {
    "collapsed": false
   }
  },
  {
   "cell_type": "code",
   "execution_count": 15,
   "outputs": [],
   "source": [
    "spark.stop()"
   ],
   "metadata": {
    "collapsed": false,
    "ExecuteTime": {
     "start_time": "2023-04-18T22:02:43.496952Z",
     "end_time": "2023-04-18T22:02:44.001611Z"
    }
   }
  },
  {
   "cell_type": "code",
   "execution_count": null,
   "outputs": [],
   "source": [],
   "metadata": {
    "collapsed": false
   }
  }
 ],
 "metadata": {
  "application/vnd.databricks.v1+notebook": {
   "notebookName": "Cwiczenia_6",
   "dashboards": [],
   "notebookMetadata": {
    "pythonIndentUnit": 4
   },
   "language": "python",
   "widgets": {},
   "notebookOrigID": 3899664842910430
  },
  "kernelspec": {
   "name": "python3",
   "language": "python",
   "display_name": "Python 3 (ipykernel)"
  }
 },
 "nbformat": 4,
 "nbformat_minor": 0
}
